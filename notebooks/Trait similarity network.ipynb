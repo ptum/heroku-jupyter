{
 "cells": [
  {
   "cell_type": "code",
   "execution_count": 2,
   "metadata": {
    "collapsed": true,
    "extensions": {
     "jupyter_dashboards": {
      "version": 1,
      "views": {
       "grid_default": {
        "hidden": true
       },
       "report_default": {
        "hidden": true
       }
      }
     }
    }
   },
   "outputs": [],
   "source": [
    "import csv\n",
    "import pandas as pd\n",
    "from ipywidgets import widgets\n",
    "from IPython.display import display\n",
    "from ipywidgets import interactive,interact\n",
    "import plotly.figure_factory as ff\n",
    "import plotly.plotly as py\n",
    "\n",
    "### read in modules\n",
    "import csv\n",
    "L = csv.reader(open('SC1_sig_modules_22122016.txt','rU'),delimiter='\\t')\n",
    "sig_modules={}\n",
    "for r in L:\n",
    "    teamID=int(r[0])\n",
    "    if teamID not in sig_modules:\n",
    "        sig_modules[teamID]={}\n",
    "    if r[2] not in sig_modules[teamID]:\n",
    "        sig_modules[teamID][r[2]]={}\n",
    "    sig_modules[teamID][r[2]][int(r[3])]=r[4:]\n",
    "\n",
    "### list of sig modules \n",
    "df =pd.read_csv('SC1_sig_module_gwas_cat_14032017.txt')\n",
    "\n",
    "### read in networks and make a esgelist of all\n",
    "import networkx as nx\n",
    "import os\n",
    "# G= nx.read_edgelist('networks/3_signal_omnipath_directed.txt',delimiter='\\t',data=(('weight',float),))\n",
    "G=nx.Graph()\n",
    "for f in os.listdir('networks/'):\n",
    "    if f.endswith('.txt'):\n",
    "        g= nx.read_edgelist('networks/'+f,delimiter='\\t',data=(('weight',float),))\n",
    "        G.add_edges_from(g.edges(data=True))\n",
    "\n"
   ]
  },
  {
   "cell_type": "code",
   "execution_count": 3,
   "metadata": {
    "collapsed": true,
    "extensions": {
     "jupyter_dashboards": {
      "version": 1,
      "views": {
       "grid_default": {
        "hidden": true
       },
       "report_default": {
        "hidden": true
       }
      }
     }
    }
   },
   "outputs": [],
   "source": [
    "### gene score & gene sig or not < 10-8\n",
    "path_to_gene_scores= '/Users/schoobdar/Documents/DreamChallenge/code/baselines/PASCAL_geneScore_precomputed/gwas_collection_dmi_vitalit/gene_scores/16-08-10_leaderboardFinal_sum/scores/'\n",
    "gwas_list =[]\n",
    "L = csv.reader(open('gwas_final_v1.txt','rU'),delimiter=',') \n",
    "for i in L:\n",
    "    a ='.'.join( i[0].split('.')[:-2])\n",
    "    gwas_list.append(a)\n",
    "L = csv.reader(open('gwas_leaderboard_v2.txt','rU'),delimiter=',')\n",
    "for i in L:\n",
    "    a ='.'.join( i[0].split('.')[:-2])\n",
    "    gwas_list.append(a)\n",
    "gene_scores ={}\n",
    "for i in xrange(len(gwas_list)):\n",
    "    p = gwas_list[i]\n",
    "    gene_scores[p]={}\n",
    "    gene_file = os.path.basename(p) + \".sum.genescores.txt\"\n",
    "    L = csv.reader(open(os.path.join(path_to_gene_scores,gene_file), 'rU'), delimiter='\\t')\n",
    "    L.next()\n",
    "    for a in L:\n",
    "        geneID =str.upper(a[4])\n",
    "        gene_scores[p][geneID]=float(a[-2])\n"
   ]
  },
  {
   "cell_type": "code",
   "execution_count": 4,
   "metadata": {
    "collapsed": true,
    "extensions": {
     "jupyter_dashboards": {
      "version": 1,
      "views": {
       "grid_default": {
        "col": 8,
        "height": 5,
        "hidden": false,
        "row": 85,
        "width": 4
       },
       "report_default": {
        "hidden": false
       }
      }
     }
    }
   },
   "outputs": [],
   "source": [
    "### with lightning\n",
    "\n",
    "import os\n",
    "from lightning import Lightning\n",
    "\n",
    "from numpy import random, asarray, linspace, corrcoef\n",
    "from colorsys import hsv_to_rgb\n",
    "from sklearn import datasets\n",
    "import networkx as nx\n",
    "\n",
    "def plot_net_1(g,scores):\n",
    "    lgn = Lightning(ipython=True, local='http://public.lightning-viz.org')\n",
    "    mat = nx.adjacency_matrix(g).todense()\n",
    "    labels = [str(u[0]) for u in g.nodes(data=True)]\n",
    "    d = g.degree().values()\n",
    "    return lgn.force(mat, group=scores,size=(asarray(d) + 1.5)*1,labels=labels)"
   ]
  },
  {
   "cell_type": "code",
   "execution_count": 5,
   "metadata": {
    "collapsed": true,
    "extensions": {
     "jupyter_dashboards": {
      "version": 1,
      "views": {
       "grid_default": {
        "hidden": true
       },
       "report_default": {
        "hidden": true
       }
      }
     }
    }
   },
   "outputs": [],
   "source": [
    "import plotly.plotly as py\n",
    "from plotly.graph_objs import *\n",
    "import numpy as np\n",
    "def plot_net(g,colors,gs_name):\n",
    "    pos=nx.fruchterman_reingold_layout(g)\n",
    "    N = nx.number_of_nodes(g)\n",
    "    labels = [str(u[0]) for u in g.nodes(data=True)]\n",
    "    d = g.degree().values()\n",
    "    \n",
    "    Xv=[pos[k][0] for k in g.nodes()]\n",
    "    Yv=[pos[k][1] for k in g.nodes()]\n",
    "    Xed=[]\n",
    "    Yed=[]\n",
    "    for edge in nx.edges(g):\n",
    "        Xed+=[pos[edge[0]][0],pos[edge[1]][0], None]\n",
    "        Yed+=[pos[edge[0]][1],pos[edge[1]][1], None] \n",
    "\n",
    "    ### plotting setting\n",
    "\n",
    "    trace3=Scatter(x=Xed,\n",
    "                   y=Yed,\n",
    "                   mode='lines',\n",
    "                   line=Line(color='rgb(210,210,210)', width=1),\n",
    "                   hoverinfo='none'\n",
    "                   )\n",
    "\n",
    "    trace4=Scatter(x=Xv,\n",
    "                   y=Yv,\n",
    "                   mode='markers',\n",
    "                   name='net',\n",
    "                   marker=Marker(symbol='dot',\n",
    "                                 size=20,#(asarray(d) + 2)*1, \n",
    "                                 color=colors,\n",
    "                                  colorscale='Viridis',\n",
    "                                  showscale=True,\n",
    "                                  colorbar = dict(\n",
    "                                             title = 'Gene association, -log(pvalue)',\n",
    "                                             titleside = 'top',\n",
    "                                             tickmode = 'array',\n",
    "#                                              ticktext = color_map.keys(),\n",
    "#                                              tickvals = list(set(colors)),\n",
    "                                             ticks = 'outside'\n",
    "                                         ),\n",
    "                                 line=Line(color='rgb(50,50,50)', width=0.5)\n",
    "                                 ),\n",
    "                   text=labels,\n",
    "                   hoverinfo='text'\n",
    "                   )\n",
    "\n",
    "    annot=\"Size of nodes is proportional to gene degree in the network.\"\n",
    "\n",
    "    axis=dict(showline=False, # hide axis line, grid, ticklabels and  title\n",
    "              zeroline=False,\n",
    "              showgrid=False,\n",
    "              showticklabels=False,\n",
    "              title='' \n",
    "              )\n",
    "\n",
    "    width=800\n",
    "    height=800\n",
    "    layout=Layout(title= gs_name +\" trait module\",  \n",
    "        font= Font(size=12),\n",
    "        showlegend=False,\n",
    "        autosize=False,\n",
    "        width=width,\n",
    "        height=height,\n",
    "        xaxis=XAxis(axis),\n",
    "        yaxis=YAxis(axis),          \n",
    "        margin=Margin(\n",
    "            l=40,\n",
    "            r=40,\n",
    "            b=85,\n",
    "            t=100,\n",
    "        ),\n",
    "        hovermode='closest',\n",
    "        annotations=Annotations([\n",
    "               Annotation(\n",
    "               showarrow=False, \n",
    "                text='This igraph.Graph has the Kamada-Kawai layout',  \n",
    "                xref='paper',     \n",
    "                yref='paper',     \n",
    "                x=0,  \n",
    "                y=-0.1,  \n",
    "                xanchor='left',   \n",
    "                yanchor='bottom',  \n",
    "                font=Font(\n",
    "                size=14 \n",
    "                )     \n",
    "                )\n",
    "            ]),           \n",
    "        )\n",
    "\n",
    "    data1=Data([trace3, trace4])\n",
    "    fig1=Figure(data=data1, layout=layout)\n",
    "    fig1['layout']['annotations'][0]['text']=annot\n",
    "    return py.iplot(fig1, filename='trait-module-nx')\n"
   ]
  },
  {
   "cell_type": "code",
   "execution_count": 6,
   "metadata": {
    "extensions": {
     "jupyter_dashboards": {
      "version": 1,
      "views": {
       "grid_default": {
        "col": 0,
        "height": 28,
        "hidden": false,
        "row": 0,
        "width": 12
       },
       "report_default": {
        "hidden": true
       }
      }
     }
    }
   },
   "outputs": [
    {
     "data": {
      "text/html": [
       "<iframe id=\"igraph\" scrolling=\"no\" style=\"border:none;\" seamless=\"seamless\" src=\"https://plot.ly/~sarvenaz/10.embed\" height=\"800px\" width=\"800px\"></iframe>"
      ],
      "text/plain": [
       "<plotly.tools.PlotlyDisplay object>"
      ]
     },
     "execution_count": 6,
     "metadata": {},
     "output_type": "execute_result"
    }
   ],
   "source": [
    "import networkx as nx\n",
    "import plotly.plotly as py\n",
    "from plotly.graph_objs import *\n",
    "\n",
    "\n",
    "def trait_sim_graph():\n",
    "    g = nx.read_graphml('trait_similarity_network.graphml')\n",
    "    pos=nx.fruchterman_reingold_layout(g)\n",
    "    N = nx.number_of_nodes(g)\n",
    "    labels = [str(u[1]['name']) for u in g.nodes(data=True)]\n",
    "\n",
    "    Xv=[pos['n'+str(k)][0] for k in range(N)]\n",
    "    Yv=[pos['n'+str(k)][1] for k in range(N)]\n",
    "    Xed=[]\n",
    "    Yed=[]\n",
    "    for edge in nx.edges(g):\n",
    "        Xed+=[pos[edge[0]][0],pos[edge[1]][0], None]\n",
    "        Yed+=[pos[edge[0]][1],pos[edge[1]][1], None] \n",
    "    import csv\n",
    "    L= csv.reader(open('gwasCollection_dream11_traitGroups.txt','rU'),delimiter='\\t')\n",
    "    \n",
    "    L.next()\n",
    "    gwas_categories = {}\n",
    "    for i in L:\n",
    "        gwas_categories[i[5]]= i[1]\n",
    "    gcat = {}\n",
    "    for u in g.nodes():\n",
    "        gcat[u]=gwas_categories[g.node[u]['name']] if g.node[u]['name'] in gwas_categories else None\n",
    "    nx.set_node_attributes(g,'cat',gcat)\n",
    "\n",
    "    rgb_colors = ['rgb(107,142,35)','rgb(0,206,209)','rgb(93, 164, 214)', 'rgb(255, 144, 14)',  'rgb(44, 160, 101)', 'rgb(255, 65, 54)','rgb(128,0,0)','rgb(255,215,0)','rgb(0,0,0)']\n",
    "    color_map = { list(set(gwas_categories.values()))[i]:rgb_colors[i] for i in range(len(rgb_colors)-1) }\n",
    "    color_map[None]= 'rbg(0,0,0)' \n",
    "    colors = [color_map[u[1]['cat']] for u in g.nodes(data=True)]\n",
    "\n",
    "    ### plotting setting\n",
    "\n",
    "    trace3=Scatter(x=Xed,\n",
    "                   y=Yed,\n",
    "                   mode='lines',\n",
    "                   line=Line(color='rgb(210,210,210)', width=1),\n",
    "                   hoverinfo='none'\n",
    "                   )\n",
    "\n",
    "    trace4=Scatter(x=Xv,\n",
    "                   y=Yv,\n",
    "                   mode='markers',\n",
    "                   name='net',\n",
    "                   marker=Marker(symbol='dot',\n",
    "                                 size=20, \n",
    "                                 color=colors,\n",
    "                                 colorscale=[[i/float(len(rgb_colors)-1),rgb_colors[i]] for i in range(len(rgb_colors))],\n",
    "#                                  colorscale=[[0, 'rgb(166,206,227)'], [0.25, 'rgb(31,120,180)'], [0.45, 'rgb(178,223,138)'], [0.65, 'rgb(51,160,44)'], [0.85, 'rgb(251,154,153)'], [1, 'rgb(227,26,28)']],\n",
    "                                 showscale=True,\n",
    "                                 colorbar = dict(\n",
    "                                            title = 'Trait type',\n",
    "                                            titleside = 'top',\n",
    "                                            tickmode = 'array',\n",
    "                                            ticktext = color_map.keys(),\n",
    "                                            tickvals = rgb_colors,\n",
    "                                            ticks = 'outside'\n",
    "                                        ),\n",
    "                                 line=Line(color='rgb(50,50,50)', width=0.5)\n",
    "                                 ),\n",
    "                   text=labels,\n",
    "                   hoverinfo='text'\n",
    "                   )\n",
    "\n",
    "    annot=\"This networkx.Graph has the Fruchterman-Reingold layout<br>Code:\"+\\\n",
    "    \"<a href='http://nbviewer.ipython.org/gist/empet/07ea33b2e4e0b84193bd'> [2]</a>\"\n",
    "\n",
    "    axis=dict(showline=False, # hide axis line, grid, ticklabels and  title\n",
    "              zeroline=False,\n",
    "              showgrid=False,\n",
    "              showticklabels=False,\n",
    "              title='' \n",
    "              )\n",
    "\n",
    "    width=800\n",
    "    height=800\n",
    "    layout=Layout(title= \" Trait network showing similarity between GWAS traits based on overlap of associated modules.\",  \n",
    "        font= Font(size=12),\n",
    "        showlegend=False,\n",
    "        autosize=False,\n",
    "        width=width,\n",
    "        height=height,\n",
    "        xaxis=XAxis(axis),\n",
    "        yaxis=YAxis(axis),          \n",
    "        margin=Margin(\n",
    "            l=40,\n",
    "            r=40,\n",
    "            b=85,\n",
    "            t=100,\n",
    "        ),\n",
    "        hovermode='closest',\n",
    "        annotations=Annotations([\n",
    "               Annotation(\n",
    "               showarrow=False, \n",
    "                text='This igraph.Graph has the Kamada-Kawai layout',  \n",
    "                xref='paper',     \n",
    "                yref='paper',     \n",
    "                x=0,  \n",
    "                y=-0.1,  \n",
    "                xanchor='left',   \n",
    "                yanchor='bottom',  \n",
    "                font=Font(\n",
    "                size=14 \n",
    "                )     \n",
    "                )\n",
    "            ]),\n",
    "        plot_bgcolor='rgb(243, 243, 243)',\n",
    "        paper_bgcolor='rgb(243, 243, 243)',\n",
    "        \n",
    "        )\n",
    "\n",
    "    data1=Data([trace3, trace4])\n",
    "    fig1=Figure(data=data1, layout=layout)\n",
    "    fig1['layout']['annotations'][0]['text']=annot\n",
    "    return py.iplot(fig1, filename='trait-network-nx')\n",
    "\n",
    "trait_sim_graph()\n"
   ]
  },
  {
   "cell_type": "code",
   "execution_count": 7,
   "metadata": {
    "extensions": {
     "jupyter_dashboards": {
      "version": 1,
      "views": {
       "grid_default": {
        "col": 0,
        "height": 57,
        "hidden": false,
        "row": 28,
        "width": 12
       },
       "report_default": {
        "hidden": false
       }
      }
     }
    },
    "scrolled": false
   },
   "outputs": [
    {
     "data": {
      "application/vnd.jupyter.widget-view+json": {
       "model_id": "b671a7fe74e748b6bf83761dcc1b072b",
       "version_major": 2,
       "version_minor": 0
      },
      "text/plain": [
       "A Jupyter Widget"
      ]
     },
     "metadata": {},
     "output_type": "display_data"
    },
    {
     "data": {
      "application/vnd.jupyter.widget-view+json": {
       "model_id": "0d37af95eeb74adca6428047680cdff4",
       "version_major": 2,
       "version_minor": 0
      },
      "text/plain": [
       "A Jupyter Widget"
      ]
     },
     "metadata": {},
     "output_type": "display_data"
    },
    {
     "data": {
      "text/plain": [
       "<function __main__.view3>"
      ]
     },
     "execution_count": 7,
     "metadata": {},
     "output_type": "execute_result"
    }
   ],
   "source": [
    "\n",
    "caption = widgets.Label(value='List of trait module by trait type and network:',size=50)\n",
    "display(caption)\n",
    "items = ['All']+sorted(df['type'].unique().tolist())\n",
    "\n",
    "\n",
    "\n",
    "a_slider = widgets.IntSlider(min=3, max=100, step=1, value=3, description='Module Size')\n",
    "\n",
    "b_select= widgets.Dropdown(\n",
    "    options=items,\n",
    "    value='All',\n",
    "    description='Trait Type:',\n",
    "    disabled=False,\n",
    ")\n",
    "\n",
    "items_traitGroup = ['All']+sorted(df['traitGroup'].unique().tolist())\n",
    "\n",
    "\n",
    "c_select= widgets.Dropdown(\n",
    "    options= items_traitGroup,\n",
    "    value='All',\n",
    "    description='Trait Group:',\n",
    "    disabled=False,\n",
    ")\n",
    "\n",
    "d_text = widgets.IntText(\n",
    "    value=None,\n",
    "    description='Module ID:',\n",
    "    disabled=False\n",
    ")\n",
    "\n",
    "def handle_range_change(change):\n",
    "    c_select.options=['All']+sorted(df[df['type']==b_select.value]['traitGroup'].unique().tolist())\n",
    "    d_text.value=0\n",
    "b_select.observe(handle_range_change, names='value')\n",
    "\n",
    "def handle_module_id_change(change):\n",
    "    d = d_text.value\n",
    "    if d>0:\n",
    "        c_select.value=df.iloc[d,:]['traitGroup']\n",
    "        b_select.value = df.iloc[d,:]['type']\n",
    "d_text.observe(handle_module_id_change,names='value')\n",
    "\n",
    "\n",
    "\n",
    "def view3(x='',z='',y=3,d=''):\n",
    "    if d>0:\n",
    "        ind=df.iloc[d,[1,4,8]].tolist()\n",
    "        selected_m = sig_modules[ind[0]][ind[1]][ind[2]]\n",
    "        sg = G.subgraph(selected_m)\n",
    "        gwas_name = df.iloc[d,:]['trait']\n",
    "        gene_association = [-1*np.log(gene_scores[df.iloc[d,:].gwas_name][u]) if u in gene_scores[df.iloc[d,:].gwas_name] else 0 for u in sg.nodes()]\n",
    "        return  plot_net(sg,gene_association,gwas_name)\n",
    "#         return plot_net_1(sg,gene_association)\n",
    "    if x=='All': \n",
    "        res= df[df['module_size']>y].groupby(['traitGroup'])['pval'].count().reset_index()\n",
    "        res.rename(columns={'pval':'Total Number','traitGroup':'Trait Type'}, inplace= True)\n",
    "        return res\n",
    "    res = df[(df['type']==x)&(df['traitGroup']==z)& (df['module_size']>y)].iloc[:,[4,6,9,7]].reset_index().sort_values(['pval','module_size'])\n",
    "    res =res.rename(columns={'module_size':'Module Size','pval':'Pvalue','index':'Module ID','net':'Network'})\n",
    "#     table = ff.create_table(res)\n",
    "    return res #py.iplot(table, filename='pandas_table')\n",
    "\n",
    "interact(view3,y=a_slider,x=b_select,z=c_select,d=d_text)\n",
    "\n"
   ]
  }
 ],
 "metadata": {
  "extensions": {
   "jupyter_dashboards": {
    "activeView": "grid_default",
    "version": 1,
    "views": {
     "grid_default": {
      "cellMargin": 10,
      "defaultCellHeight": 20,
      "maxColumns": 12,
      "name": "grid",
      "type": "grid"
     },
     "report_default": {
      "name": "report",
      "type": "report"
     }
    }
   }
  },
  "kernelspec": {
   "display_name": "Python 2",
   "language": "python",
   "name": "python2"
  },
  "language_info": {
   "codemirror_mode": {
    "name": "ipython",
    "version": 2
   },
   "file_extension": ".py",
   "mimetype": "text/x-python",
   "name": "python",
   "nbconvert_exporter": "python",
   "pygments_lexer": "ipython2",
   "version": "2.7.13"
  },
  "widgets": {
   "application/vnd.jupyter.widget-state+json": {
    "state": {
     "02c7438f05f14b7cac04fd386c3547e7": {
      "model_module": "@jupyter-widgets/controls",
      "model_module_version": "1.0.0",
      "model_name": "DescriptionStyleModel",
      "state": {
       "description_width": ""
      }
     },
     "04e564f9e144470a9bc0e335f924e227": {
      "model_module": "@jupyter-widgets/base",
      "model_module_version": "1.0.0",
      "model_name": "LayoutModel",
      "state": {}
     },
     "06ba4b37cb1e4c7ba774aabd8ddcd65a": {
      "model_module": "@jupyter-widgets/base",
      "model_module_version": "1.0.0",
      "model_name": "LayoutModel",
      "state": {}
     },
     "07ee7d60a3494034b3a9ba4fc9b7381e": {
      "model_module": "@jupyter-widgets/controls",
      "model_module_version": "1.0.0",
      "model_name": "IntTextModel",
      "state": {
       "description": "Module ID:",
       "layout": "IPY_MODEL_94a6a7c568984d15bf9eb8452c7e0927",
       "step": 1,
       "style": "IPY_MODEL_f4319d0a705440e8baba92203769b42a",
       "value": 3831
      }
     },
     "082155478edf48a184b6b1c634a0355c": {
      "model_module": "@jupyter-widgets/base",
      "model_module_version": "1.0.0",
      "model_name": "LayoutModel",
      "state": {}
     },
     "085b32a3310c487388531a9b53ee75ff": {
      "model_module": "@jupyter-widgets/controls",
      "model_module_version": "1.0.0",
      "model_name": "LabelModel",
      "state": {
       "layout": "IPY_MODEL_dd01dd76e10248e48ebee04915d18acb",
       "style": "IPY_MODEL_6e4a0d1c161e46ed92eec2a4e334fbed",
       "value": "List of trait module by trait type and network:"
      }
     },
     "090648ba002241ac8a73359a5e726e8d": {
      "model_module": "@jupyter-widgets/base",
      "model_module_version": "1.0.0",
      "model_name": "LayoutModel",
      "state": {}
     },
     "09174db1b9db403aadbcc71f5c798299": {
      "model_module": "@jupyter-widgets/controls",
      "model_module_version": "1.0.0",
      "model_name": "DropdownModel",
      "state": {
       "_options_labels": [
        "BMI (female)",
        "BMI (male)",
        "BMI, obesity",
        "BMI, waist, hip (female)",
        "BMI, waist, hip (male)",
        "Height",
        "Various"
       ],
       "description": "Trait Group:",
       "index": 2,
       "layout": "IPY_MODEL_ba20c018c2094d41b4a95abc6e435135",
       "style": "IPY_MODEL_441ea0d0655e4be2aec7fccaf3f8e7a4"
      }
     },
     "0a7a78fe6fe349b8b7fe711fd9e85373": {
      "model_module": "@jupyter-widgets/base",
      "model_module_version": "1.0.0",
      "model_name": "LayoutModel",
      "state": {}
     },
     "0bcfe5366024414588881eaf95f1c886": {
      "model_module": "@jupyter-widgets/base",
      "model_module_version": "1.0.0",
      "model_name": "LayoutModel",
      "state": {}
     },
     "0d1df92cf9614bafbd95c7f55ede705b": {
      "model_module": "@jupyter-widgets/controls",
      "model_module_version": "1.0.0",
      "model_name": "IntTextModel",
      "state": {
       "description": "Module ID:",
       "layout": "IPY_MODEL_b1c0c7d15e8d4b8fb970a683f08320a9",
       "step": 1,
       "style": "IPY_MODEL_f633564d90fd4b8bab77388f2a263298"
      }
     },
     "0f04143cb48d4d6e85cbd4297af7fd44": {
      "model_module": "@jupyter-widgets/controls",
      "model_module_version": "1.0.0",
      "model_name": "LabelModel",
      "state": {
       "layout": "IPY_MODEL_ae468eb20db947359eb30d468682936e",
       "style": "IPY_MODEL_24770baf27674bbfb40f188274136720",
       "value": "List of trait module by trait type and network:"
      }
     },
     "10a593c307ef45a28d149088e9f129d8": {
      "model_module": "@jupyter-widgets/base",
      "model_module_version": "1.0.0",
      "model_name": "LayoutModel",
      "state": {}
     },
     "1107dd5c7a9a46b0b67de33239d38a90": {
      "model_module": "@jupyter-widgets/base",
      "model_module_version": "1.0.0",
      "model_name": "LayoutModel",
      "state": {}
     },
     "110d89a485d74b6d8b1a6f84bd9687ff": {
      "model_module": "@jupyter-widgets/controls",
      "model_module_version": "1.0.0",
      "model_name": "DescriptionStyleModel",
      "state": {
       "description_width": ""
      }
     },
     "114948b11fd94991b7abddd474af57f1": {
      "model_module": "@jupyter-widgets/controls",
      "model_module_version": "1.0.0",
      "model_name": "VBoxModel",
      "state": {
       "_dom_classes": [
        "widget-interact"
       ],
       "children": [
        "IPY_MODEL_844724f6fdd2428299ae38001881c465",
        "IPY_MODEL_7a28f7fec1ae48e8aac816a656769d0e",
        "IPY_MODEL_303f550d82e44ec0a605251e371bde9e",
        "IPY_MODEL_86db18096b7643cdb1f2a055c84eda93",
        "IPY_MODEL_ec50d17b51914cbf901163e8535844a2"
       ],
       "layout": "IPY_MODEL_75e11aaafa0246e7b1c8046746af1b83"
      }
     },
     "11a325670b544e7fab4cb3469ada6665": {
      "model_module": "@jupyter-widgets/base",
      "model_module_version": "1.0.0",
      "model_name": "LayoutModel",
      "state": {}
     },
     "11d9635de4cb4051bc370a98b6620d12": {
      "model_module": "@jupyter-widgets/base",
      "model_module_version": "1.0.0",
      "model_name": "LayoutModel",
      "state": {}
     },
     "12d3d938a48243568da0eced37847512": {
      "model_module": "@jupyter-widgets/output",
      "model_module_version": "1.0.0",
      "model_name": "OutputModel",
      "state": {
       "layout": "IPY_MODEL_1107dd5c7a9a46b0b67de33239d38a90",
       "outputs": [
        {
         "data": {
          "text/html": "<div>\n<style>\n    .dataframe thead tr:only-child th {\n        text-align: right;\n    }\n\n    .dataframe thead th {\n        text-align: left;\n    }\n\n    .dataframe tbody tr th {\n        vertical-align: top;\n    }\n</style>\n<table border=\"1\" class=\"dataframe\">\n  <thead>\n    <tr style=\"text-align: right;\">\n      <th></th>\n      <th>Network</th>\n      <th>Module ID</th>\n      <th>Module Size</th>\n      <th>Pvalue</th>\n      <th>gwas_name</th>\n    </tr>\n  </thead>\n  <tbody>\n  </tbody>\n</table>\n</div>",
          "text/plain": "Empty DataFrame\nColumns: [Network, Module ID, Module Size, Pvalue, gwas_name]\nIndex: []"
         },
         "metadata": {},
         "output_type": "display_data"
        }
       ]
      }
     },
     "13e665bf373043f7b5a60780464d41c8": {
      "model_module": "@jupyter-widgets/base",
      "model_module_version": "1.0.0",
      "model_name": "LayoutModel",
      "state": {}
     },
     "15798fd4c10c459b857ffdf0a05dcaec": {
      "model_module": "@jupyter-widgets/controls",
      "model_module_version": "1.0.0",
      "model_name": "SliderStyleModel",
      "state": {
       "description_width": ""
      }
     },
     "1690a3376c3a4446bdf574a0b9c16ec8": {
      "model_module": "@jupyter-widgets/controls",
      "model_module_version": "1.0.0",
      "model_name": "SliderStyleModel",
      "state": {
       "description_width": ""
      }
     },
     "16c0ebd663ba40cabb02d65821c99209": {
      "model_module": "@jupyter-widgets/controls",
      "model_module_version": "1.0.0",
      "model_name": "IntTextModel",
      "state": {
       "description": "Module ID:",
       "layout": "IPY_MODEL_de837bf18c7c40f291384af4afbd3aac",
       "step": 1,
       "style": "IPY_MODEL_ff79a5941b48489a819619f0aa016fa9",
       "value": 3831
      }
     },
     "180d81fcccce49169a6e9cf4d2bc397f": {
      "model_module": "@jupyter-widgets/base",
      "model_module_version": "1.0.0",
      "model_name": "LayoutModel",
      "state": {}
     },
     "1846c2e19d9f4492b69ac47b67df626f": {
      "model_module": "@jupyter-widgets/base",
      "model_module_version": "1.0.0",
      "model_name": "LayoutModel",
      "state": {}
     },
     "18e4a4301da84bf1a0f235eae12a8c2f": {
      "model_module": "@jupyter-widgets/controls",
      "model_module_version": "1.0.0",
      "model_name": "VBoxModel",
      "state": {
       "_dom_classes": [
        "widget-interact"
       ],
       "children": [
        "IPY_MODEL_b8d3b5a9cdea4b4aa9486a54e40fe65c",
        "IPY_MODEL_4d8a934ff0384ae8bc0ca6ad49016686",
        "IPY_MODEL_455f8d896ffd4daeb6bf3750e752f6f1",
        "IPY_MODEL_d18bd8f7bc1e4100b704da882d8bc8d6",
        "IPY_MODEL_f3d3b8f478e04b7ea61935ed8d093a58"
       ],
       "layout": "IPY_MODEL_06ba4b37cb1e4c7ba774aabd8ddcd65a"
      }
     },
     "19067bea1fb5410bbde274b6729a71be": {
      "model_module": "@jupyter-widgets/controls",
      "model_module_version": "1.0.0",
      "model_name": "DropdownModel",
      "state": {
       "_options_labels": [
        "All",
        "Anthropometric",
        "Cardiovascular",
        "Glycemic",
        "Immune",
        "Lipids",
        "Neurodegenerative",
        "Psychiatric",
        "Various"
       ],
       "description": "Trait Type:",
       "index": 1,
       "layout": "IPY_MODEL_f3b43f7edfeb45b4925bc20c3720c0e0",
       "style": "IPY_MODEL_2eed03cb99f7463cb4797535849a4562"
      }
     },
     "1ae3c22d1f4b4ce396ac05f61cbf6832": {
      "model_module": "@jupyter-widgets/base",
      "model_module_version": "1.0.0",
      "model_name": "LayoutModel",
      "state": {}
     },
     "1d6bd2ce98c349a9a1749b0aed94f789": {
      "model_module": "@jupyter-widgets/base",
      "model_module_version": "1.0.0",
      "model_name": "LayoutModel",
      "state": {}
     },
     "1de2162903344c598246ec97d0d012f5": {
      "model_module": "@jupyter-widgets/controls",
      "model_module_version": "1.0.0",
      "model_name": "IntSliderModel",
      "state": {
       "description": "Module Size",
       "layout": "IPY_MODEL_8c23ec72c7d24c46b3c35df304a699c5",
       "min": 3,
       "style": "IPY_MODEL_938b7f58b7e8476a929a26cd5c2759d3",
       "value": 3
      }
     },
     "1e1e8c9fd53b4a148aa8f7fe7bb130e4": {
      "model_module": "@jupyter-widgets/controls",
      "model_module_version": "1.0.0",
      "model_name": "IntSliderModel",
      "state": {
       "description": "Module Size",
       "layout": "IPY_MODEL_40f5dfda234e4966b0b9fd10e1630179",
       "min": 3,
       "style": "IPY_MODEL_2285c80e41be4690905a4c6538f2ef6d",
       "value": 3
      }
     },
     "1e2a95beb2f340fba984856d4b135f4d": {
      "model_module": "@jupyter-widgets/controls",
      "model_module_version": "1.0.0",
      "model_name": "DropdownModel",
      "state": {
       "_options_labels": [
        "LDL, total cholesterol"
       ],
       "description": "Trait Group:",
       "index": 0,
       "layout": "IPY_MODEL_7bb89d71cb6c46aca2a4f15aeff02909",
       "style": "IPY_MODEL_dc67a8f1aff34f4d86ddb35691258788"
      }
     },
     "1e82a1349e234a05ad74bd37c35276dd": {
      "model_module": "@jupyter-widgets/base",
      "model_module_version": "1.0.0",
      "model_name": "LayoutModel",
      "state": {}
     },
     "1ef71154e7e4461f94f5a664ce322c37": {
      "model_module": "@jupyter-widgets/controls",
      "model_module_version": "1.0.0",
      "model_name": "DescriptionStyleModel",
      "state": {
       "description_width": ""
      }
     },
     "1eff11f2fc834f24a8179e7c5866b0b4": {
      "model_module": "@jupyter-widgets/base",
      "model_module_version": "1.0.0",
      "model_name": "LayoutModel",
      "state": {}
     },
     "1fa8e38daa364dbe8bccdd60b379338a": {
      "model_module": "@jupyter-widgets/controls",
      "model_module_version": "1.0.0",
      "model_name": "IntTextModel",
      "state": {
       "description": "Module ID:",
       "layout": "IPY_MODEL_11a325670b544e7fab4cb3469ada6665",
       "step": 1,
       "style": "IPY_MODEL_a2e5de5dff674b8da4668b11f3aadeac",
       "value": 3831
      }
     },
     "20435f11c41749f28b4c8cdec1c52047": {
      "model_module": "@jupyter-widgets/controls",
      "model_module_version": "1.0.0",
      "model_name": "LabelModel",
      "state": {
       "layout": "IPY_MODEL_5b531f5729614be0a326fcd8c91f8202",
       "style": "IPY_MODEL_4665ce20fbf448e2a91650042fdcff67",
       "value": "List of trait module by trait type and network:"
      }
     },
     "21499df5f64d4abb9c2c1d398568bbc2": {
      "model_module": "@jupyter-widgets/base",
      "model_module_version": "1.0.0",
      "model_name": "LayoutModel",
      "state": {}
     },
     "21e2c8672be2481e81927324a6f3ec8d": {
      "model_module": "@jupyter-widgets/base",
      "model_module_version": "1.0.0",
      "model_name": "LayoutModel",
      "state": {}
     },
     "222a1bff0c4547d08132ed9254df7496": {
      "model_module": "@jupyter-widgets/base",
      "model_module_version": "1.0.0",
      "model_name": "LayoutModel",
      "state": {}
     },
     "2285c80e41be4690905a4c6538f2ef6d": {
      "model_module": "@jupyter-widgets/controls",
      "model_module_version": "1.0.0",
      "model_name": "SliderStyleModel",
      "state": {
       "description_width": ""
      }
     },
     "2297b18e771f4733b757bd806a87f3d5": {
      "model_module": "@jupyter-widgets/base",
      "model_module_version": "1.0.0",
      "model_name": "LayoutModel",
      "state": {}
     },
     "23b7c600eecd4c14931d1c2618683b47": {
      "model_module": "@jupyter-widgets/controls",
      "model_module_version": "1.0.0",
      "model_name": "SliderStyleModel",
      "state": {
       "description_width": ""
      }
     },
     "24770baf27674bbfb40f188274136720": {
      "model_module": "@jupyter-widgets/controls",
      "model_module_version": "1.0.0",
      "model_name": "DescriptionStyleModel",
      "state": {
       "description_width": ""
      }
     },
     "247bc9d20a824664966e3310e09e7c47": {
      "model_module": "@jupyter-widgets/base",
      "model_module_version": "1.0.0",
      "model_name": "LayoutModel",
      "state": {}
     },
     "261eff8abe4b470a991b3fb5f3137dcc": {
      "model_module": "@jupyter-widgets/controls",
      "model_module_version": "1.0.0",
      "model_name": "SliderStyleModel",
      "state": {
       "description_width": ""
      }
     },
     "265e22fff84e4fd8a8e252f024010292": {
      "model_module": "@jupyter-widgets/controls",
      "model_module_version": "1.0.0",
      "model_name": "LabelModel",
      "state": {
       "layout": "IPY_MODEL_2cbfa134d1cc45ef98fb264712b10f42",
       "style": "IPY_MODEL_1ef71154e7e4461f94f5a664ce322c37",
       "value": "List of trait module by trait type and network:"
      }
     },
     "26929b2b94f64ef58d085628d2cda469": {
      "model_module": "@jupyter-widgets/output",
      "model_module_version": "1.0.0",
      "model_name": "OutputModel",
      "state": {
       "layout": "IPY_MODEL_d0de90fb736d49bbb1170d48346fa5b1",
       "outputs": [
        {
         "name": "stdout",
         "output_type": "stream",
         "text": "Trait module: ['EZH2', 'CELF1', 'RB1', 'CCND1', 'CCND3', 'RBL2', 'TFDP1', 'E2F5', 'E2F4', 'CDK6', 'E2F1', 'CDKN2A', 'MIR17HG', 'E2F3', 'CDK4', 'CCND2', 'RBL1', 'CDKN2D', 'CCNA2', 'CDK3', 'TFDP2', 'PELP1', 'E2F2', 'HIC1', 'CDCA4', 'ARID4A', 'CDKN2C', 'CABLES1', 'LIN9', 'SOD2', 'EED', 'KDM6A', 'CDKN2B', 'FBXW8', 'BRD2'] [('E2F1', u'CDKN2A'), ('E2F1', u'CCNA2'), ('E2F1', u'HIC1'), ('E2F1', u'RB1'), ('E2F1', u'EZH2'), ('E2F1', u'MIR17HG'), ('E2F1', u'CDCA4'), ('E2F1', u'EED'), ('E2F1', 'TFDP2'), ('E2F1', 'TFDP1'), ('E2F1', u'RBL1'), ('CELF1', 'CDK4'), ('PELP1', 'CDK4'), ('EZH2', 'EED'), ('EZH2', 'E2F2'), ('MIR17HG', 'E2F3'), ('MIR17HG', 'E2F2'), ('EED', 'E2F2'), ('ARID4A', 'RB1'), ('CCNA2', 'RBL1'), ('CCNA2', 'RB1'), ('RBL2', 'E2F5'), ('RBL2', 'E2F4'), ('RBL2', 'CCND1'), ('RBL2', 'CDK4'), ('RBL2', 'CDK6'), ('RBL2', 'TFDP1'), ('RB1', 'E2F4'), ('RB1', 'E2F2'), ('RB1', 'CCND1'), ('RB1', 'CCND3'), ('RB1', 'CCND2'), ('RB1', 'E2F3'), ('RB1', 'CDK3'), ('RB1', 'KDM6A'), ('RB1', 'CDK6'), ('RB1', 'CDK4'), ('RB1', 'TFDP2'), ('RB1', 'TFDP1'), ('FBXW8', 'CCND1'), ('CABLES1', 'CDK3'), ('CDKN2B', 'CDK4'), ('CDKN2C', 'CDK4'), ('CDKN2C', 'CDK6'), ('CDKN2A', 'CDK6'), ('CDKN2A', 'CDK4'), ('CDKN2A', 'E2F3'), ('CDKN2A', 'E2F2'), ('SOD2', 'CDK4'), ('RBL1', 'E2F5'), ('RBL1', 'E2F4'), ('RBL1', 'CCND1'), ('RBL1', 'CDK4'), ('RBL1', 'TFDP2'), ('RBL1', 'TFDP1'), ('CDKN2D', 'CDK4'), ('CDKN2D', 'CDK6'), ('BRD2', 'E2F2'), ('E2F5', 'TFDP1'), ('E2F5', 'E2F4'), ('E2F4', 'TFDP2'), ('E2F4', 'TFDP1'), ('E2F3', 'TFDP1'), ('E2F2', 'TFDP1'), ('E2F2', 'TFDP2'), ('LIN9', 'CDK3'), ('CCND1', 'CDK4'), ('CCND1', 'CDK6'), ('CCND3', 'CDK4'), ('CCND3', 'CDK6'), ('CCND2', 'CDK4'), ('CCND2', 'CDK6')]\n"
        }
       ]
      }
     },
     "2731c962839140e398b96662c95cdf24": {
      "model_module": "@jupyter-widgets/controls",
      "model_module_version": "1.0.0",
      "model_name": "DropdownModel",
      "state": {
       "_options_labels": [
        "All",
        "Anthropometric",
        "Cardiovascular",
        "Glycemic",
        "Immune",
        "Lipids",
        "Neurodegenerative",
        "Psychiatric",
        "Various"
       ],
       "description": "Trait Type:",
       "index": 1,
       "layout": "IPY_MODEL_7c48e78783a3419bb62eff4ff3eed072",
       "style": "IPY_MODEL_a943b47ba0ff48159bf8b04fac0ff5d9"
      }
     },
     "29c56ae65c30415a87fd3ec06d3e59c2": {
      "model_module": "@jupyter-widgets/controls",
      "model_module_version": "1.0.0",
      "model_name": "IntTextModel",
      "state": {
       "description": "Module ID:",
       "layout": "IPY_MODEL_ef7b60debff64582987c1d0184aa9a5d",
       "step": 1,
       "style": "IPY_MODEL_3caaed93925e472f86e4d51b6f9f7382",
       "value": 121
      }
     },
     "2ad2de29263e4149a85bc9d139c31d34": {
      "model_module": "@jupyter-widgets/controls",
      "model_module_version": "1.0.0",
      "model_name": "IntTextModel",
      "state": {
       "description": "Module ID:",
       "layout": "IPY_MODEL_5188c26080ae456f8bb4e23fd6db1c35",
       "step": 1,
       "style": "IPY_MODEL_db810a1e5cd84428ac42836119c2c18c",
       "value": 3831
      }
     },
     "2c14aa9dbf4342fb96dcaa0497f1b4ff": {
      "model_module": "@jupyter-widgets/controls",
      "model_module_version": "1.0.0",
      "model_name": "DescriptionStyleModel",
      "state": {
       "description_width": ""
      }
     },
     "2c4e94fb9f1549dda0ec6e683887b623": {
      "model_module": "@jupyter-widgets/output",
      "model_module_version": "1.0.0",
      "model_name": "OutputModel",
      "state": {
       "layout": "IPY_MODEL_11d9635de4cb4051bc370a98b6620d12",
       "outputs": [
        {
         "name": "stdout",
         "output_type": "stream",
         "text": "\n"
        }
       ]
      }
     },
     "2cbfa134d1cc45ef98fb264712b10f42": {
      "model_module": "@jupyter-widgets/base",
      "model_module_version": "1.0.0",
      "model_name": "LayoutModel",
      "state": {}
     },
     "2d2e05b26e014c239cb56c14c2eb119a": {
      "model_module": "@jupyter-widgets/controls",
      "model_module_version": "1.0.0",
      "model_name": "DescriptionStyleModel",
      "state": {
       "description_width": ""
      }
     },
     "2d5f45722ab14de897883d03e21db90f": {
      "model_module": "@jupyter-widgets/base",
      "model_module_version": "1.0.0",
      "model_name": "LayoutModel",
      "state": {}
     },
     "2ebffdb825e2482486c7b7cd5a25199f": {
      "model_module": "@jupyter-widgets/output",
      "model_module_version": "1.0.0",
      "model_name": "OutputModel",
      "state": {
       "layout": "IPY_MODEL_bcbac65d05ae43bbb56200773cb4b734",
       "outputs": [
        {
         "name": "stdout",
         "output_type": "stream",
         "text": "Trait module: \n"
        }
       ]
      }
     },
     "2ec84ddf902d41bd8751e75d175f7fb6": {
      "model_module": "@jupyter-widgets/base",
      "model_module_version": "1.0.0",
      "model_name": "LayoutModel",
      "state": {}
     },
     "2eed03cb99f7463cb4797535849a4562": {
      "model_module": "@jupyter-widgets/controls",
      "model_module_version": "1.0.0",
      "model_name": "DescriptionStyleModel",
      "state": {
       "description_width": ""
      }
     },
     "2ef1ab8af3e841d9b4a2f192183013e7": {
      "model_module": "@jupyter-widgets/base",
      "model_module_version": "1.0.0",
      "model_name": "LayoutModel",
      "state": {}
     },
     "303f550d82e44ec0a605251e371bde9e": {
      "model_module": "@jupyter-widgets/controls",
      "model_module_version": "1.0.0",
      "model_name": "IntSliderModel",
      "state": {
       "description": "Module Size",
       "layout": "IPY_MODEL_4d89218dd270478087db1401bd65c3b6",
       "min": 3,
       "style": "IPY_MODEL_1690a3376c3a4446bdf574a0b9c16ec8",
       "value": 3
      }
     },
     "3100393745374a708d5ef482a3192fc0": {
      "model_module": "@jupyter-widgets/controls",
      "model_module_version": "1.0.0",
      "model_name": "IntTextModel",
      "state": {
       "description": "Module ID:",
       "layout": "IPY_MODEL_0a7a78fe6fe349b8b7fe711fd9e85373",
       "step": 1,
       "style": "IPY_MODEL_63b2cf33048940e381897086c8866f88",
       "value": 121
      }
     },
     "310b651506d1433b9b81d47d78bfc8ce": {
      "model_module": "@jupyter-widgets/controls",
      "model_module_version": "1.0.0",
      "model_name": "DropdownModel",
      "state": {
       "_options_labels": [
        "All",
        "Anthropometric",
        "Cardiovascular",
        "Glycemic",
        "Immune",
        "Lipids",
        "Neurodegenerative",
        "Psychiatric",
        "Various"
       ],
       "description": "Trait Type:",
       "index": 2,
       "layout": "IPY_MODEL_b5d3f1b3162a4ad7b1f7fff0dbdcf108",
       "style": "IPY_MODEL_8efaabd5032b445bb044c155cb9e4b35"
      }
     },
     "314114c717354cfe99317ece35dbed9f": {
      "model_module": "@jupyter-widgets/base",
      "model_module_version": "1.0.0",
      "model_name": "LayoutModel",
      "state": {}
     },
     "314d98f97b6c430193a766955a9f15f1": {
      "model_module": "@jupyter-widgets/controls",
      "model_module_version": "1.0.0",
      "model_name": "LabelModel",
      "state": {
       "layout": "IPY_MODEL_ee2a6f4bc05447f499ff58d588998663",
       "style": "IPY_MODEL_9a99c0ad6b234d4dbfb8bb626edcd051",
       "value": "List of trait module by trait type and network:"
      }
     },
     "31d93f0030344764a624040200305345": {
      "model_module": "@jupyter-widgets/base",
      "model_module_version": "1.0.0",
      "model_name": "LayoutModel",
      "state": {}
     },
     "338df93bdf1a4bd189cb47bff25ab356": {
      "model_module": "@jupyter-widgets/base",
      "model_module_version": "1.0.0",
      "model_name": "LayoutModel",
      "state": {}
     },
     "34004bc09bd14f94b05518db35d4c771": {
      "model_module": "@jupyter-widgets/controls",
      "model_module_version": "1.0.0",
      "model_name": "IntSliderModel",
      "state": {
       "description": "Module Size",
       "layout": "IPY_MODEL_3fe403cfadb64b0d9c5526175e5a804d",
       "min": 3,
       "style": "IPY_MODEL_c8e17fdc8f4d44629460e4db73f823e1",
       "value": 3
      }
     },
     "34a731ae726f4b1182ff98bccef8f0f7": {
      "model_module": "@jupyter-widgets/base",
      "model_module_version": "1.0.0",
      "model_name": "LayoutModel",
      "state": {}
     },
     "355fdf3f52c54c669685c35eb742dc0d": {
      "model_module": "@jupyter-widgets/controls",
      "model_module_version": "1.0.0",
      "model_name": "SliderStyleModel",
      "state": {
       "description_width": ""
      }
     },
     "3681a50985cb4fa99241073d8995aba3": {
      "model_module": "@jupyter-widgets/controls",
      "model_module_version": "1.0.0",
      "model_name": "DropdownModel",
      "state": {
       "_options_labels": [
        "BMI (female)",
        "BMI (male)",
        "BMI, obesity",
        "BMI, waist, hip (female)",
        "BMI, waist, hip (male)",
        "Height",
        "Various"
       ],
       "description": "Trait Group:",
       "index": 5,
       "layout": "IPY_MODEL_e59a8249af7148c2a6adcbdefb13e5c0",
       "style": "IPY_MODEL_ca0cc38c614d45df92fc3e3f4e337142"
      }
     },
     "36896114a23943b680bb176ace88c49c": {
      "model_module": "@jupyter-widgets/controls",
      "model_module_version": "1.0.0",
      "model_name": "LabelModel",
      "state": {
       "layout": "IPY_MODEL_9f4774aa5427480f9bfa9846077b6f5e",
       "style": "IPY_MODEL_f4233cf1c0fd4266ba30a2cd9d7c08af",
       "value": "List of trait module by trait type and network:"
      }
     },
     "372211d531b44844bf00d80dbec5efb5": {
      "model_module": "@jupyter-widgets/controls",
      "model_module_version": "1.0.0",
      "model_name": "DescriptionStyleModel",
      "state": {
       "description_width": ""
      }
     },
     "38f347f80211423b8905484da05c754d": {
      "model_module": "@jupyter-widgets/base",
      "model_module_version": "1.0.0",
      "model_name": "LayoutModel",
      "state": {}
     },
     "3925d08d55fe4cb68d6a00f6ff558fc2": {
      "model_module": "@jupyter-widgets/controls",
      "model_module_version": "1.0.0",
      "model_name": "DescriptionStyleModel",
      "state": {
       "description_width": ""
      }
     },
     "39f6820f0baa45fe9aeed42b9a014e10": {
      "model_module": "@jupyter-widgets/base",
      "model_module_version": "1.0.0",
      "model_name": "LayoutModel",
      "state": {}
     },
     "3c10b412ddf646fa9fb4c9968d9a3135": {
      "model_module": "@jupyter-widgets/controls",
      "model_module_version": "1.0.0",
      "model_name": "VBoxModel",
      "state": {
       "_dom_classes": [
        "widget-interact"
       ],
       "children": [
        "IPY_MODEL_7f7e33aa985042b5bc5e565a299e3a00",
        "IPY_MODEL_71b5857214c646b5accd1deda4f5a8c8",
        "IPY_MODEL_bf2ab64532204623b11474a58243fb0b",
        "IPY_MODEL_c2184b468c2a4f8692b968b217126860",
        "IPY_MODEL_92b2234a69e842b2b392c8fc423b1bb3"
       ],
       "layout": "IPY_MODEL_eb100fae2393471f887e1a6de064ce51"
      }
     },
     "3c18722f7ef1489b90c87a1571fffbbd": {
      "model_module": "@jupyter-widgets/controls",
      "model_module_version": "1.0.0",
      "model_name": "LabelModel",
      "state": {
       "layout": "IPY_MODEL_13e665bf373043f7b5a60780464d41c8",
       "style": "IPY_MODEL_d9a3e189b9a94c1aaa1d9489534bee87",
       "value": "List of trait module by trait type and network:"
      }
     },
     "3caaed93925e472f86e4d51b6f9f7382": {
      "model_module": "@jupyter-widgets/controls",
      "model_module_version": "1.0.0",
      "model_name": "DescriptionStyleModel",
      "state": {
       "description_width": ""
      }
     },
     "3d649bf8139a445fa15d8dcbca15547c": {
      "model_module": "@jupyter-widgets/base",
      "model_module_version": "1.0.0",
      "model_name": "LayoutModel",
      "state": {}
     },
     "3d98479cc5d841cd8203ea7318fcea04": {
      "model_module": "@jupyter-widgets/base",
      "model_module_version": "1.0.0",
      "model_name": "LayoutModel",
      "state": {}
     },
     "3dbbe11501a44385be099d5623cccc95": {
      "model_module": "@jupyter-widgets/controls",
      "model_module_version": "1.0.0",
      "model_name": "DescriptionStyleModel",
      "state": {
       "description_width": ""
      }
     },
     "3de1dbaeb7964a7ab7d42acd3c395c6e": {
      "model_module": "@jupyter-widgets/base",
      "model_module_version": "1.0.0",
      "model_name": "LayoutModel",
      "state": {}
     },
     "3f1c44cea2c54bcfa1eb9f0da844c9f3": {
      "model_module": "@jupyter-widgets/controls",
      "model_module_version": "1.0.0",
      "model_name": "DescriptionStyleModel",
      "state": {
       "description_width": ""
      }
     },
     "3f74b87b61164bc49c698f2e9d5471fb": {
      "model_module": "@jupyter-widgets/controls",
      "model_module_version": "1.0.0",
      "model_name": "SliderStyleModel",
      "state": {
       "description_width": ""
      }
     },
     "3fe403cfadb64b0d9c5526175e5a804d": {
      "model_module": "@jupyter-widgets/base",
      "model_module_version": "1.0.0",
      "model_name": "LayoutModel",
      "state": {}
     },
     "4008b88fc59841e0b9d44c82e1a387ce": {
      "model_module": "@jupyter-widgets/controls",
      "model_module_version": "1.0.0",
      "model_name": "DescriptionStyleModel",
      "state": {
       "description_width": ""
      }
     },
     "40f5dfda234e4966b0b9fd10e1630179": {
      "model_module": "@jupyter-widgets/base",
      "model_module_version": "1.0.0",
      "model_name": "LayoutModel",
      "state": {}
     },
     "418755f6c40c44d2a44c897d215dc515": {
      "model_module": "@jupyter-widgets/controls",
      "model_module_version": "1.0.0",
      "model_name": "IntSliderModel",
      "state": {
       "description": "Module Size",
       "layout": "IPY_MODEL_69b1bc4f37a24e5d820321c98c2009aa",
       "min": 3,
       "style": "IPY_MODEL_bbfaa301d2fa438cbb2905b84e76d4b6",
       "value": 3
      }
     },
     "422973b875b646fc9b4c0327131a246b": {
      "model_module": "@jupyter-widgets/controls",
      "model_module_version": "1.0.0",
      "model_name": "IntSliderModel",
      "state": {
       "description": "Module Size",
       "layout": "IPY_MODEL_87a61c2c54344d649a0982b7b57ff43b",
       "min": 3,
       "style": "IPY_MODEL_6573c532a18340c48463c2713b3d2e69",
       "value": 3
      }
     },
     "43676c2b60d94482a197b54237ad5fb4": {
      "model_module": "@jupyter-widgets/controls",
      "model_module_version": "1.0.0",
      "model_name": "DescriptionStyleModel",
      "state": {
       "description_width": ""
      }
     },
     "43a9bb32662a49efb409e7a411eb4957": {
      "model_module": "@jupyter-widgets/controls",
      "model_module_version": "1.0.0",
      "model_name": "SliderStyleModel",
      "state": {
       "description_width": ""
      }
     },
     "441ea0d0655e4be2aec7fccaf3f8e7a4": {
      "model_module": "@jupyter-widgets/controls",
      "model_module_version": "1.0.0",
      "model_name": "DescriptionStyleModel",
      "state": {
       "description_width": ""
      }
     },
     "452df369c1b04b36bbf6f11b0f7ae015": {
      "model_module": "@jupyter-widgets/base",
      "model_module_version": "1.0.0",
      "model_name": "LayoutModel",
      "state": {}
     },
     "455f8d896ffd4daeb6bf3750e752f6f1": {
      "model_module": "@jupyter-widgets/controls",
      "model_module_version": "1.0.0",
      "model_name": "IntSliderModel",
      "state": {
       "description": "Module Size",
       "layout": "IPY_MODEL_f2f55bea778c46268ad65c5ebf496165",
       "min": 3,
       "style": "IPY_MODEL_da2c5dd418fc44e3abc8712dac4abebe",
       "value": 3
      }
     },
     "4590fd85db454ef8b4df9678349846dd": {
      "model_module": "@jupyter-widgets/controls",
      "model_module_version": "1.0.0",
      "model_name": "DescriptionStyleModel",
      "state": {
       "description_width": ""
      }
     },
     "462335d17d6849ebbe2dc8463e95393b": {
      "model_module": "@jupyter-widgets/base",
      "model_module_version": "1.0.0",
      "model_name": "LayoutModel",
      "state": {}
     },
     "4665ce20fbf448e2a91650042fdcff67": {
      "model_module": "@jupyter-widgets/controls",
      "model_module_version": "1.0.0",
      "model_name": "DescriptionStyleModel",
      "state": {
       "description_width": ""
      }
     },
     "46f3ce92500241a18b5b13780854a90d": {
      "model_module": "@jupyter-widgets/controls",
      "model_module_version": "1.0.0",
      "model_name": "IntTextModel",
      "state": {
       "description": "Module ID:",
       "layout": "IPY_MODEL_6b404582c13c41898d1c5f6f19745f3b",
       "step": 1,
       "style": "IPY_MODEL_3f1c44cea2c54bcfa1eb9f0da844c9f3",
       "value": 3831
      }
     },
     "49be649dd4694ffaaac66daaf8119f84": {
      "model_module": "@jupyter-widgets/base",
      "model_module_version": "1.0.0",
      "model_name": "LayoutModel",
      "state": {}
     },
     "4aa3ea7ae2c84d21b451e538e80aac61": {
      "model_module": "@jupyter-widgets/controls",
      "model_module_version": "1.0.0",
      "model_name": "VBoxModel",
      "state": {
       "_dom_classes": [
        "widget-interact"
       ],
       "children": [
        "IPY_MODEL_19067bea1fb5410bbde274b6729a71be",
        "IPY_MODEL_58cba17be663489d8ce29d728ef21f46",
        "IPY_MODEL_fb20fa03f5624947b0c6dc5e14c0a7e5",
        "IPY_MODEL_ca7c942e54e0424a8be69aef82e2f5e7",
        "IPY_MODEL_52f5232d02a347d08625b9945988abc9"
       ],
       "layout": "IPY_MODEL_04e564f9e144470a9bc0e335f924e227"
      }
     },
     "4d65237de2d04d5c8c4caa480081f47a": {
      "model_module": "@jupyter-widgets/controls",
      "model_module_version": "1.0.0",
      "model_name": "LabelModel",
      "state": {
       "layout": "IPY_MODEL_338df93bdf1a4bd189cb47bff25ab356",
       "style": "IPY_MODEL_82a337ede34d49818e2cb02cb676b459",
       "value": "List of trait module by trait type and network:"
      }
     },
     "4d89218dd270478087db1401bd65c3b6": {
      "model_module": "@jupyter-widgets/base",
      "model_module_version": "1.0.0",
      "model_name": "LayoutModel",
      "state": {}
     },
     "4d8a934ff0384ae8bc0ca6ad49016686": {
      "model_module": "@jupyter-widgets/controls",
      "model_module_version": "1.0.0",
      "model_name": "DropdownModel",
      "state": {
       "_options_labels": [
        "BMI (female)",
        "BMI (male)",
        "BMI, obesity",
        "BMI, waist, hip (female)",
        "BMI, waist, hip (male)",
        "Height",
        "Various"
       ],
       "description": "Trait Group:",
       "index": 5,
       "layout": "IPY_MODEL_d6401b00cc92474f9392ad3f7fd72da5",
       "style": "IPY_MODEL_d31c3be258224143b38515b66c8d3dd3"
      }
     },
     "4f72d11ea8e640928bf107977785e946": {
      "model_module": "@jupyter-widgets/controls",
      "model_module_version": "1.0.0",
      "model_name": "IntTextModel",
      "state": {
       "description": "Module ID:",
       "layout": "IPY_MODEL_3d98479cc5d841cd8203ea7318fcea04",
       "step": 1,
       "style": "IPY_MODEL_f61b68658b084723852075cd958281f1",
       "value": 3831
      }
     },
     "5079a6c816df4157a01cbb4e7dcc80ba": {
      "model_module": "@jupyter-widgets/base",
      "model_module_version": "1.0.0",
      "model_name": "LayoutModel",
      "state": {}
     },
     "5188c26080ae456f8bb4e23fd6db1c35": {
      "model_module": "@jupyter-widgets/base",
      "model_module_version": "1.0.0",
      "model_name": "LayoutModel",
      "state": {}
     },
     "52af725171484f35a65c5c3935199207": {
      "model_module": "@jupyter-widgets/controls",
      "model_module_version": "1.0.0",
      "model_name": "SliderStyleModel",
      "state": {
       "description_width": ""
      }
     },
     "52f5232d02a347d08625b9945988abc9": {
      "model_module": "@jupyter-widgets/output",
      "model_module_version": "1.0.0",
      "model_name": "OutputModel",
      "state": {
       "layout": "IPY_MODEL_daab7d2843d445bf908d3038581f0f1c",
       "outputs": [
        {
         "data": {
          "text/html": "<div>\n<style>\n    .dataframe thead tr:only-child th {\n        text-align: right;\n    }\n\n    .dataframe thead th {\n        text-align: left;\n    }\n\n    .dataframe tbody tr th {\n        vertical-align: top;\n    }\n</style>\n<table border=\"1\" class=\"dataframe\">\n  <thead>\n    <tr style=\"text-align: right;\">\n      <th></th>\n      <th>Network</th>\n      <th>Module ID</th>\n      <th>Module Size</th>\n      <th>Pvalue</th>\n      <th>gwas_name</th>\n    </tr>\n  </thead>\n  <tbody>\n    <tr>\n      <th>353</th>\n      <td>4_coexpr</td>\n      <td>197</td>\n      <td>84</td>\n      <td>0.000016</td>\n      <td>EUR.GIANT_HEIGHT_Wood_et_al_2014_publicrelease...</td>\n    </tr>\n    <tr>\n      <th>3889</th>\n      <td>5_cancer</td>\n      <td>54</td>\n      <td>51</td>\n      <td>0.000022</td>\n      <td>EUR.GIANT_HEIGHT_LangoAllen2010_publicrelease_...</td>\n    </tr>\n    <tr>\n      <th>3627</th>\n      <td>1_ppi</td>\n      <td>175</td>\n      <td>43</td>\n      <td>0.000027</td>\n      <td>EUR.GIANT_HEIGHT_Wood_et_al_2014_publicrelease...</td>\n    </tr>\n    <tr>\n      <th>3483</th>\n      <td>1_ppi</td>\n      <td>45</td>\n      <td>55</td>\n      <td>0.000036</td>\n      <td>EUR.GIANT_HEIGHT_LangoAllen2010_publicrelease_...</td>\n    </tr>\n    <tr>\n      <th>3581</th>\n      <td>5_cancer</td>\n      <td>54</td>\n      <td>49</td>\n      <td>0.000036</td>\n      <td>EUR.GIANT_Randall2013PlosGenet_stage1_publicre...</td>\n    </tr>\n    <tr>\n      <th>3723</th>\n      <td>6_homology</td>\n      <td>82</td>\n      <td>44</td>\n      <td>0.000042</td>\n      <td>EUR.GIANT_Randall2013PlosGenet_stage1_publicre...</td>\n    </tr>\n    <tr>\n      <th>3200</th>\n      <td>3_signal</td>\n      <td>33</td>\n      <td>85</td>\n      <td>0.000050</td>\n      <td>EUR.GIANT_HEIGHT_LangoAllen2010_publicrelease_...</td>\n    </tr>\n    <tr>\n      <th>1619</th>\n      <td>4_coexpr</td>\n      <td>41</td>\n      <td>100</td>\n      <td>0.000051</td>\n      <td>EUR.GIANT_HEIGHT_LangoAllen2010_publicrelease_...</td>\n    </tr>\n    <tr>\n      <th>3484</th>\n      <td>1_ppi</td>\n      <td>45</td>\n      <td>55</td>\n      <td>0.000055</td>\n      <td>EUR.GIANT_HEIGHT_Wood_et_al_2014_publicrelease...</td>\n    </tr>\n    <tr>\n      <th>3888</th>\n      <td>5_cancer</td>\n      <td>54</td>\n      <td>51</td>\n      <td>0.000056</td>\n      <td>EUR.GIANT_EXTREME_HEIGHT_Stage1_Berndt2013_pub...</td>\n    </tr>\n    <tr>\n      <th>1622</th>\n      <td>4_coexpr</td>\n      <td>41</td>\n      <td>100</td>\n      <td>0.000060</td>\n      <td>EUR.GIANT_Randall2013PlosGenet_stage1_publicre...</td>\n    </tr>\n    <tr>\n      <th>1732</th>\n      <td>4_coexpr</td>\n      <td>77</td>\n      <td>46</td>\n      <td>0.000063</td>\n      <td>EUR.GIANT_Randall2013PlosGenet_stage1_publicre...</td>\n    </tr>\n    <tr>\n      <th>3897</th>\n      <td>5_cancer</td>\n      <td>54</td>\n      <td>51</td>\n      <td>0.000069</td>\n      <td>EUR.GIANT_Randall2013PlosGenet_stage1_publicre...</td>\n    </tr>\n    <tr>\n      <th>3457</th>\n      <td>6_homology</td>\n      <td>119</td>\n      <td>57</td>\n      <td>0.000069</td>\n      <td>EUR.GIANT_HEIGHT_Wood_et_al_2014_publicrelease...</td>\n    </tr>\n    <tr>\n      <th>3954</th>\n      <td>1_ppi</td>\n      <td>12</td>\n      <td>59</td>\n      <td>0.000070</td>\n      <td>EUR.GIANT_Randall2013PlosGenet_stage1_publicre...</td>\n    </tr>\n    <tr>\n      <th>2841</th>\n      <td>6_homology</td>\n      <td>76</td>\n      <td>70</td>\n      <td>0.000079</td>\n      <td>EUR.GIANT_Randall2013PlosGenet_stage1_publicre...</td>\n    </tr>\n    <tr>\n      <th>1346</th>\n      <td>2_ppi</td>\n      <td>49</td>\n      <td>60</td>\n      <td>0.000085</td>\n      <td>EUR.GIANT_HEIGHT_Wood_et_al_2014_publicrelease...</td>\n    </tr>\n    <tr>\n      <th>1457</th>\n      <td>3_signal</td>\n      <td>117</td>\n      <td>41</td>\n      <td>0.000087</td>\n      <td>EUR.GIANT_HEIGHT_LangoAllen2010_publicrelease_...</td>\n    </tr>\n    <tr>\n      <th>3915</th>\n      <td>6_homology</td>\n      <td>154</td>\n      <td>73</td>\n      <td>0.000087</td>\n      <td>EUR.GIANT_EXTREME_HEIGHT_Stage1_Berndt2013_pub...</td>\n    </tr>\n    <tr>\n      <th>1730</th>\n      <td>4_coexpr</td>\n      <td>77</td>\n      <td>46</td>\n      <td>0.000092</td>\n      <td>EUR.GIANT_HEIGHT_LangoAllen2010_publicrelease_...</td>\n    </tr>\n    <tr>\n      <th>2732</th>\n      <td>4_coexpr</td>\n      <td>165</td>\n      <td>81</td>\n      <td>0.000107</td>\n      <td>EUR.GIANT_Randall2013PlosGenet_stage1_publicre...</td>\n    </tr>\n    <tr>\n      <th>2065</th>\n      <td>6_homology</td>\n      <td>105</td>\n      <td>83</td>\n      <td>0.000126</td>\n      <td>EUR.GIANT_HEIGHT_Wood_et_al_2014_publicrelease...</td>\n    </tr>\n    <tr>\n      <th>1731</th>\n      <td>4_coexpr</td>\n      <td>77</td>\n      <td>46</td>\n      <td>0.000135</td>\n      <td>EUR.GIANT_Randall2013PlosGenet_stage1_publicre...</td>\n    </tr>\n    <tr>\n      <th>3505</th>\n      <td>2_ppi</td>\n      <td>38</td>\n      <td>59</td>\n      <td>0.000137</td>\n      <td>EUR.GIANT_HEIGHT_LangoAllen2010_publicrelease_...</td>\n    </tr>\n    <tr>\n      <th>354</th>\n      <td>4_coexpr</td>\n      <td>197</td>\n      <td>84</td>\n      <td>0.000155</td>\n      <td>EUR.GIANT_Randall2013PlosGenet_stage1_publicre...</td>\n    </tr>\n    <tr>\n      <th>732</th>\n      <td>1_ppi</td>\n      <td>189</td>\n      <td>53</td>\n      <td>0.000161</td>\n      <td>EUR.GIANT_HEIGHT_LangoAllen2010_publicrelease_...</td>\n    </tr>\n    <tr>\n      <th>3579</th>\n      <td>5_cancer</td>\n      <td>54</td>\n      <td>49</td>\n      <td>0.000166</td>\n      <td>EUR.GIANT_HEIGHT_LangoAllen2010_publicrelease_...</td>\n    </tr>\n    <tr>\n      <th>1613</th>\n      <td>3_signal</td>\n      <td>91</td>\n      <td>52</td>\n      <td>0.000171</td>\n      <td>EUR.GIANT_Randall2013PlosGenet_stage1_publicre...</td>\n    </tr>\n    <tr>\n      <th>3512</th>\n      <td>2_ppi</td>\n      <td>32</td>\n      <td>60</td>\n      <td>0.000199</td>\n      <td>EUR.GIANT_Randall2013PlosGenet_stage1_publicre...</td>\n    </tr>\n    <tr>\n      <th>352</th>\n      <td>4_coexpr</td>\n      <td>197</td>\n      <td>84</td>\n      <td>0.000212</td>\n      <td>EUR.GIANT_HEIGHT_LangoAllen2010_publicrelease_...</td>\n    </tr>\n    <tr>\n      <th>1180</th>\n      <td>3_signal</td>\n      <td>39</td>\n      <td>42</td>\n      <td>0.000218</td>\n      <td>EUR.GIANT_HEIGHT_LangoAllen2010_publicrelease_...</td>\n    </tr>\n    <tr>\n      <th>2804</th>\n      <td>3_signal</td>\n      <td>195</td>\n      <td>45</td>\n      <td>0.000220</td>\n      <td>EUR.GIANT_HEIGHT_LangoAllen2010_publicrelease_...</td>\n    </tr>\n    <tr>\n      <th>1620</th>\n      <td>4_coexpr</td>\n      <td>112</td>\n      <td>100</td>\n      <td>0.000228</td>\n      <td>EUR.GIANT_HEIGHT_LangoAllen2010_publicrelease_...</td>\n    </tr>\n    <tr>\n      <th>3486</th>\n      <td>1_ppi</td>\n      <td>45</td>\n      <td>55</td>\n      <td>0.000253</td>\n      <td>EUR.GIANT_Randall2013PlosGenet_stage1_publicre...</td>\n    </tr>\n    <tr>\n      <th>2516</th>\n      <td>3_signal</td>\n      <td>52</td>\n      <td>57</td>\n      <td>0.000266</td>\n      <td>EUR.GIANT_HEIGHT_LangoAllen2010_publicrelease_...</td>\n    </tr>\n    <tr>\n      <th>3626</th>\n      <td>1_ppi</td>\n      <td>175</td>\n      <td>43</td>\n      <td>0.000284</td>\n      <td>EUR.GIANT_HEIGHT_LangoAllen2010_publicrelease_...</td>\n    </tr>\n    <tr>\n      <th>734</th>\n      <td>1_ppi</td>\n      <td>189</td>\n      <td>53</td>\n      <td>0.000344</td>\n      <td>EUR.GIANT_HEIGHT_Wood_et_al_2014_publicrelease...</td>\n    </tr>\n    <tr>\n      <th>3508</th>\n      <td>2_ppi</td>\n      <td>35</td>\n      <td>65</td>\n      <td>0.000386</td>\n      <td>EUR.GIANT_HEIGHT_Wood_et_al_2014_publicrelease...</td>\n    </tr>\n    <tr>\n      <th>120</th>\n      <td>3_signal</td>\n      <td>20</td>\n      <td>100</td>\n      <td>0.000417</td>\n      <td>EUR.GIANT_HEIGHT_Wood_et_al_2014_publicrelease...</td>\n    </tr>\n    <tr>\n      <th>981</th>\n      <td>1_ppi</td>\n      <td>10</td>\n      <td>51</td>\n      <td>0.000440</td>\n      <td>EUR.GIANT_Randall2013PlosGenet_stage1_publicre...</td>\n    </tr>\n    <tr>\n      <th>3481</th>\n      <td>1_ppi</td>\n      <td>45</td>\n      <td>55</td>\n      <td>0.000528</td>\n      <td>EUR.GIANT_EXTREME_HEIGHT_Stage1_Berndt2013_pub...</td>\n    </tr>\n    <tr>\n      <th>3482</th>\n      <td>1_ppi</td>\n      <td>47</td>\n      <td>91</td>\n      <td>0.000543</td>\n      <td>EUR.GIANT_EXTREME_HEIGHT_Stage1_Berndt2013_pub...</td>\n    </tr>\n    <tr>\n      <th>3513</th>\n      <td>2_ppi</td>\n      <td>35</td>\n      <td>65</td>\n      <td>0.000603</td>\n      <td>EUR.GIANT_Randall2013PlosGenet_stage1_publicre...</td>\n    </tr>\n    <tr>\n      <th>3514</th>\n      <td>2_ppi</td>\n      <td>38</td>\n      <td>59</td>\n      <td>0.000659</td>\n      <td>EUR.GIANT_Randall2013PlosGenet_stage1_publicre...</td>\n    </tr>\n    <tr>\n      <th>3509</th>\n      <td>2_ppi</td>\n      <td>32</td>\n      <td>60</td>\n      <td>0.000710</td>\n      <td>EUR.GIANT_HEIGHT_Wood_et_al_2014_publicrelease...</td>\n    </tr>\n    <tr>\n      <th>1035</th>\n      <td>6_homology</td>\n      <td>3</td>\n      <td>50</td>\n      <td>0.000860</td>\n      <td>EUR.GIANT_Randall2013PlosGenet_stage1_publicre...</td>\n    </tr>\n    <tr>\n      <th>1017</th>\n      <td>4_coexpr</td>\n      <td>2</td>\n      <td>55</td>\n      <td>0.000923</td>\n      <td>EUR.GIANT_EXTREME_HEIGHT_Stage1_Berndt2013_pub...</td>\n    </tr>\n    <tr>\n      <th>3506</th>\n      <td>2_ppi</td>\n      <td>35</td>\n      <td>65</td>\n      <td>0.000931</td>\n      <td>EUR.GIANT_HEIGHT_LangoAllen2010_publicrelease_...</td>\n    </tr>\n    <tr>\n      <th>3510</th>\n      <td>2_ppi</td>\n      <td>38</td>\n      <td>59</td>\n      <td>0.000973</td>\n      <td>EUR.GIANT_HEIGHT_Wood_et_al_2014_publicrelease...</td>\n    </tr>\n    <tr>\n      <th>1309</th>\n      <td>6_homology</td>\n      <td>0</td>\n      <td>54</td>\n      <td>0.001113</td>\n      <td>EUR.GIANT_Randall2013PlosGenet_stage1_publicre...</td>\n    </tr>\n    <tr>\n      <th>1034</th>\n      <td>6_homology</td>\n      <td>19</td>\n      <td>74</td>\n      <td>0.001269</td>\n      <td>EUR.GIANT_HEIGHT_Wood_et_al_2014_publicrelease...</td>\n    </tr>\n    <tr>\n      <th>3599</th>\n      <td>6_homology</td>\n      <td>69</td>\n      <td>99</td>\n      <td>0.001278</td>\n      <td>EUR.GIANT_Randall2013PlosGenet_stage1_publicre...</td>\n    </tr>\n    <tr>\n      <th>979</th>\n      <td>1_ppi</td>\n      <td>10</td>\n      <td>51</td>\n      <td>0.001309</td>\n      <td>EUR.GIANT_HEIGHT_LangoAllen2010_publicrelease_...</td>\n    </tr>\n    <tr>\n      <th>3507</th>\n      <td>2_ppi</td>\n      <td>32</td>\n      <td>60</td>\n      <td>0.001701</td>\n      <td>EUR.GIANT_HEIGHT_LangoAllen2010_publicrelease_...</td>\n    </tr>\n  </tbody>\n</table>\n</div>",
          "text/plain": "         Network  Module ID  Module Size    Pvalue  \\\n353     4_coexpr        197           84  0.000016   \n3889    5_cancer         54           51  0.000022   \n3627       1_ppi        175           43  0.000027   \n3483       1_ppi         45           55  0.000036   \n3581    5_cancer         54           49  0.000036   \n3723  6_homology         82           44  0.000042   \n3200    3_signal         33           85  0.000050   \n1619    4_coexpr         41          100  0.000051   \n3484       1_ppi         45           55  0.000055   \n3888    5_cancer         54           51  0.000056   \n1622    4_coexpr         41          100  0.000060   \n1732    4_coexpr         77           46  0.000063   \n3897    5_cancer         54           51  0.000069   \n3457  6_homology        119           57  0.000069   \n3954       1_ppi         12           59  0.000070   \n2841  6_homology         76           70  0.000079   \n1346       2_ppi         49           60  0.000085   \n1457    3_signal        117           41  0.000087   \n3915  6_homology        154           73  0.000087   \n1730    4_coexpr         77           46  0.000092   \n2732    4_coexpr        165           81  0.000107   \n2065  6_homology        105           83  0.000126   \n1731    4_coexpr         77           46  0.000135   \n3505       2_ppi         38           59  0.000137   \n354     4_coexpr        197           84  0.000155   \n732        1_ppi        189           53  0.000161   \n3579    5_cancer         54           49  0.000166   \n1613    3_signal         91           52  0.000171   \n3512       2_ppi         32           60  0.000199   \n352     4_coexpr        197           84  0.000212   \n1180    3_signal         39           42  0.000218   \n2804    3_signal        195           45  0.000220   \n1620    4_coexpr        112          100  0.000228   \n3486       1_ppi         45           55  0.000253   \n2516    3_signal         52           57  0.000266   \n3626       1_ppi        175           43  0.000284   \n734        1_ppi        189           53  0.000344   \n3508       2_ppi         35           65  0.000386   \n120     3_signal         20          100  0.000417   \n981        1_ppi         10           51  0.000440   \n3481       1_ppi         45           55  0.000528   \n3482       1_ppi         47           91  0.000543   \n3513       2_ppi         35           65  0.000603   \n3514       2_ppi         38           59  0.000659   \n3509       2_ppi         32           60  0.000710   \n1035  6_homology          3           50  0.000860   \n1017    4_coexpr          2           55  0.000923   \n3506       2_ppi         35           65  0.000931   \n3510       2_ppi         38           59  0.000973   \n1309  6_homology          0           54  0.001113   \n1034  6_homology         19           74  0.001269   \n3599  6_homology         69           99  0.001278   \n979        1_ppi         10           51  0.001309   \n3507       2_ppi         32           60  0.001701   \n\n                                              gwas_name  \n353   EUR.GIANT_HEIGHT_Wood_et_al_2014_publicrelease...  \n3889  EUR.GIANT_HEIGHT_LangoAllen2010_publicrelease_...  \n3627  EUR.GIANT_HEIGHT_Wood_et_al_2014_publicrelease...  \n3483  EUR.GIANT_HEIGHT_LangoAllen2010_publicrelease_...  \n3581  EUR.GIANT_Randall2013PlosGenet_stage1_publicre...  \n3723  EUR.GIANT_Randall2013PlosGenet_stage1_publicre...  \n3200  EUR.GIANT_HEIGHT_LangoAllen2010_publicrelease_...  \n1619  EUR.GIANT_HEIGHT_LangoAllen2010_publicrelease_...  \n3484  EUR.GIANT_HEIGHT_Wood_et_al_2014_publicrelease...  \n3888  EUR.GIANT_EXTREME_HEIGHT_Stage1_Berndt2013_pub...  \n1622  EUR.GIANT_Randall2013PlosGenet_stage1_publicre...  \n1732  EUR.GIANT_Randall2013PlosGenet_stage1_publicre...  \n3897  EUR.GIANT_Randall2013PlosGenet_stage1_publicre...  \n3457  EUR.GIANT_HEIGHT_Wood_et_al_2014_publicrelease...  \n3954  EUR.GIANT_Randall2013PlosGenet_stage1_publicre...  \n2841  EUR.GIANT_Randall2013PlosGenet_stage1_publicre...  \n1346  EUR.GIANT_HEIGHT_Wood_et_al_2014_publicrelease...  \n1457  EUR.GIANT_HEIGHT_LangoAllen2010_publicrelease_...  \n3915  EUR.GIANT_EXTREME_HEIGHT_Stage1_Berndt2013_pub...  \n1730  EUR.GIANT_HEIGHT_LangoAllen2010_publicrelease_...  \n2732  EUR.GIANT_Randall2013PlosGenet_stage1_publicre...  \n2065  EUR.GIANT_HEIGHT_Wood_et_al_2014_publicrelease...  \n1731  EUR.GIANT_Randall2013PlosGenet_stage1_publicre...  \n3505  EUR.GIANT_HEIGHT_LangoAllen2010_publicrelease_...  \n354   EUR.GIANT_Randall2013PlosGenet_stage1_publicre...  \n732   EUR.GIANT_HEIGHT_LangoAllen2010_publicrelease_...  \n3579  EUR.GIANT_HEIGHT_LangoAllen2010_publicrelease_...  \n1613  EUR.GIANT_Randall2013PlosGenet_stage1_publicre...  \n3512  EUR.GIANT_Randall2013PlosGenet_stage1_publicre...  \n352   EUR.GIANT_HEIGHT_LangoAllen2010_publicrelease_...  \n1180  EUR.GIANT_HEIGHT_LangoAllen2010_publicrelease_...  \n2804  EUR.GIANT_HEIGHT_LangoAllen2010_publicrelease_...  \n1620  EUR.GIANT_HEIGHT_LangoAllen2010_publicrelease_...  \n3486  EUR.GIANT_Randall2013PlosGenet_stage1_publicre...  \n2516  EUR.GIANT_HEIGHT_LangoAllen2010_publicrelease_...  \n3626  EUR.GIANT_HEIGHT_LangoAllen2010_publicrelease_...  \n734   EUR.GIANT_HEIGHT_Wood_et_al_2014_publicrelease...  \n3508  EUR.GIANT_HEIGHT_Wood_et_al_2014_publicrelease...  \n120   EUR.GIANT_HEIGHT_Wood_et_al_2014_publicrelease...  \n981   EUR.GIANT_Randall2013PlosGenet_stage1_publicre...  \n3481  EUR.GIANT_EXTREME_HEIGHT_Stage1_Berndt2013_pub...  \n3482  EUR.GIANT_EXTREME_HEIGHT_Stage1_Berndt2013_pub...  \n3513  EUR.GIANT_Randall2013PlosGenet_stage1_publicre...  \n3514  EUR.GIANT_Randall2013PlosGenet_stage1_publicre...  \n3509  EUR.GIANT_HEIGHT_Wood_et_al_2014_publicrelease...  \n1035  EUR.GIANT_Randall2013PlosGenet_stage1_publicre...  \n1017  EUR.GIANT_EXTREME_HEIGHT_Stage1_Berndt2013_pub...  \n3506  EUR.GIANT_HEIGHT_LangoAllen2010_publicrelease_...  \n3510  EUR.GIANT_HEIGHT_Wood_et_al_2014_publicrelease...  \n1309  EUR.GIANT_Randall2013PlosGenet_stage1_publicre...  \n1034  EUR.GIANT_HEIGHT_Wood_et_al_2014_publicrelease...  \n3599  EUR.GIANT_Randall2013PlosGenet_stage1_publicre...  \n979   EUR.GIANT_HEIGHT_LangoAllen2010_publicrelease_...  \n3507  EUR.GIANT_HEIGHT_LangoAllen2010_publicrelease_...  "
         },
         "metadata": {},
         "output_type": "display_data"
        }
       ]
      }
     },
     "5339f06521a84f3888e5bf4d2408eaef": {
      "model_module": "@jupyter-widgets/base",
      "model_module_version": "1.0.0",
      "model_name": "LayoutModel",
      "state": {}
     },
     "54af2cae3f4e4c1abd731bb1b5b28d3a": {
      "model_module": "@jupyter-widgets/controls",
      "model_module_version": "1.0.0",
      "model_name": "DescriptionStyleModel",
      "state": {
       "description_width": ""
      }
     },
     "54dc5937f8324b33843627b122d13a0a": {
      "model_module": "@jupyter-widgets/controls",
      "model_module_version": "1.0.0",
      "model_name": "DescriptionStyleModel",
      "state": {
       "description_width": ""
      }
     },
     "551702f537214692a5e9b5787d1a5418": {
      "model_module": "@jupyter-widgets/base",
      "model_module_version": "1.0.0",
      "model_name": "LayoutModel",
      "state": {}
     },
     "56616378942a46ca8be9491cf5260864": {
      "model_module": "@jupyter-widgets/base",
      "model_module_version": "1.0.0",
      "model_name": "LayoutModel",
      "state": {}
     },
     "57c25d6f2fee45c09cb5cd518584ad3c": {
      "model_module": "@jupyter-widgets/controls",
      "model_module_version": "1.0.0",
      "model_name": "IntSliderModel",
      "state": {
       "description": "Module Size",
       "layout": "IPY_MODEL_eda6bd1c67904a5e950e4897bb1e13ab",
       "min": 3,
       "style": "IPY_MODEL_da92b4d4dc014a2fa8f0ff56bfea0861",
       "value": 3
      }
     },
     "58060d04b9a846bcba1f14f180d127eb": {
      "model_module": "@jupyter-widgets/controls",
      "model_module_version": "1.0.0",
      "model_name": "DescriptionStyleModel",
      "state": {
       "description_width": ""
      }
     },
     "588affddbe1a42f5af82254d4c7c87d6": {
      "model_module": "@jupyter-widgets/controls",
      "model_module_version": "1.0.0",
      "model_name": "DescriptionStyleModel",
      "state": {
       "description_width": ""
      }
     },
     "58cba17be663489d8ce29d728ef21f46": {
      "model_module": "@jupyter-widgets/controls",
      "model_module_version": "1.0.0",
      "model_name": "DropdownModel",
      "state": {
       "_options_labels": [
        "BMI (female)",
        "BMI (male)",
        "BMI, obesity",
        "BMI, waist, hip (female)",
        "BMI, waist, hip (male)",
        "Height",
        "Various"
       ],
       "description": "Trait Group:",
       "index": 5,
       "layout": "IPY_MODEL_83e393613e7849efb7d99fa39a8b740b",
       "style": "IPY_MODEL_4008b88fc59841e0b9d44c82e1a387ce"
      }
     },
     "598488e3e1d84adf819c20743b0f27a2": {
      "model_module": "@jupyter-widgets/output",
      "model_module_version": "1.0.0",
      "model_name": "OutputModel",
      "state": {
       "layout": "IPY_MODEL_b98f97c4099f4e0983308fcdea01955e",
       "outputs": [
        {
         "data": {
          "text/html": "<div>\n<style>\n    .dataframe thead tr:only-child th {\n        text-align: right;\n    }\n\n    .dataframe thead th {\n        text-align: left;\n    }\n\n    .dataframe tbody tr th {\n        vertical-align: top;\n    }\n</style>\n<table border=\"1\" class=\"dataframe\">\n  <thead>\n    <tr style=\"text-align: right;\">\n      <th></th>\n      <th>Trait Type</th>\n      <th>Total Number</th>\n    </tr>\n  </thead>\n  <tbody>\n    <tr>\n      <th>0</th>\n      <td>Alzheimer's disease</td>\n      <td>18</td>\n    </tr>\n    <tr>\n      <th>1</th>\n      <td>Anxiety disorder</td>\n      <td>7</td>\n    </tr>\n    <tr>\n      <th>2</th>\n      <td>Autism</td>\n      <td>9</td>\n    </tr>\n    <tr>\n      <th>3</th>\n      <td>BMI (female)</td>\n      <td>276</td>\n    </tr>\n    <tr>\n      <th>4</th>\n      <td>BMI (male)</td>\n      <td>268</td>\n    </tr>\n    <tr>\n      <th>5</th>\n      <td>BMI, obesity</td>\n      <td>224</td>\n    </tr>\n    <tr>\n      <th>6</th>\n      <td>BMI, waist, hip (female)</td>\n      <td>137</td>\n    </tr>\n    <tr>\n      <th>7</th>\n      <td>BMI, waist, hip (male)</td>\n      <td>83</td>\n    </tr>\n    <tr>\n      <th>8</th>\n      <td>Bipolar, schizophrenia</td>\n      <td>172</td>\n    </tr>\n    <tr>\n      <th>9</th>\n      <td>Coronary artery disease</td>\n      <td>145</td>\n    </tr>\n    <tr>\n      <th>10</th>\n      <td>Electrolytes</td>\n      <td>36</td>\n    </tr>\n    <tr>\n      <th>11</th>\n      <td>Fasting glucose</td>\n      <td>110</td>\n    </tr>\n    <tr>\n      <th>12</th>\n      <td>Height</td>\n      <td>213</td>\n    </tr>\n    <tr>\n      <th>13</th>\n      <td>Inflammatory bowel disease</td>\n      <td>233</td>\n    </tr>\n    <tr>\n      <th>14</th>\n      <td>LDL, total cholesterol</td>\n      <td>610</td>\n    </tr>\n    <tr>\n      <th>15</th>\n      <td>Leptin</td>\n      <td>15</td>\n    </tr>\n    <tr>\n      <th>16</th>\n      <td>Narcolepsy</td>\n      <td>58</td>\n    </tr>\n    <tr>\n      <th>17</th>\n      <td>Neuroticism</td>\n      <td>49</td>\n    </tr>\n    <tr>\n      <th>18</th>\n      <td>Rheumatoid arthritis</td>\n      <td>274</td>\n    </tr>\n    <tr>\n      <th>19</th>\n      <td>Schizophrenia</td>\n      <td>595</td>\n    </tr>\n    <tr>\n      <th>20</th>\n      <td>Type 2 diabetes</td>\n      <td>18</td>\n    </tr>\n    <tr>\n      <th>21</th>\n      <td>Various</td>\n      <td>123</td>\n    </tr>\n  </tbody>\n</table>\n</div>",
          "text/plain": "                    Trait Type  Total Number\n0          Alzheimer's disease            18\n1             Anxiety disorder             7\n2                       Autism             9\n3                 BMI (female)           276\n4                   BMI (male)           268\n5                 BMI, obesity           224\n6     BMI, waist, hip (female)           137\n7       BMI, waist, hip (male)            83\n8       Bipolar, schizophrenia           172\n9      Coronary artery disease           145\n10                Electrolytes            36\n11             Fasting glucose           110\n12                      Height           213\n13  Inflammatory bowel disease           233\n14      LDL, total cholesterol           610\n15                      Leptin            15\n16                  Narcolepsy            58\n17                 Neuroticism            49\n18        Rheumatoid arthritis           274\n19               Schizophrenia           595\n20             Type 2 diabetes            18\n21                     Various           123"
         },
         "metadata": {},
         "output_type": "display_data"
        }
       ]
      }
     },
     "5a346a9d1b6e45e9890fc09aad3ecbf5": {
      "model_module": "@jupyter-widgets/base",
      "model_module_version": "1.0.0",
      "model_name": "LayoutModel",
      "state": {}
     },
     "5a738c2427d04ff0b45e0909362ad063": {
      "model_module": "@jupyter-widgets/controls",
      "model_module_version": "1.0.0",
      "model_name": "LabelModel",
      "state": {
       "layout": "IPY_MODEL_5b9f2e3507024b6397cf6d05054fab79",
       "style": "IPY_MODEL_82d9ed8c0492431cb20e220a2ab9bc71",
       "value": "List of trait module by trait type and network:"
      }
     },
     "5b531f5729614be0a326fcd8c91f8202": {
      "model_module": "@jupyter-widgets/base",
      "model_module_version": "1.0.0",
      "model_name": "LayoutModel",
      "state": {}
     },
     "5b9f2e3507024b6397cf6d05054fab79": {
      "model_module": "@jupyter-widgets/base",
      "model_module_version": "1.0.0",
      "model_name": "LayoutModel",
      "state": {}
     },
     "5c0cfb984a954b48aeeda7e3cd2a6383": {
      "model_module": "@jupyter-widgets/base",
      "model_module_version": "1.0.0",
      "model_name": "LayoutModel",
      "state": {}
     },
     "5c6d6943ac31449db2764111c3d14b59": {
      "model_module": "@jupyter-widgets/controls",
      "model_module_version": "1.0.0",
      "model_name": "DescriptionStyleModel",
      "state": {
       "description_width": ""
      }
     },
     "5fd7f5db801d4f5d98ed9254a32da557": {
      "model_module": "@jupyter-widgets/base",
      "model_module_version": "1.0.0",
      "model_name": "LayoutModel",
      "state": {}
     },
     "60be2394108f4cc59ab4e170de75dcde": {
      "model_module": "@jupyter-widgets/controls",
      "model_module_version": "1.0.0",
      "model_name": "DropdownModel",
      "state": {
       "_options_labels": [
        "Inflammatory bowel disease",
        "Rheumatoid arthritis",
        "Various"
       ],
       "description": "Trait Group:",
       "index": 0,
       "layout": "IPY_MODEL_314114c717354cfe99317ece35dbed9f",
       "style": "IPY_MODEL_58060d04b9a846bcba1f14f180d127eb"
      }
     },
     "61fac90e0b924539814a0221641bae5b": {
      "model_module": "@jupyter-widgets/controls",
      "model_module_version": "1.0.0",
      "model_name": "DropdownModel",
      "state": {
       "_options_labels": [
        "All",
        "Anthropometric",
        "Cardiovascular",
        "Glycemic",
        "Immune",
        "Lipids",
        "Neurodegenerative",
        "Psychiatric",
        "Various"
       ],
       "description": "Trait Type:",
       "index": 2,
       "layout": "IPY_MODEL_9d9481e6d70f4031ba8007035384f098",
       "style": "IPY_MODEL_9df608d5e0ed42468fd16af9a5a9420b"
      }
     },
     "621dbddc17094c87be7d0d0ae73bb25c": {
      "model_module": "@jupyter-widgets/output",
      "model_module_version": "1.0.0",
      "model_name": "OutputModel",
      "state": {
       "layout": "IPY_MODEL_ef8dded9ade54e6aa81d785042859c33",
       "outputs": [
        {
         "name": "stdout",
         "output_type": "stream",
         "text": "Trait module: ['EZH2', 'CELF1', 'RB1', 'CCND1', 'CCND3', 'RBL2', 'TFDP1', 'E2F5', 'E2F4', 'CDK6', 'E2F1', 'CDKN2A', 'MIR17HG', 'E2F3', 'CDK4', 'CCND2', 'RBL1', 'CDKN2D', 'CCNA2', 'CDK3', 'TFDP2', 'PELP1', 'E2F2', 'HIC1', 'CDCA4', 'ARID4A', 'CDKN2C', 'CABLES1', 'LIN9', 'SOD2', 'EED', 'KDM6A', 'CDKN2B', 'FBXW8', 'BRD2'] [('E2F1', u'CDKN2A'), ('E2F1', u'CCNA2'), ('E2F1', u'HIC1'), ('E2F1', u'RB1'), ('E2F1', u'EZH2'), ('E2F1', u'MIR17HG'), ('E2F1', u'CDCA4'), ('E2F1', u'EED'), ('E2F1', 'TFDP2'), ('E2F1', 'TFDP1'), ('E2F1', u'RBL1'), ('CELF1', 'CDK4'), ('PELP1', 'CDK4'), ('EZH2', 'EED'), ('EZH2', 'E2F2'), ('MIR17HG', 'E2F3'), ('MIR17HG', 'E2F2'), ('EED', 'E2F2'), ('ARID4A', 'RB1'), ('CCNA2', 'RBL1'), ('CCNA2', 'RB1'), ('RBL2', 'E2F5'), ('RBL2', 'E2F4'), ('RBL2', 'CCND1'), ('RBL2', 'CDK4'), ('RBL2', 'CDK6'), ('RBL2', 'TFDP1'), ('RB1', 'E2F4'), ('RB1', 'E2F2'), ('RB1', 'CCND1'), ('RB1', 'CCND3'), ('RB1', 'CCND2'), ('RB1', 'E2F3'), ('RB1', 'CDK3'), ('RB1', 'KDM6A'), ('RB1', 'CDK6'), ('RB1', 'CDK4'), ('RB1', 'TFDP2'), ('RB1', 'TFDP1'), ('FBXW8', 'CCND1'), ('CABLES1', 'CDK3'), ('CDKN2B', 'CDK4'), ('CDKN2C', 'CDK4'), ('CDKN2C', 'CDK6'), ('CDKN2A', 'CDK6'), ('CDKN2A', 'CDK4'), ('CDKN2A', 'E2F3'), ('CDKN2A', 'E2F2'), ('SOD2', 'CDK4'), ('RBL1', 'E2F5'), ('RBL1', 'E2F4'), ('RBL1', 'CCND1'), ('RBL1', 'CDK4'), ('RBL1', 'TFDP2'), ('RBL1', 'TFDP1'), ('CDKN2D', 'CDK4'), ('CDKN2D', 'CDK6'), ('BRD2', 'E2F2'), ('E2F5', 'TFDP1'), ('E2F5', 'E2F4'), ('E2F4', 'TFDP2'), ('E2F4', 'TFDP1'), ('E2F3', 'TFDP1'), ('E2F2', 'TFDP1'), ('E2F2', 'TFDP2'), ('LIN9', 'CDK3'), ('CCND1', 'CDK4'), ('CCND1', 'CDK6'), ('CCND3', 'CDK4'), ('CCND3', 'CDK6'), ('CCND2', 'CDK4'), ('CCND2', 'CDK6')]\n"
        },
        {
         "data": {
          "text/html": "<iframe id=\"igraph\" scrolling=\"no\" style=\"border:none;\" seamless=\"seamless\" src=\"https://plot.ly/~sarvenaz/14.embed\" height=\"800px\" width=\"800px\"></iframe>",
          "text/plain": "<plotly.tools.PlotlyDisplay object>"
         },
         "metadata": {},
         "output_type": "display_data"
        }
       ]
      }
     },
     "63b2cf33048940e381897086c8866f88": {
      "model_module": "@jupyter-widgets/controls",
      "model_module_version": "1.0.0",
      "model_name": "DescriptionStyleModel",
      "state": {
       "description_width": ""
      }
     },
     "6573c532a18340c48463c2713b3d2e69": {
      "model_module": "@jupyter-widgets/controls",
      "model_module_version": "1.0.0",
      "model_name": "SliderStyleModel",
      "state": {
       "description_width": ""
      }
     },
     "663fdb31b23b4a41a912a3bdf7ac560e": {
      "model_module": "@jupyter-widgets/output",
      "model_module_version": "1.0.0",
      "model_name": "OutputModel",
      "state": {
       "layout": "IPY_MODEL_9f9f3dd77cf84961ac6c100d476f5f8f",
       "outputs": [
        {
         "data": {
          "text/html": "<div style='margin-top:8px'><img src='data:image/png;base64,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' width='30px' height='35px' style='display: inline-block; padding-right: 10px'></img><span>Lightning initialized</span></div>",
          "text/plain": "<IPython.core.display.HTML object>"
         },
         "metadata": {},
         "output_type": "display_data"
        },
        {
         "name": "stderr",
         "output_type": "stream",
         "text": "IOPub data rate exceeded.\nThe notebook server will temporarily stop sending output\nto the client in order to avoid crashing it.\nTo change this limit, set the config variable\n`--NotebookApp.iopub_data_rate_limit`.\n"
        },
        {
         "name": "stdout",
         "output_type": "stream",
         "text": "Running local mode, some functionality limited.\n\n"
        },
        {
         "data": {
          "text/html": "<meta name=\"viewport\" content=\"width=device-width, initial-scale=1, maximum-scale=1\"/>\n<meta http-equiv=\"X-UA-Compatible\" content=\"IE=10; IE=9; IE=8; IE=7; IE=EDGE\" charset=\"utf-8\"/>\n<link href=\"http://fonts.googleapis.com/css?family=Open+Sans:400,700\" rel=\"stylesheet\" type=\"text/css\"/>\n<style>\n#lightning-body {\n\tmax-width: 100%;\n\tborder: none;\n}\n#lightning-body:focus {\n\toutline: none !important;\n}\n.feed-container:focus {\n\toutline: none !important;\n}\n.feed-item-container:focus {\n\toutline: none !important;\n}\n.feed-item:focus {\n\toutline: none !important;\n}\n</style>\n<div id=\"lightning-body\" class=\"container content wrap push\">\n\t<div class=\"feed-container\">\n\t\t<div data-model=\"visualization\" class=\"feed-item-container\">\n\t\t\t<div id=AGVUJJXU8W data-type=\"force\" data-data=\"{&#34;nodes&#34;: [0, 1, 2, 3, 4, 5, 6, 7, 8, 9, 10, 11, 12, 13, 14, 15, 16, 17, 18, 19, 20, 21, 22, 23, 24, 25, 26, 27, 28, 29, 30, 31, 32, 33, 34, 35, 36, 37, 38, 39, 40, 41, 42, 43, 44, 45, 46, 47, 48, 49, 50, 51, 52, 53, 54, 55, 56, 57, 58], &#34;labels&#34;: [&#34;STIM1&#34;, &#34;SLBP&#34;, &#34;CUEDC2&#34;, &#34;RAB4A&#34;, &#34;CEP55&#34;, &#34;RFC1&#34;, &#34;Q9BSD8&#34;, &#34;PKMYT1&#34;, &#34;EPB41&#34;, &#34;ERF&#34;, &#34;SEPT9&#34;, &#34;MAP4&#34;, &#34;REPS2&#34;, &#34;NCAM1&#34;, &#34;MC4R&#34;, &#34;TPX2&#34;, &#34;Q9H6U9&#34;, &#34;ECT2&#34;, &#34;RACGAP1&#34;, &#34;NEDD1&#34;, &#34;GADD45B&#34;, &#34;ERCC6L&#34;, &#34;GADD45G&#34;, &#34;GOLGA2&#34;, &#34;ESPL1&#34;, &#34;UIMC1&#34;, &#34;CDCA5&#34;, &#34;CENPA&#34;, &#34;NINL&#34;, &#34;IREB2&#34;, &#34;SIRT3&#34;, &#34;INCENP&#34;, &#34;V9HWH0&#34;, &#34;MCTS1&#34;, &#34;RAB5B&#34;, &#34;DLGAP5&#34;, &#34;EPN1&#34;, &#34;SGOL1&#34;, &#34;RSF1&#34;, &#34;CHRM2&#34;, &#34;PIK3C2A&#34;, &#34;USP16&#34;, &#34;TPR&#34;, &#34;NDEL1&#34;, &#34;ANAPC1&#34;, &#34;CDC16&#34;, &#34;PBK&#34;, &#34;RAB11FIP3&#34;, &#34;RCC1&#34;, &#34;NUP50&#34;, &#34;GH1&#34;, &#34;NME2&#34;, &#34;CDC23&#34;, &#34;KIF22&#34;, &#34;NEDD4L&#34;, &#34;TUBB3&#34;, &#34;PITPNM1&#34;, &#34;CDK5RAP3&#34;, &#34;SYN3&#34;], &#34;links&#34;: [], &#34;size&#34;: [1.5, 1.5, 1.5, 1.5, 1.5, 1.5, 1.5, 1.5, 1.5, 1.5, 1.5, 1.5, 1.5, 1.5, 1.5, 1.5, 1.5, 1.5, 1.5, 1.5, 1.5, 1.5, 1.5, 1.5, 1.5, 1.5, 1.5, 1.5, 1.5, 1.5, 1.5, 1.5, 1.5, 1.5, 1.5, 1.5, 1.5, 1.5, 1.5, 1.5, 1.5, 1.5, 1.5, 1.5, 1.5, 1.5, 1.5, 1.5, 1.5, 1.5, 1.5, 1.5, 1.5, 1.5, 1.5, 1.5, 1.5, 1.5, 1.5]}\" data-images=\"\" data-options=\"{&#34;tooltips&#34;: true, &#34;description&#34;: null, &#34;zoom&#34;: true, &#34;height&#34;: null, &#34;width&#34;: 600, &#34;brush&#34;: true}\" data-initialized=\"false\" class=\"feed-item\"></div>\n\t\t</div>\n\t</div>\n</div>\n<script>\n\twindow.lightning = window.lightning || {};\n</script>\n<script src=\"http://ajax.googleapis.com/ajax/libs/jquery/1.11.0/jquery.min.js\"></script>\n<script>\n\tif(window.lightning && window.lightning.initVisualizations) {\n\t\twindow.lightning.initVisualizations();\n\t}\n</script>",
          "text/plain": "<lightning.visualization.VisualizationLocal at 0x1a18807550>"
         },
         "metadata": {},
         "output_type": "display_data"
        }
       ]
      }
     },
     "66e1609a709d4414a756a90d9ae4a5ba": {
      "model_module": "@jupyter-widgets/controls",
      "model_module_version": "1.0.0",
      "model_name": "DescriptionStyleModel",
      "state": {
       "description_width": ""
      }
     },
     "67f80f1af7d7429eb76a44316cca7015": {
      "model_module": "@jupyter-widgets/controls",
      "model_module_version": "1.0.0",
      "model_name": "DescriptionStyleModel",
      "state": {
       "description_width": ""
      }
     },
     "687e0935ccfc45499c9378036cef92c1": {
      "model_module": "@jupyter-widgets/controls",
      "model_module_version": "1.0.0",
      "model_name": "DropdownModel",
      "state": {
       "_options_labels": [
        "BMI (female)",
        "BMI (male)",
        "BMI, obesity",
        "BMI, waist, hip (female)",
        "BMI, waist, hip (male)",
        "Height",
        "Various"
       ],
       "description": "Trait Group:",
       "index": 0,
       "layout": "IPY_MODEL_1d6bd2ce98c349a9a1749b0aed94f789",
       "style": "IPY_MODEL_5c6d6943ac31449db2764111c3d14b59"
      }
     },
     "69b1bc4f37a24e5d820321c98c2009aa": {
      "model_module": "@jupyter-widgets/base",
      "model_module_version": "1.0.0",
      "model_name": "LayoutModel",
      "state": {}
     },
     "6b404582c13c41898d1c5f6f19745f3b": {
      "model_module": "@jupyter-widgets/base",
      "model_module_version": "1.0.0",
      "model_name": "LayoutModel",
      "state": {}
     },
     "6b4b6c95f88c4dd4854b5b6e9deea0a6": {
      "model_module": "@jupyter-widgets/controls",
      "model_module_version": "1.0.0",
      "model_name": "VBoxModel",
      "state": {
       "_dom_classes": [
        "widget-interact"
       ],
       "children": [
        "IPY_MODEL_93a43c43b88642b889cdf4a410ccf76c",
        "IPY_MODEL_c78a0d4b8a8a45e984231358681aee0c",
        "IPY_MODEL_ef1fe8bb9e8c4117ad321d0311b84fc4",
        "IPY_MODEL_988788c6fd5849acadd3d057d14f7e6c",
        "IPY_MODEL_d526b5f60ec348b2a3aa9b92aeb65fbf"
       ],
       "layout": "IPY_MODEL_090648ba002241ac8a73359a5e726e8d"
      }
     },
     "6baa22e9c6034b8baa7d36247bf2a975": {
      "model_module": "@jupyter-widgets/controls",
      "model_module_version": "1.0.0",
      "model_name": "DescriptionStyleModel",
      "state": {
       "description_width": ""
      }
     },
     "6ce07b96a1ad4670854fb38b9b77eff1": {
      "model_module": "@jupyter-widgets/base",
      "model_module_version": "1.0.0",
      "model_name": "LayoutModel",
      "state": {}
     },
     "6e4a0d1c161e46ed92eec2a4e334fbed": {
      "model_module": "@jupyter-widgets/controls",
      "model_module_version": "1.0.0",
      "model_name": "DescriptionStyleModel",
      "state": {
       "description_width": ""
      }
     },
     "6e8c03933e4142f0becd894b0e3396eb": {
      "model_module": "@jupyter-widgets/controls",
      "model_module_version": "1.0.0",
      "model_name": "IntTextModel",
      "state": {
       "description": "Module ID:",
       "layout": "IPY_MODEL_fe118aca1a0d4279b1037cede6beb391",
       "step": 1,
       "style": "IPY_MODEL_67f80f1af7d7429eb76a44316cca7015",
       "value": 3831
      }
     },
     "71b1263286f14645ab1eb0859821ffa6": {
      "model_module": "@jupyter-widgets/base",
      "model_module_version": "1.0.0",
      "model_name": "LayoutModel",
      "state": {}
     },
     "71b5857214c646b5accd1deda4f5a8c8": {
      "model_module": "@jupyter-widgets/controls",
      "model_module_version": "1.0.0",
      "model_name": "DropdownModel",
      "state": {
       "_options_labels": [
        "All",
        "Alzheimer's disease",
        "Anxiety disorder",
        "Autism",
        "BMI (female)",
        "BMI (male)",
        "BMI, obesity",
        "BMI, waist, hip (female)",
        "BMI, waist, hip (male)",
        "Bipolar, schizophrenia",
        "Coronary artery disease",
        "Electrolytes",
        "Fasting glucose",
        "Height",
        "Inflammatory bowel disease",
        "LDL, total cholesterol",
        "Leptin",
        "Narcolepsy",
        "Neuroticism",
        "Rheumatoid arthritis",
        "Schizophrenia",
        "Type 2 diabetes",
        "Various"
       ],
       "description": "Trait Group:",
       "index": 0,
       "layout": "IPY_MODEL_92cdf851fc864918874e0190da4a7971",
       "style": "IPY_MODEL_74a890db2cfe4a61a774d5dddae8660f"
      }
     },
     "71b9cac1b6754fa3b71e14e2f86476f0": {
      "model_module": "@jupyter-widgets/controls",
      "model_module_version": "1.0.0",
      "model_name": "DropdownModel",
      "state": {
       "_options_labels": [
        "Coronary artery disease"
       ],
       "description": "Trait Group:",
       "index": 0,
       "layout": "IPY_MODEL_b62171f75c114f909d3a99f3e3a224b0",
       "style": "IPY_MODEL_bbdc63ca285d44e68c911bc46f085da0"
      }
     },
     "71fdd282c6da4ba7943f017b88fc06f6": {
      "model_module": "@jupyter-widgets/base",
      "model_module_version": "1.0.0",
      "model_name": "LayoutModel",
      "state": {}
     },
     "7298fec9fba7451eac1d22f624f1ef65": {
      "model_module": "@jupyter-widgets/controls",
      "model_module_version": "1.0.0",
      "model_name": "VBoxModel",
      "state": {
       "_dom_classes": [
        "widget-interact"
       ],
       "children": [
        "IPY_MODEL_2731c962839140e398b96662c95cdf24",
        "IPY_MODEL_c3ee82645444423395f4b84688088dfd",
        "IPY_MODEL_1e1e8c9fd53b4a148aa8f7fe7bb130e4",
        "IPY_MODEL_16c0ebd663ba40cabb02d65821c99209",
        "IPY_MODEL_26929b2b94f64ef58d085628d2cda469"
       ],
       "layout": "IPY_MODEL_c6998e42539342938b518fcc296d156a"
      }
     },
     "73b97fb65f734142b8f514e0fcbcb805": {
      "model_module": "@jupyter-widgets/base",
      "model_module_version": "1.0.0",
      "model_name": "LayoutModel",
      "state": {}
     },
     "73d9a19636394ef5ad660286577e455e": {
      "model_module": "@jupyter-widgets/controls",
      "model_module_version": "1.0.0",
      "model_name": "DescriptionStyleModel",
      "state": {
       "description_width": ""
      }
     },
     "74a890db2cfe4a61a774d5dddae8660f": {
      "model_module": "@jupyter-widgets/controls",
      "model_module_version": "1.0.0",
      "model_name": "DescriptionStyleModel",
      "state": {
       "description_width": ""
      }
     },
     "7558e48d32364951967a3501a6e9c253": {
      "model_module": "@jupyter-widgets/controls",
      "model_module_version": "1.0.0",
      "model_name": "VBoxModel",
      "state": {
       "_dom_classes": [
        "widget-interact"
       ],
       "children": [
        "IPY_MODEL_c84a35e28d2c497ab8e370fb74eba050",
        "IPY_MODEL_ab437f094e814fe2956c738b7735ba0a",
        "IPY_MODEL_57c25d6f2fee45c09cb5cd518584ad3c",
        "IPY_MODEL_2ad2de29263e4149a85bc9d139c31d34",
        "IPY_MODEL_2c4e94fb9f1549dda0ec6e683887b623"
       ],
       "layout": "IPY_MODEL_9df904a4077e4823a82fbc4c1e0b98b9"
      }
     },
     "75e11aaafa0246e7b1c8046746af1b83": {
      "model_module": "@jupyter-widgets/base",
      "model_module_version": "1.0.0",
      "model_name": "LayoutModel",
      "state": {}
     },
     "76a62c62f08c420e943184c25341734a": {
      "model_module": "@jupyter-widgets/controls",
      "model_module_version": "1.0.0",
      "model_name": "DescriptionStyleModel",
      "state": {
       "description_width": ""
      }
     },
     "775720d8b6e34e4db4acd447dbc0a68a": {
      "model_module": "@jupyter-widgets/controls",
      "model_module_version": "1.0.0",
      "model_name": "VBoxModel",
      "state": {
       "_dom_classes": [
        "widget-interact"
       ],
       "children": [
        "IPY_MODEL_61fac90e0b924539814a0221641bae5b",
        "IPY_MODEL_71b9cac1b6754fa3b71e14e2f86476f0",
        "IPY_MODEL_1de2162903344c598246ec97d0d012f5",
        "IPY_MODEL_07ee7d60a3494034b3a9ba4fc9b7381e",
        "IPY_MODEL_598488e3e1d84adf819c20743b0f27a2"
       ],
       "layout": "IPY_MODEL_180d81fcccce49169a6e9cf4d2bc397f"
      }
     },
     "77bcd3b1da584169af2409f36ba139de": {
      "model_module": "@jupyter-widgets/controls",
      "model_module_version": "1.0.0",
      "model_name": "DescriptionStyleModel",
      "state": {
       "description_width": ""
      }
     },
     "7a00f93dce6e4925814c7b1d4563db24": {
      "model_module": "@jupyter-widgets/controls",
      "model_module_version": "1.0.0",
      "model_name": "DescriptionStyleModel",
      "state": {
       "description_width": ""
      }
     },
     "7a28f7fec1ae48e8aac816a656769d0e": {
      "model_module": "@jupyter-widgets/controls",
      "model_module_version": "1.0.0",
      "model_name": "DropdownModel",
      "state": {
       "_options_labels": [
        "Coronary artery disease"
       ],
       "description": "Trait Group:",
       "index": 0,
       "layout": "IPY_MODEL_551702f537214692a5e9b5787d1a5418",
       "style": "IPY_MODEL_d9a13192eadd471abbcf576689ba0061"
      }
     },
     "7aad9690093f4b8586b863275974ef42": {
      "model_module": "@jupyter-widgets/controls",
      "model_module_version": "1.0.0",
      "model_name": "DropdownModel",
      "state": {
       "_options_labels": [
        "All",
        "Anthropometric",
        "Cardiovascular",
        "Glycemic",
        "Immune",
        "Lipids",
        "Neurodegenerative",
        "Psychiatric",
        "Various"
       ],
       "description": "Trait Type:",
       "index": 2,
       "layout": "IPY_MODEL_97cccf800be5423bab942fa08b42c3d4",
       "style": "IPY_MODEL_6baa22e9c6034b8baa7d36247bf2a975"
      }
     },
     "7bb89d71cb6c46aca2a4f15aeff02909": {
      "model_module": "@jupyter-widgets/base",
      "model_module_version": "1.0.0",
      "model_name": "LayoutModel",
      "state": {}
     },
     "7c48e78783a3419bb62eff4ff3eed072": {
      "model_module": "@jupyter-widgets/base",
      "model_module_version": "1.0.0",
      "model_name": "LayoutModel",
      "state": {}
     },
     "7d2284be4a2a485ebaef67436401cbbd": {
      "model_module": "@jupyter-widgets/controls",
      "model_module_version": "1.0.0",
      "model_name": "VBoxModel",
      "state": {
       "_dom_classes": [
        "widget-interact"
       ],
       "children": [
        "IPY_MODEL_816dc1f2eca04a25b34d44e00b50051a",
        "IPY_MODEL_687e0935ccfc45499c9378036cef92c1",
        "IPY_MODEL_aa5787145eb043309ca2a51d482e4eeb",
        "IPY_MODEL_29c56ae65c30415a87fd3ec06d3e59c2",
        "IPY_MODEL_663fdb31b23b4a41a912a3bdf7ac560e"
       ],
       "layout": "IPY_MODEL_71b1263286f14645ab1eb0859821ffa6"
      }
     },
     "7f7e33aa985042b5bc5e565a299e3a00": {
      "model_module": "@jupyter-widgets/controls",
      "model_module_version": "1.0.0",
      "model_name": "DropdownModel",
      "state": {
       "_options_labels": [
        "All",
        "Anthropometric",
        "Cardiovascular",
        "Glycemic",
        "Immune",
        "Lipids",
        "Neurodegenerative",
        "Psychiatric",
        "Various"
       ],
       "description": "Trait Type:",
       "index": 0,
       "layout": "IPY_MODEL_d35e75ca772e4217953a9f5764b070fc",
       "style": "IPY_MODEL_ce32bff86013404fa234a4622799065f"
      }
     },
     "7fa9c76c63f54717afbdd1e011ffbc61": {
      "model_module": "@jupyter-widgets/base",
      "model_module_version": "1.0.0",
      "model_name": "LayoutModel",
      "state": {}
     },
     "809e792865b24e25a72ed972e1c23de0": {
      "model_module": "@jupyter-widgets/base",
      "model_module_version": "1.0.0",
      "model_name": "LayoutModel",
      "state": {}
     },
     "8137ae09fd9a4513b9bf99ad767e1bae": {
      "model_module": "@jupyter-widgets/controls",
      "model_module_version": "1.0.0",
      "model_name": "DescriptionStyleModel",
      "state": {
       "description_width": ""
      }
     },
     "816dc1f2eca04a25b34d44e00b50051a": {
      "model_module": "@jupyter-widgets/controls",
      "model_module_version": "1.0.0",
      "model_name": "DropdownModel",
      "state": {
       "_options_labels": [
        "All",
        "Anthropometric",
        "Cardiovascular",
        "Glycemic",
        "Immune",
        "Lipids",
        "Neurodegenerative",
        "Psychiatric",
        "Various"
       ],
       "description": "Trait Type:",
       "index": 1,
       "layout": "IPY_MODEL_f9914062a44e4e11b9b036af4cc3e8a1",
       "style": "IPY_MODEL_110d89a485d74b6d8b1a6f84bd9687ff"
      }
     },
     "82a337ede34d49818e2cb02cb676b459": {
      "model_module": "@jupyter-widgets/controls",
      "model_module_version": "1.0.0",
      "model_name": "DescriptionStyleModel",
      "state": {
       "description_width": ""
      }
     },
     "82d9ed8c0492431cb20e220a2ab9bc71": {
      "model_module": "@jupyter-widgets/controls",
      "model_module_version": "1.0.0",
      "model_name": "DescriptionStyleModel",
      "state": {
       "description_width": ""
      }
     },
     "83125968ef6943f198862a748d8b9651": {
      "model_module": "@jupyter-widgets/output",
      "model_module_version": "1.0.0",
      "model_name": "OutputModel",
      "state": {
       "layout": "IPY_MODEL_49be649dd4694ffaaac66daaf8119f84",
       "outputs": [
        {
         "ename": "AttributeError",
         "evalue": "'list' object has no attribute 'number_of_nodes'",
         "output_type": "error",
         "traceback": [
          "\u001b[0;31m---------------------------------------------------------------------------\u001b[0m",
          "\u001b[0;31mAttributeError\u001b[0m                            Traceback (most recent call last)",
          "\u001b[0;32m/Users/schoobdar/anaconda2/lib/python2.7/site-packages/ipywidgets/widgets/interaction.pyc\u001b[0m in \u001b[0;36mupdate\u001b[0;34m(self, *args)\u001b[0m\n\u001b[1;32m    248\u001b[0m                     \u001b[0mvalue\u001b[0m \u001b[0;34m=\u001b[0m \u001b[0mwidget\u001b[0m\u001b[0;34m.\u001b[0m\u001b[0mget_interact_value\u001b[0m\u001b[0;34m(\u001b[0m\u001b[0;34m)\u001b[0m\u001b[0;34m\u001b[0m\u001b[0m\n\u001b[1;32m    249\u001b[0m                     \u001b[0mself\u001b[0m\u001b[0;34m.\u001b[0m\u001b[0mkwargs\u001b[0m\u001b[0;34m[\u001b[0m\u001b[0mwidget\u001b[0m\u001b[0;34m.\u001b[0m\u001b[0m_kwarg\u001b[0m\u001b[0;34m]\u001b[0m \u001b[0;34m=\u001b[0m \u001b[0mvalue\u001b[0m\u001b[0;34m\u001b[0m\u001b[0m\n\u001b[0;32m--> 250\u001b[0;31m                 \u001b[0mself\u001b[0m\u001b[0;34m.\u001b[0m\u001b[0mresult\u001b[0m \u001b[0;34m=\u001b[0m \u001b[0mself\u001b[0m\u001b[0;34m.\u001b[0m\u001b[0mf\u001b[0m\u001b[0;34m(\u001b[0m\u001b[0;34m**\u001b[0m\u001b[0mself\u001b[0m\u001b[0;34m.\u001b[0m\u001b[0mkwargs\u001b[0m\u001b[0;34m)\u001b[0m\u001b[0;34m\u001b[0m\u001b[0m\n\u001b[0m\u001b[1;32m    251\u001b[0m                 \u001b[0mshow_inline_matplotlib_plots\u001b[0m\u001b[0;34m(\u001b[0m\u001b[0;34m)\u001b[0m\u001b[0;34m\u001b[0m\u001b[0m\n\u001b[1;32m    252\u001b[0m                 \u001b[0;32mif\u001b[0m \u001b[0mself\u001b[0m\u001b[0;34m.\u001b[0m\u001b[0mauto_display\u001b[0m \u001b[0;32mand\u001b[0m \u001b[0mself\u001b[0m\u001b[0;34m.\u001b[0m\u001b[0mresult\u001b[0m \u001b[0;32mis\u001b[0m \u001b[0;32mnot\u001b[0m \u001b[0mNone\u001b[0m\u001b[0;34m:\u001b[0m\u001b[0;34m\u001b[0m\u001b[0m\n",
          "\u001b[0;32m<ipython-input-5-ce2cfc134a52>\u001b[0m in \u001b[0;36mview3\u001b[0;34m(x, z, y, d)\u001b[0m\n\u001b[1;32m     48\u001b[0m         \u001b[0mselected_m\u001b[0m \u001b[0;34m=\u001b[0m \u001b[0msig_modules\u001b[0m\u001b[0;34m[\u001b[0m\u001b[0mind\u001b[0m\u001b[0;34m[\u001b[0m\u001b[0;36m0\u001b[0m\u001b[0;34m]\u001b[0m\u001b[0;34m]\u001b[0m\u001b[0;34m[\u001b[0m\u001b[0mind\u001b[0m\u001b[0;34m[\u001b[0m\u001b[0;36m1\u001b[0m\u001b[0;34m]\u001b[0m\u001b[0;34m]\u001b[0m\u001b[0;34m[\u001b[0m\u001b[0mind\u001b[0m\u001b[0;34m[\u001b[0m\u001b[0;36m2\u001b[0m\u001b[0;34m]\u001b[0m\u001b[0;34m]\u001b[0m\u001b[0;34m\u001b[0m\u001b[0m\n\u001b[1;32m     49\u001b[0m         \u001b[0msg\u001b[0m \u001b[0;34m=\u001b[0m \u001b[0mG\u001b[0m\u001b[0;34m.\u001b[0m\u001b[0msubgraph\u001b[0m\u001b[0;34m(\u001b[0m\u001b[0mselected_m\u001b[0m\u001b[0;34m)\u001b[0m\u001b[0;34m.\u001b[0m\u001b[0medges\u001b[0m\u001b[0;34m(\u001b[0m\u001b[0;34m)\u001b[0m\u001b[0;34m\u001b[0m\u001b[0m\n\u001b[0;32m---> 50\u001b[0;31m         \u001b[0;32mreturn\u001b[0m \u001b[0mplot_net\u001b[0m\u001b[0;34m(\u001b[0m\u001b[0msg\u001b[0m\u001b[0;34m)\u001b[0m\u001b[0;34m\u001b[0m\u001b[0m\n\u001b[0m\u001b[1;32m     51\u001b[0m     \u001b[0;32mreturn\u001b[0m \u001b[0mres\u001b[0m \u001b[0;31m#py.iplot(table, filename='pandas_table')\u001b[0m\u001b[0;34m\u001b[0m\u001b[0m\n\u001b[1;32m     52\u001b[0m \u001b[0;34m\u001b[0m\u001b[0m\n",
          "\u001b[0;32m<ipython-input-4-382d22f3f488>\u001b[0m in \u001b[0;36mplot_net\u001b[0;34m(g)\u001b[0m\n\u001b[1;32m      4\u001b[0m \u001b[0;32mdef\u001b[0m \u001b[0mplot_net\u001b[0m\u001b[0;34m(\u001b[0m\u001b[0mg\u001b[0m\u001b[0;34m)\u001b[0m\u001b[0;34m:\u001b[0m\u001b[0;34m\u001b[0m\u001b[0m\n\u001b[1;32m      5\u001b[0m     \u001b[0mpos\u001b[0m\u001b[0;34m=\u001b[0m\u001b[0mnx\u001b[0m\u001b[0;34m.\u001b[0m\u001b[0mfruchterman_reingold_layout\u001b[0m\u001b[0;34m(\u001b[0m\u001b[0mg\u001b[0m\u001b[0;34m)\u001b[0m\u001b[0;34m\u001b[0m\u001b[0m\n\u001b[0;32m----> 6\u001b[0;31m     \u001b[0mN\u001b[0m \u001b[0;34m=\u001b[0m \u001b[0mnx\u001b[0m\u001b[0;34m.\u001b[0m\u001b[0mnumber_of_nodes\u001b[0m\u001b[0;34m(\u001b[0m\u001b[0mg\u001b[0m\u001b[0;34m)\u001b[0m\u001b[0;34m\u001b[0m\u001b[0m\n\u001b[0m\u001b[1;32m      7\u001b[0m     \u001b[0mlabels\u001b[0m \u001b[0;34m=\u001b[0m \u001b[0;34m[\u001b[0m\u001b[0mstr\u001b[0m\u001b[0;34m(\u001b[0m\u001b[0mu\u001b[0m\u001b[0;34m[\u001b[0m\u001b[0;36m1\u001b[0m\u001b[0;34m]\u001b[0m\u001b[0;34m[\u001b[0m\u001b[0;34m'name'\u001b[0m\u001b[0;34m]\u001b[0m\u001b[0;34m)\u001b[0m \u001b[0;32mfor\u001b[0m \u001b[0mu\u001b[0m \u001b[0;32min\u001b[0m \u001b[0mg\u001b[0m\u001b[0;34m.\u001b[0m\u001b[0mnodes\u001b[0m\u001b[0;34m(\u001b[0m\u001b[0mdata\u001b[0m\u001b[0;34m=\u001b[0m\u001b[0mTrue\u001b[0m\u001b[0;34m)\u001b[0m\u001b[0;34m]\u001b[0m\u001b[0;34m\u001b[0m\u001b[0m\n\u001b[1;32m      8\u001b[0m \u001b[0;34m\u001b[0m\u001b[0m\n",
          "\u001b[0;32m/Users/schoobdar/anaconda2/lib/python2.7/site-packages/networkx/classes/function.pyc\u001b[0m in \u001b[0;36mnumber_of_nodes\u001b[0;34m(G)\u001b[0m\n\u001b[1;32m     69\u001b[0m \u001b[0;32mdef\u001b[0m \u001b[0mnumber_of_nodes\u001b[0m\u001b[0;34m(\u001b[0m\u001b[0mG\u001b[0m\u001b[0;34m)\u001b[0m\u001b[0;34m:\u001b[0m\u001b[0;34m\u001b[0m\u001b[0m\n\u001b[1;32m     70\u001b[0m     \u001b[0;34m\"\"\"Return the number of nodes in the graph.\"\"\"\u001b[0m\u001b[0;34m\u001b[0m\u001b[0m\n\u001b[0;32m---> 71\u001b[0;31m     \u001b[0;32mreturn\u001b[0m \u001b[0mG\u001b[0m\u001b[0;34m.\u001b[0m\u001b[0mnumber_of_nodes\u001b[0m\u001b[0;34m(\u001b[0m\u001b[0;34m)\u001b[0m\u001b[0;34m\u001b[0m\u001b[0m\n\u001b[0m\u001b[1;32m     72\u001b[0m \u001b[0;34m\u001b[0m\u001b[0m\n\u001b[1;32m     73\u001b[0m \u001b[0;34m\u001b[0m\u001b[0m\n",
          "\u001b[0;31mAttributeError\u001b[0m: 'list' object has no attribute 'number_of_nodes'"
         ]
        }
       ]
      }
     },
     "83975c7225514d6b9075dca311450021": {
      "model_module": "@jupyter-widgets/base",
      "model_module_version": "1.0.0",
      "model_name": "LayoutModel",
      "state": {}
     },
     "839f9960d6344c41929909ffd7947ad4": {
      "model_module": "@jupyter-widgets/controls",
      "model_module_version": "1.0.0",
      "model_name": "DescriptionStyleModel",
      "state": {
       "description_width": ""
      }
     },
     "83e00259e3664330a3d1fd4b40dd3c36": {
      "model_module": "@jupyter-widgets/controls",
      "model_module_version": "1.0.0",
      "model_name": "DropdownModel",
      "state": {
       "_options_labels": [
        "Inflammatory bowel disease",
        "Rheumatoid arthritis",
        "Various"
       ],
       "description": "Trait Group:",
       "index": 0,
       "layout": "IPY_MODEL_71fdd282c6da4ba7943f017b88fc06f6",
       "style": "IPY_MODEL_8f67446775d0400891b8227fa21e9100"
      }
     },
     "83e393613e7849efb7d99fa39a8b740b": {
      "model_module": "@jupyter-widgets/base",
      "model_module_version": "1.0.0",
      "model_name": "LayoutModel",
      "state": {}
     },
     "844724f6fdd2428299ae38001881c465": {
      "model_module": "@jupyter-widgets/controls",
      "model_module_version": "1.0.0",
      "model_name": "DropdownModel",
      "state": {
       "_options_labels": [
        "All",
        "Anthropometric",
        "Cardiovascular",
        "Glycemic",
        "Immune",
        "Lipids",
        "Neurodegenerative",
        "Psychiatric",
        "Various"
       ],
       "description": "Trait Type:",
       "index": 2,
       "layout": "IPY_MODEL_1846c2e19d9f4492b69ac47b67df626f",
       "style": "IPY_MODEL_cc7ed07777cf45d685d8dc5fb70bf821"
      }
     },
     "8552adff9f2c4a67adcfcdd49c49ebb0": {
      "model_module": "@jupyter-widgets/controls",
      "model_module_version": "1.0.0",
      "model_name": "VBoxModel",
      "state": {
       "_dom_classes": [
        "widget-interact"
       ],
       "children": [
        "IPY_MODEL_7aad9690093f4b8586b863275974ef42",
        "IPY_MODEL_858aa341961c424cb2d6b9b34698fa58",
        "IPY_MODEL_931f5992b0004964a9baa9dbcba5bf2a",
        "IPY_MODEL_0d1df92cf9614bafbd95c7f55ede705b",
        "IPY_MODEL_12d3d938a48243568da0eced37847512"
       ],
       "layout": "IPY_MODEL_082155478edf48a184b6b1c634a0355c"
      }
     },
     "858aa341961c424cb2d6b9b34698fa58": {
      "model_module": "@jupyter-widgets/controls",
      "model_module_version": "1.0.0",
      "model_name": "DropdownModel",
      "state": {
       "_options_labels": [
        "Coronary artery disease"
       ],
       "description": "Trait Group:",
       "index": 0,
       "layout": "IPY_MODEL_ecb726a0ea2d4336950b5f1ff90d681e",
       "style": "IPY_MODEL_8137ae09fd9a4513b9bf99ad767e1bae"
      }
     },
     "86db18096b7643cdb1f2a055c84eda93": {
      "model_module": "@jupyter-widgets/controls",
      "model_module_version": "1.0.0",
      "model_name": "IntTextModel",
      "state": {
       "description": "Module ID:",
       "layout": "IPY_MODEL_1e82a1349e234a05ad74bd37c35276dd",
       "step": 1,
       "style": "IPY_MODEL_e3e0782882814a829203431c44f74065",
       "value": 3831
      }
     },
     "87514ee041864022975f4f27e063ca5e": {
      "model_module": "@jupyter-widgets/controls",
      "model_module_version": "1.0.0",
      "model_name": "DropdownModel",
      "state": {
       "_options_labels": [
        "BMI (female)",
        "BMI (male)",
        "BMI, obesity",
        "BMI, waist, hip (female)",
        "BMI, waist, hip (male)",
        "Height",
        "Various"
       ],
       "description": "Trait Group:",
       "index": 0,
       "layout": "IPY_MODEL_73b97fb65f734142b8f514e0fcbcb805",
       "style": "IPY_MODEL_94d8590ab9dc4e768dda980d0301ae6a"
      }
     },
     "87a61c2c54344d649a0982b7b57ff43b": {
      "model_module": "@jupyter-widgets/base",
      "model_module_version": "1.0.0",
      "model_name": "LayoutModel",
      "state": {}
     },
     "87c5542ca8974df6b5bbd0b1f35b6193": {
      "model_module": "@jupyter-widgets/base",
      "model_module_version": "1.0.0",
      "model_name": "LayoutModel",
      "state": {}
     },
     "89e23987046d47ca93d2a7afca34ea64": {
      "model_module": "@jupyter-widgets/controls",
      "model_module_version": "1.0.0",
      "model_name": "LabelModel",
      "state": {
       "layout": "IPY_MODEL_222a1bff0c4547d08132ed9254df7496",
       "style": "IPY_MODEL_588affddbe1a42f5af82254d4c7c87d6",
       "value": "List of trait module by trait type and network:"
      }
     },
     "8c23ec72c7d24c46b3c35df304a699c5": {
      "model_module": "@jupyter-widgets/base",
      "model_module_version": "1.0.0",
      "model_name": "LayoutModel",
      "state": {}
     },
     "8c3cf1e5fb094f5e9e4ed957b8b78b52": {
      "model_module": "@jupyter-widgets/controls",
      "model_module_version": "1.0.0",
      "model_name": "DescriptionStyleModel",
      "state": {
       "description_width": ""
      }
     },
     "8cafe81c99c14b5d83baa03bf4589bed": {
      "model_module": "@jupyter-widgets/base",
      "model_module_version": "1.0.0",
      "model_name": "LayoutModel",
      "state": {}
     },
     "8d8a6d3c6b494e3cbe9bef7ceaea7736": {
      "model_module": "@jupyter-widgets/base",
      "model_module_version": "1.0.0",
      "model_name": "LayoutModel",
      "state": {}
     },
     "8dfebfbd97d947848e57578115f20030": {
      "model_module": "@jupyter-widgets/base",
      "model_module_version": "1.0.0",
      "model_name": "LayoutModel",
      "state": {}
     },
     "8ee7a6328f234fe1bcca931d5d4c376d": {
      "model_module": "@jupyter-widgets/controls",
      "model_module_version": "1.0.0",
      "model_name": "DescriptionStyleModel",
      "state": {
       "description_width": ""
      }
     },
     "8efaabd5032b445bb044c155cb9e4b35": {
      "model_module": "@jupyter-widgets/controls",
      "model_module_version": "1.0.0",
      "model_name": "DescriptionStyleModel",
      "state": {
       "description_width": ""
      }
     },
     "8f67446775d0400891b8227fa21e9100": {
      "model_module": "@jupyter-widgets/controls",
      "model_module_version": "1.0.0",
      "model_name": "DescriptionStyleModel",
      "state": {
       "description_width": ""
      }
     },
     "8f7c135e5472443cade60db35fdeb211": {
      "model_module": "@jupyter-widgets/controls",
      "model_module_version": "1.0.0",
      "model_name": "VBoxModel",
      "state": {
       "_dom_classes": [
        "widget-interact"
       ],
       "children": [
        "IPY_MODEL_c67f8e9b3bfa4aefa1c32b46daa503f1",
        "IPY_MODEL_83e00259e3664330a3d1fd4b40dd3c36",
        "IPY_MODEL_b77b84145f5f4210bab3119e71047817",
        "IPY_MODEL_1fa8e38daa364dbe8bccdd60b379338a",
        "IPY_MODEL_2ebffdb825e2482486c7b7cd5a25199f"
       ],
       "layout": "IPY_MODEL_f82817c0cffc4278b8d898d583a294c6"
      }
     },
     "8f884ee56e084482a459ec60abb0585e": {
      "model_module": "@jupyter-widgets/output",
      "model_module_version": "1.0.0",
      "model_name": "OutputModel",
      "state": {
       "layout": "IPY_MODEL_5a346a9d1b6e45e9890fc09aad3ecbf5",
       "outputs": [
        {
         "data": {
          "text/html": "<iframe id=\"igraph\" scrolling=\"no\" style=\"border:none;\" seamless=\"seamless\" src=\"https://plot.ly/~sarvenaz/14.embed\" height=\"800px\" width=\"800px\"></iframe>",
          "text/plain": "<plotly.tools.PlotlyDisplay object>"
         },
         "metadata": {},
         "output_type": "display_data"
        }
       ]
      }
     },
     "90b3766c9b924f32b108b71932a4f572": {
      "model_module": "@jupyter-widgets/controls",
      "model_module_version": "1.0.0",
      "model_name": "VBoxModel",
      "state": {
       "_dom_classes": [
        "widget-interact"
       ],
       "children": [
        "IPY_MODEL_d68a22a8a1744d52aaeabc708296e76b",
        "IPY_MODEL_60be2394108f4cc59ab4e170de75dcde",
        "IPY_MODEL_422973b875b646fc9b4c0327131a246b",
        "IPY_MODEL_4f72d11ea8e640928bf107977785e946",
        "IPY_MODEL_c55f0bb8c9d54e77aadc74d2ce4ae22b"
       ],
       "layout": "IPY_MODEL_8d8a6d3c6b494e3cbe9bef7ceaea7736"
      }
     },
     "90c169bd7d4742319c061076116e0868": {
      "model_module": "@jupyter-widgets/controls",
      "model_module_version": "1.0.0",
      "model_name": "LabelModel",
      "state": {
       "layout": "IPY_MODEL_b927084008ae4b67b3973401683b8029",
       "style": "IPY_MODEL_2d2e05b26e014c239cb56c14c2eb119a",
       "value": "List of trait module by trait type and network:"
      }
     },
     "92b2234a69e842b2b392c8fc423b1bb3": {
      "model_module": "@jupyter-widgets/output",
      "model_module_version": "1.0.0",
      "model_name": "OutputModel",
      "state": {
       "layout": "IPY_MODEL_56616378942a46ca8be9491cf5260864",
       "outputs": [
        {
         "data": {
          "text/html": "<div>\n<style>\n    .dataframe thead tr:only-child th {\n        text-align: right;\n    }\n\n    .dataframe thead th {\n        text-align: left;\n    }\n\n    .dataframe tbody tr th {\n        vertical-align: top;\n    }\n</style>\n<table border=\"1\" class=\"dataframe\">\n  <thead>\n    <tr style=\"text-align: right;\">\n      <th></th>\n      <th>Trait Type</th>\n      <th>Total Number</th>\n    </tr>\n  </thead>\n  <tbody>\n    <tr>\n      <th>0</th>\n      <td>Alzheimer's disease</td>\n      <td>18</td>\n    </tr>\n    <tr>\n      <th>1</th>\n      <td>Anxiety disorder</td>\n      <td>7</td>\n    </tr>\n    <tr>\n      <th>2</th>\n      <td>Autism</td>\n      <td>9</td>\n    </tr>\n    <tr>\n      <th>3</th>\n      <td>BMI (female)</td>\n      <td>276</td>\n    </tr>\n    <tr>\n      <th>4</th>\n      <td>BMI (male)</td>\n      <td>268</td>\n    </tr>\n    <tr>\n      <th>5</th>\n      <td>BMI, obesity</td>\n      <td>224</td>\n    </tr>\n    <tr>\n      <th>6</th>\n      <td>BMI, waist, hip (female)</td>\n      <td>137</td>\n    </tr>\n    <tr>\n      <th>7</th>\n      <td>BMI, waist, hip (male)</td>\n      <td>83</td>\n    </tr>\n    <tr>\n      <th>8</th>\n      <td>Bipolar, schizophrenia</td>\n      <td>172</td>\n    </tr>\n    <tr>\n      <th>9</th>\n      <td>Coronary artery disease</td>\n      <td>145</td>\n    </tr>\n    <tr>\n      <th>10</th>\n      <td>Electrolytes</td>\n      <td>36</td>\n    </tr>\n    <tr>\n      <th>11</th>\n      <td>Fasting glucose</td>\n      <td>110</td>\n    </tr>\n    <tr>\n      <th>12</th>\n      <td>Height</td>\n      <td>213</td>\n    </tr>\n    <tr>\n      <th>13</th>\n      <td>Inflammatory bowel disease</td>\n      <td>233</td>\n    </tr>\n    <tr>\n      <th>14</th>\n      <td>LDL, total cholesterol</td>\n      <td>610</td>\n    </tr>\n    <tr>\n      <th>15</th>\n      <td>Leptin</td>\n      <td>15</td>\n    </tr>\n    <tr>\n      <th>16</th>\n      <td>Narcolepsy</td>\n      <td>58</td>\n    </tr>\n    <tr>\n      <th>17</th>\n      <td>Neuroticism</td>\n      <td>49</td>\n    </tr>\n    <tr>\n      <th>18</th>\n      <td>Rheumatoid arthritis</td>\n      <td>274</td>\n    </tr>\n    <tr>\n      <th>19</th>\n      <td>Schizophrenia</td>\n      <td>595</td>\n    </tr>\n    <tr>\n      <th>20</th>\n      <td>Type 2 diabetes</td>\n      <td>18</td>\n    </tr>\n    <tr>\n      <th>21</th>\n      <td>Various</td>\n      <td>123</td>\n    </tr>\n  </tbody>\n</table>\n</div>",
          "text/plain": "                    Trait Type  Total Number\n0          Alzheimer's disease            18\n1             Anxiety disorder             7\n2                       Autism             9\n3                 BMI (female)           276\n4                   BMI (male)           268\n5                 BMI, obesity           224\n6     BMI, waist, hip (female)           137\n7       BMI, waist, hip (male)            83\n8       Bipolar, schizophrenia           172\n9      Coronary artery disease           145\n10                Electrolytes            36\n11             Fasting glucose           110\n12                      Height           213\n13  Inflammatory bowel disease           233\n14      LDL, total cholesterol           610\n15                      Leptin            15\n16                  Narcolepsy            58\n17                 Neuroticism            49\n18        Rheumatoid arthritis           274\n19               Schizophrenia           595\n20             Type 2 diabetes            18\n21                     Various           123"
         },
         "metadata": {},
         "output_type": "display_data"
        }
       ]
      }
     },
     "92cdf851fc864918874e0190da4a7971": {
      "model_module": "@jupyter-widgets/base",
      "model_module_version": "1.0.0",
      "model_name": "LayoutModel",
      "state": {}
     },
     "931f5992b0004964a9baa9dbcba5bf2a": {
      "model_module": "@jupyter-widgets/controls",
      "model_module_version": "1.0.0",
      "model_name": "IntSliderModel",
      "state": {
       "description": "Module Size",
       "layout": "IPY_MODEL_2297b18e771f4733b757bd806a87f3d5",
       "min": 3,
       "style": "IPY_MODEL_15798fd4c10c459b857ffdf0a05dcaec",
       "value": 3
      }
     },
     "938b7f58b7e8476a929a26cd5c2759d3": {
      "model_module": "@jupyter-widgets/controls",
      "model_module_version": "1.0.0",
      "model_name": "SliderStyleModel",
      "state": {
       "description_width": ""
      }
     },
     "93a43c43b88642b889cdf4a410ccf76c": {
      "model_module": "@jupyter-widgets/controls",
      "model_module_version": "1.0.0",
      "model_name": "DropdownModel",
      "state": {
       "_options_labels": [
        "All",
        "Anthropometric",
        "Cardiovascular",
        "Glycemic",
        "Immune",
        "Lipids",
        "Neurodegenerative",
        "Psychiatric",
        "Various"
       ],
       "description": "Trait Type:",
       "index": 2,
       "layout": "IPY_MODEL_0bcfe5366024414588881eaf95f1c886",
       "style": "IPY_MODEL_2c14aa9dbf4342fb96dcaa0497f1b4ff"
      }
     },
     "94a6a7c568984d15bf9eb8452c7e0927": {
      "model_module": "@jupyter-widgets/base",
      "model_module_version": "1.0.0",
      "model_name": "LayoutModel",
      "state": {}
     },
     "94d8590ab9dc4e768dda980d0301ae6a": {
      "model_module": "@jupyter-widgets/controls",
      "model_module_version": "1.0.0",
      "model_name": "DescriptionStyleModel",
      "state": {
       "description_width": ""
      }
     },
     "94f322fc834d4807983542ba4487b01f": {
      "model_module": "@jupyter-widgets/base",
      "model_module_version": "1.0.0",
      "model_name": "LayoutModel",
      "state": {}
     },
     "973d06343663465eae2138ddf94b8ce7": {
      "model_module": "@jupyter-widgets/controls",
      "model_module_version": "1.0.0",
      "model_name": "VBoxModel",
      "state": {
       "_dom_classes": [
        "widget-interact"
       ],
       "children": [
        "IPY_MODEL_e5fe021aae2c4a4489e1425ac4eb24f0",
        "IPY_MODEL_09174db1b9db403aadbcc71f5c798299",
        "IPY_MODEL_418755f6c40c44d2a44c897d215dc515",
        "IPY_MODEL_3100393745374a708d5ef482a3192fc0",
        "IPY_MODEL_83125968ef6943f198862a748d8b9651"
       ],
       "layout": "IPY_MODEL_10a593c307ef45a28d149088e9f129d8"
      }
     },
     "97a0b4a0ac2849fd8e5ac28fab525783": {
      "model_module": "@jupyter-widgets/base",
      "model_module_version": "1.0.0",
      "model_name": "LayoutModel",
      "state": {}
     },
     "97cccf800be5423bab942fa08b42c3d4": {
      "model_module": "@jupyter-widgets/base",
      "model_module_version": "1.0.0",
      "model_name": "LayoutModel",
      "state": {}
     },
     "988788c6fd5849acadd3d057d14f7e6c": {
      "model_module": "@jupyter-widgets/controls",
      "model_module_version": "1.0.0",
      "model_name": "IntTextModel",
      "state": {
       "description": "Module ID:",
       "layout": "IPY_MODEL_5c0cfb984a954b48aeeda7e3cd2a6383",
       "step": 1,
       "style": "IPY_MODEL_ac8e681f15a043e8a17ad39769990ead",
       "value": 3831
      }
     },
     "98db6605aa0442ec84cb9ec2208b3be3": {
      "model_module": "@jupyter-widgets/controls",
      "model_module_version": "1.0.0",
      "model_name": "DescriptionStyleModel",
      "state": {
       "description_width": ""
      }
     },
     "999c2b5f46e64af7b540b6dd15769aee": {
      "model_module": "@jupyter-widgets/base",
      "model_module_version": "1.0.0",
      "model_name": "LayoutModel",
      "state": {}
     },
     "9a99c0ad6b234d4dbfb8bb626edcd051": {
      "model_module": "@jupyter-widgets/controls",
      "model_module_version": "1.0.0",
      "model_name": "DescriptionStyleModel",
      "state": {
       "description_width": ""
      }
     },
     "9ad76a9a4549446d9da1e1414db4907e": {
      "model_module": "@jupyter-widgets/controls",
      "model_module_version": "1.0.0",
      "model_name": "DropdownModel",
      "state": {
       "_options_labels": [
        "All",
        "Anthropometric",
        "Cardiovascular",
        "Glycemic",
        "Immune",
        "Lipids",
        "Neurodegenerative",
        "Psychiatric",
        "Various"
       ],
       "description": "Trait Type:",
       "index": 1,
       "layout": "IPY_MODEL_247bc9d20a824664966e3310e09e7c47",
       "style": "IPY_MODEL_77bcd3b1da584169af2409f36ba139de"
      }
     },
     "9d9481e6d70f4031ba8007035384f098": {
      "model_module": "@jupyter-widgets/base",
      "model_module_version": "1.0.0",
      "model_name": "LayoutModel",
      "state": {}
     },
     "9df608d5e0ed42468fd16af9a5a9420b": {
      "model_module": "@jupyter-widgets/controls",
      "model_module_version": "1.0.0",
      "model_name": "DescriptionStyleModel",
      "state": {
       "description_width": ""
      }
     },
     "9df904a4077e4823a82fbc4c1e0b98b9": {
      "model_module": "@jupyter-widgets/base",
      "model_module_version": "1.0.0",
      "model_name": "LayoutModel",
      "state": {}
     },
     "9f40404f2c1d4330ad4b7aaf19d0e446": {
      "model_module": "@jupyter-widgets/controls",
      "model_module_version": "1.0.0",
      "model_name": "LabelModel",
      "state": {
       "layout": "IPY_MODEL_bc6fe839d1d747839fb8ab2ea87ee879",
       "style": "IPY_MODEL_8ee7a6328f234fe1bcca931d5d4c376d",
       "value": "List of trait module by trait type and network:"
      }
     },
     "9f4774aa5427480f9bfa9846077b6f5e": {
      "model_module": "@jupyter-widgets/base",
      "model_module_version": "1.0.0",
      "model_name": "LayoutModel",
      "state": {}
     },
     "9f68258eb52c47caa5be4f6965f71004": {
      "model_module": "@jupyter-widgets/controls",
      "model_module_version": "1.0.0",
      "model_name": "LabelModel",
      "state": {
       "layout": "IPY_MODEL_2ec84ddf902d41bd8751e75d175f7fb6",
       "style": "IPY_MODEL_d694a800e5ac4c6cb44691512c8e11f0",
       "value": "List of trait module by trait type and network:"
      }
     },
     "9f9f3dd77cf84961ac6c100d476f5f8f": {
      "model_module": "@jupyter-widgets/base",
      "model_module_version": "1.0.0",
      "model_name": "LayoutModel",
      "state": {}
     },
     "9ff49a6551e84ca4b7c756be809a42a3": {
      "model_module": "@jupyter-widgets/controls",
      "model_module_version": "1.0.0",
      "model_name": "DescriptionStyleModel",
      "state": {
       "description_width": ""
      }
     },
     "a024769009774ffea851436743c260b2": {
      "model_module": "@jupyter-widgets/output",
      "model_module_version": "1.0.0",
      "model_name": "OutputModel",
      "state": {
       "layout": "IPY_MODEL_a063da5e65d84e36a3256483c40ff515",
       "outputs": [
        {
         "data": {
          "text/html": "<iframe id=\"igraph\" scrolling=\"no\" style=\"border:none;\" seamless=\"seamless\" src=\"https://plot.ly/~sarvenaz/14.embed\" height=\"800px\" width=\"800px\"></iframe>",
          "text/plain": "<plotly.tools.PlotlyDisplay object>"
         },
         "metadata": {},
         "output_type": "display_data"
        }
       ]
      }
     },
     "a063da5e65d84e36a3256483c40ff515": {
      "model_module": "@jupyter-widgets/base",
      "model_module_version": "1.0.0",
      "model_name": "LayoutModel",
      "state": {}
     },
     "a06d0db756214735b990b1546c7e0934": {
      "model_module": "@jupyter-widgets/controls",
      "model_module_version": "1.0.0",
      "model_name": "LabelModel",
      "state": {
       "layout": "IPY_MODEL_ce2e429aba944c0aa60056fedef7ea0a",
       "style": "IPY_MODEL_b7511b62abbf4c3fb86790bca6dd0b50",
       "value": "List of trait module by trait type and network:"
      }
     },
     "a17841dce3d74003bdb92107f01b8dc0": {
      "model_module": "@jupyter-widgets/controls",
      "model_module_version": "1.0.0",
      "model_name": "VBoxModel",
      "state": {
       "_dom_classes": [
        "widget-interact"
       ],
       "children": [
        "IPY_MODEL_9ad76a9a4549446d9da1e1414db4907e",
        "IPY_MODEL_3681a50985cb4fa99241073d8995aba3",
        "IPY_MODEL_e876c69ec8ee453981143afda3e0751b",
        "IPY_MODEL_e36317b24bb8471da2b344335b4ba0b8",
        "IPY_MODEL_8f884ee56e084482a459ec60abb0585e"
       ],
       "layout": "IPY_MODEL_e6bfcbfde57b461b8f499394034fb522"
      }
     },
     "a1a99099910c465087c2b88cf3dee8cc": {
      "model_module": "@jupyter-widgets/controls",
      "model_module_version": "1.0.0",
      "model_name": "IntSliderModel",
      "state": {
       "description": "Module Size",
       "layout": "IPY_MODEL_21e2c8672be2481e81927324a6f3ec8d",
       "min": 3,
       "style": "IPY_MODEL_eff2c2e8e2ed4f5695cf9790ff2cda2f",
       "value": 3
      }
     },
     "a2e5de5dff674b8da4668b11f3aadeac": {
      "model_module": "@jupyter-widgets/controls",
      "model_module_version": "1.0.0",
      "model_name": "DescriptionStyleModel",
      "state": {
       "description_width": ""
      }
     },
     "a3542e604df448f59ea66cd71e5ed04a": {
      "model_module": "@jupyter-widgets/base",
      "model_module_version": "1.0.0",
      "model_name": "LayoutModel",
      "state": {}
     },
     "a5310090e40e432d8770dd4414ed641e": {
      "model_module": "@jupyter-widgets/base",
      "model_module_version": "1.0.0",
      "model_name": "LayoutModel",
      "state": {}
     },
     "a943b47ba0ff48159bf8b04fac0ff5d9": {
      "model_module": "@jupyter-widgets/controls",
      "model_module_version": "1.0.0",
      "model_name": "DescriptionStyleModel",
      "state": {
       "description_width": ""
      }
     },
     "aa5787145eb043309ca2a51d482e4eeb": {
      "model_module": "@jupyter-widgets/controls",
      "model_module_version": "1.0.0",
      "model_name": "IntSliderModel",
      "state": {
       "description": "Module Size",
       "layout": "IPY_MODEL_e5756c15bd5244089a3e6785fa7f1d66",
       "min": 3,
       "style": "IPY_MODEL_355fdf3f52c54c669685c35eb742dc0d",
       "value": 3
      }
     },
     "ab437f094e814fe2956c738b7735ba0a": {
      "model_module": "@jupyter-widgets/controls",
      "model_module_version": "1.0.0",
      "model_name": "DropdownModel",
      "state": {
       "_options_labels": [
        "BMI (female)",
        "BMI (male)",
        "BMI, obesity",
        "BMI, waist, hip (female)",
        "BMI, waist, hip (male)",
        "Height",
        "Various"
       ],
       "description": "Trait Group:",
       "index": 5,
       "layout": "IPY_MODEL_83975c7225514d6b9075dca311450021",
       "style": "IPY_MODEL_c3a2e16d2cfd4045acedacc47d6ade54"
      }
     },
     "ac8e681f15a043e8a17ad39769990ead": {
      "model_module": "@jupyter-widgets/controls",
      "model_module_version": "1.0.0",
      "model_name": "DescriptionStyleModel",
      "state": {
       "description_width": ""
      }
     },
     "ad8b2d7838824881b80a65ef32ff0382": {
      "model_module": "@jupyter-widgets/controls",
      "model_module_version": "1.0.0",
      "model_name": "IntSliderModel",
      "state": {
       "description": "Module Size",
       "layout": "IPY_MODEL_a3542e604df448f59ea66cd71e5ed04a",
       "min": 3,
       "style": "IPY_MODEL_43a9bb32662a49efb409e7a411eb4957",
       "value": 3
      }
     },
     "ae468eb20db947359eb30d468682936e": {
      "model_module": "@jupyter-widgets/base",
      "model_module_version": "1.0.0",
      "model_name": "LayoutModel",
      "state": {}
     },
     "af884e84aa784b318859c6c883778f3f": {
      "model_module": "@jupyter-widgets/base",
      "model_module_version": "1.0.0",
      "model_name": "LayoutModel",
      "state": {}
     },
     "b0ae1bf95f0d4771ba6af640bb8cc604": {
      "model_module": "@jupyter-widgets/controls",
      "model_module_version": "1.0.0",
      "model_name": "DropdownModel",
      "state": {
       "_options_labels": [
        "All",
        "Anthropometric",
        "Cardiovascular",
        "Glycemic",
        "Immune",
        "Lipids",
        "Neurodegenerative",
        "Psychiatric",
        "Various"
       ],
       "description": "Trait Type:",
       "index": 1,
       "layout": "IPY_MODEL_1ae3c22d1f4b4ce396ac05f61cbf6832",
       "style": "IPY_MODEL_76a62c62f08c420e943184c25341734a"
      }
     },
     "b12e068f7ef4473ea16350eda9ed5b57": {
      "model_module": "@jupyter-widgets/base",
      "model_module_version": "1.0.0",
      "model_name": "LayoutModel",
      "state": {}
     },
     "b1c0c7d15e8d4b8fb970a683f08320a9": {
      "model_module": "@jupyter-widgets/base",
      "model_module_version": "1.0.0",
      "model_name": "LayoutModel",
      "state": {}
     },
     "b58cd14b14284392a4c93615db1523e9": {
      "model_module": "@jupyter-widgets/base",
      "model_module_version": "1.0.0",
      "model_name": "LayoutModel",
      "state": {}
     },
     "b5d3f1b3162a4ad7b1f7fff0dbdcf108": {
      "model_module": "@jupyter-widgets/base",
      "model_module_version": "1.0.0",
      "model_name": "LayoutModel",
      "state": {}
     },
     "b62171f75c114f909d3a99f3e3a224b0": {
      "model_module": "@jupyter-widgets/base",
      "model_module_version": "1.0.0",
      "model_name": "LayoutModel",
      "state": {}
     },
     "b7511b62abbf4c3fb86790bca6dd0b50": {
      "model_module": "@jupyter-widgets/controls",
      "model_module_version": "1.0.0",
      "model_name": "DescriptionStyleModel",
      "state": {
       "description_width": ""
      }
     },
     "b77b84145f5f4210bab3119e71047817": {
      "model_module": "@jupyter-widgets/controls",
      "model_module_version": "1.0.0",
      "model_name": "IntSliderModel",
      "state": {
       "description": "Module Size",
       "layout": "IPY_MODEL_d5124f75be404b4089aadbedae3fc58c",
       "min": 3,
       "style": "IPY_MODEL_52af725171484f35a65c5c3935199207",
       "value": 3
      }
     },
     "b79b7fcae62949b9b018c25e324c28fa": {
      "model_module": "@jupyter-widgets/controls",
      "model_module_version": "1.0.0",
      "model_name": "DescriptionStyleModel",
      "state": {
       "description_width": ""
      }
     },
     "b8d3b5a9cdea4b4aa9486a54e40fe65c": {
      "model_module": "@jupyter-widgets/controls",
      "model_module_version": "1.0.0",
      "model_name": "DropdownModel",
      "state": {
       "_options_labels": [
        "All",
        "Anthropometric",
        "Cardiovascular",
        "Glycemic",
        "Immune",
        "Lipids",
        "Neurodegenerative",
        "Psychiatric",
        "Various"
       ],
       "description": "Trait Type:",
       "index": 1,
       "layout": "IPY_MODEL_87c5542ca8974df6b5bbd0b1f35b6193",
       "style": "IPY_MODEL_43676c2b60d94482a197b54237ad5fb4"
      }
     },
     "b927084008ae4b67b3973401683b8029": {
      "model_module": "@jupyter-widgets/base",
      "model_module_version": "1.0.0",
      "model_name": "LayoutModel",
      "state": {}
     },
     "b98f97c4099f4e0983308fcdea01955e": {
      "model_module": "@jupyter-widgets/base",
      "model_module_version": "1.0.0",
      "model_name": "LayoutModel",
      "state": {}
     },
     "b9ba08dd80644e14a1cf9b01c92e2bc6": {
      "model_module": "@jupyter-widgets/controls",
      "model_module_version": "1.0.0",
      "model_name": "DescriptionStyleModel",
      "state": {
       "description_width": ""
      }
     },
     "ba20c018c2094d41b4a95abc6e435135": {
      "model_module": "@jupyter-widgets/base",
      "model_module_version": "1.0.0",
      "model_name": "LayoutModel",
      "state": {}
     },
     "ba5cd8aabf7842c1b03d7690bdc0620c": {
      "model_module": "@jupyter-widgets/controls",
      "model_module_version": "1.0.0",
      "model_name": "VBoxModel",
      "state": {
       "_dom_classes": [
        "widget-interact"
       ],
       "children": [
        "IPY_MODEL_310b651506d1433b9b81d47d78bfc8ce",
        "IPY_MODEL_bc9f5c2243bf4d8b8f79be82172b3c25",
        "IPY_MODEL_d6ef69ddab3b4932a7e11389d09a228a",
        "IPY_MODEL_46f3ce92500241a18b5b13780854a90d",
        "IPY_MODEL_a024769009774ffea851436743c260b2"
       ],
       "layout": "IPY_MODEL_809e792865b24e25a72ed972e1c23de0"
      }
     },
     "bbdc63ca285d44e68c911bc46f085da0": {
      "model_module": "@jupyter-widgets/controls",
      "model_module_version": "1.0.0",
      "model_name": "DescriptionStyleModel",
      "state": {
       "description_width": ""
      }
     },
     "bbfaa301d2fa438cbb2905b84e76d4b6": {
      "model_module": "@jupyter-widgets/controls",
      "model_module_version": "1.0.0",
      "model_name": "SliderStyleModel",
      "state": {
       "description_width": ""
      }
     },
     "bc6fe839d1d747839fb8ab2ea87ee879": {
      "model_module": "@jupyter-widgets/base",
      "model_module_version": "1.0.0",
      "model_name": "LayoutModel",
      "state": {}
     },
     "bc9f5c2243bf4d8b8f79be82172b3c25": {
      "model_module": "@jupyter-widgets/controls",
      "model_module_version": "1.0.0",
      "model_name": "DropdownModel",
      "state": {
       "_options_labels": [
        "Coronary artery disease"
       ],
       "description": "Trait Group:",
       "index": 0,
       "layout": "IPY_MODEL_5fd7f5db801d4f5d98ed9254a32da557",
       "style": "IPY_MODEL_b79b7fcae62949b9b018c25e324c28fa"
      }
     },
     "bcbac65d05ae43bbb56200773cb4b734": {
      "model_module": "@jupyter-widgets/base",
      "model_module_version": "1.0.0",
      "model_name": "LayoutModel",
      "state": {}
     },
     "bd7e3f81145049ca8b9f1adcab8ac622": {
      "model_module": "@jupyter-widgets/controls",
      "model_module_version": "1.0.0",
      "model_name": "LabelModel",
      "state": {
       "layout": "IPY_MODEL_6ce07b96a1ad4670854fb38b9b77eff1",
       "style": "IPY_MODEL_7a00f93dce6e4925814c7b1d4563db24",
       "value": "List of trait module by trait type and network:"
      }
     },
     "bdab9b4e38db4693b0f0828227a85199": {
      "model_module": "@jupyter-widgets/controls",
      "model_module_version": "1.0.0",
      "model_name": "DescriptionStyleModel",
      "state": {
       "description_width": ""
      }
     },
     "bf2ab64532204623b11474a58243fb0b": {
      "model_module": "@jupyter-widgets/controls",
      "model_module_version": "1.0.0",
      "model_name": "IntSliderModel",
      "state": {
       "description": "Module Size",
       "layout": "IPY_MODEL_fd77174e5744404f97b107c2b1c0cb7c",
       "min": 3,
       "style": "IPY_MODEL_f4a1117754334a3f9cdf2a255819a084",
       "value": 3
      }
     },
     "c1b2a3541b9343cbb863878e3e3ea721": {
      "model_module": "@jupyter-widgets/controls",
      "model_module_version": "1.0.0",
      "model_name": "DropdownModel",
      "state": {
       "_options_labels": [
        "All",
        "Anthropometric",
        "Cardiovascular",
        "Glycemic",
        "Immune",
        "Lipids",
        "Neurodegenerative",
        "Psychiatric",
        "Various"
       ],
       "description": "Trait Type:",
       "index": 5,
       "layout": "IPY_MODEL_dc92ffc57aa544739781634ff9544ef6",
       "style": "IPY_MODEL_bdab9b4e38db4693b0f0828227a85199"
      }
     },
     "c2184b468c2a4f8692b968b217126860": {
      "model_module": "@jupyter-widgets/controls",
      "model_module_version": "1.0.0",
      "model_name": "IntTextModel",
      "state": {
       "description": "Module ID:",
       "layout": "IPY_MODEL_1eff11f2fc834f24a8179e7c5866b0b4",
       "step": 1,
       "style": "IPY_MODEL_d40d7761a33d44bc9bdcdbb8e68445b3"
      }
     },
     "c276a186bae94662b9a1d969baa3d696": {
      "model_module": "@jupyter-widgets/controls",
      "model_module_version": "1.0.0",
      "model_name": "DropdownModel",
      "state": {
       "_options_labels": [
        "BMI (female)",
        "BMI (male)",
        "BMI, obesity",
        "BMI, waist, hip (female)",
        "BMI, waist, hip (male)",
        "Height",
        "Various"
       ],
       "description": "Trait Group:",
       "index": 5,
       "layout": "IPY_MODEL_462335d17d6849ebbe2dc8463e95393b",
       "style": "IPY_MODEL_98db6605aa0442ec84cb9ec2208b3be3"
      }
     },
     "c3a2e16d2cfd4045acedacc47d6ade54": {
      "model_module": "@jupyter-widgets/controls",
      "model_module_version": "1.0.0",
      "model_name": "DescriptionStyleModel",
      "state": {
       "description_width": ""
      }
     },
     "c3ee82645444423395f4b84688088dfd": {
      "model_module": "@jupyter-widgets/controls",
      "model_module_version": "1.0.0",
      "model_name": "DropdownModel",
      "state": {
       "_options_labels": [
        "BMI (female)",
        "BMI (male)",
        "BMI, obesity",
        "BMI, waist, hip (female)",
        "BMI, waist, hip (male)",
        "Height",
        "Various"
       ],
       "description": "Trait Group:",
       "index": 0,
       "layout": "IPY_MODEL_94f322fc834d4807983542ba4487b01f",
       "style": "IPY_MODEL_66e1609a709d4414a756a90d9ae4a5ba"
      }
     },
     "c55f0bb8c9d54e77aadc74d2ce4ae22b": {
      "model_module": "@jupyter-widgets/output",
      "model_module_version": "1.0.0",
      "model_name": "OutputModel",
      "state": {
       "layout": "IPY_MODEL_b58cd14b14284392a4c93615db1523e9",
       "outputs": [
        {
         "data": {
          "text/html": "<iframe id=\"igraph\" scrolling=\"no\" style=\"border:none;\" seamless=\"seamless\" src=\"https://plot.ly/~sarvenaz/14.embed\" height=\"800px\" width=\"800px\"></iframe>",
          "text/plain": "<plotly.tools.PlotlyDisplay object>"
         },
         "metadata": {},
         "output_type": "display_data"
        }
       ]
      }
     },
     "c5fd6b3924284ff592d8771fb13fdd35": {
      "model_module": "@jupyter-widgets/base",
      "model_module_version": "1.0.0",
      "model_name": "LayoutModel",
      "state": {}
     },
     "c63cd74374dc4ce18d62b6f9d6fcb2da": {
      "model_module": "@jupyter-widgets/controls",
      "model_module_version": "1.0.0",
      "model_name": "LabelModel",
      "state": {
       "layout": "IPY_MODEL_b12e068f7ef4473ea16350eda9ed5b57",
       "style": "IPY_MODEL_4590fd85db454ef8b4df9678349846dd",
       "value": "List of trait module by trait type and network:"
      }
     },
     "c67f8e9b3bfa4aefa1c32b46daa503f1": {
      "model_module": "@jupyter-widgets/controls",
      "model_module_version": "1.0.0",
      "model_name": "DropdownModel",
      "state": {
       "_options_labels": [
        "All",
        "Anthropometric",
        "Cardiovascular",
        "Glycemic",
        "Immune",
        "Lipids",
        "Neurodegenerative",
        "Psychiatric",
        "Various"
       ],
       "description": "Trait Type:",
       "index": 4,
       "layout": "IPY_MODEL_8cafe81c99c14b5d83baa03bf4589bed",
       "style": "IPY_MODEL_839f9960d6344c41929909ffd7947ad4"
      }
     },
     "c6998e42539342938b518fcc296d156a": {
      "model_module": "@jupyter-widgets/base",
      "model_module_version": "1.0.0",
      "model_name": "LayoutModel",
      "state": {}
     },
     "c78a0d4b8a8a45e984231358681aee0c": {
      "model_module": "@jupyter-widgets/controls",
      "model_module_version": "1.0.0",
      "model_name": "DropdownModel",
      "state": {
       "_options_labels": [
        "Coronary artery disease"
       ],
       "description": "Trait Group:",
       "index": 0,
       "layout": "IPY_MODEL_2d5f45722ab14de897883d03e21db90f",
       "style": "IPY_MODEL_54dc5937f8324b33843627b122d13a0a"
      }
     },
     "c84a35e28d2c497ab8e370fb74eba050": {
      "model_module": "@jupyter-widgets/controls",
      "model_module_version": "1.0.0",
      "model_name": "DropdownModel",
      "state": {
       "_options_labels": [
        "All",
        "Anthropometric",
        "Cardiovascular",
        "Glycemic",
        "Immune",
        "Lipids",
        "Neurodegenerative",
        "Psychiatric",
        "Various"
       ],
       "description": "Trait Type:",
       "index": 1,
       "layout": "IPY_MODEL_3d649bf8139a445fa15d8dcbca15547c",
       "style": "IPY_MODEL_3925d08d55fe4cb68d6a00f6ff558fc2"
      }
     },
     "c8e17fdc8f4d44629460e4db73f823e1": {
      "model_module": "@jupyter-widgets/controls",
      "model_module_version": "1.0.0",
      "model_name": "SliderStyleModel",
      "state": {
       "description_width": ""
      }
     },
     "ca0cc38c614d45df92fc3e3f4e337142": {
      "model_module": "@jupyter-widgets/controls",
      "model_module_version": "1.0.0",
      "model_name": "DescriptionStyleModel",
      "state": {
       "description_width": ""
      }
     },
     "ca7c942e54e0424a8be69aef82e2f5e7": {
      "model_module": "@jupyter-widgets/controls",
      "model_module_version": "1.0.0",
      "model_name": "IntTextModel",
      "state": {
       "description": "Module ID:",
       "layout": "IPY_MODEL_a5310090e40e432d8770dd4414ed641e",
       "step": 1,
       "style": "IPY_MODEL_ea85293f42c548d4bdaf8ffae6006b28"
      }
     },
     "cc4fc7c37b4e487e9062ee6c214e1f7b": {
      "model_module": "@jupyter-widgets/base",
      "model_module_version": "1.0.0",
      "model_name": "LayoutModel",
      "state": {}
     },
     "cc7ed07777cf45d685d8dc5fb70bf821": {
      "model_module": "@jupyter-widgets/controls",
      "model_module_version": "1.0.0",
      "model_name": "DescriptionStyleModel",
      "state": {
       "description_width": ""
      }
     },
     "ce2e429aba944c0aa60056fedef7ea0a": {
      "model_module": "@jupyter-widgets/base",
      "model_module_version": "1.0.0",
      "model_name": "LayoutModel",
      "state": {}
     },
     "ce32bff86013404fa234a4622799065f": {
      "model_module": "@jupyter-widgets/controls",
      "model_module_version": "1.0.0",
      "model_name": "DescriptionStyleModel",
      "state": {
       "description_width": ""
      }
     },
     "d0de90fb736d49bbb1170d48346fa5b1": {
      "model_module": "@jupyter-widgets/base",
      "model_module_version": "1.0.0",
      "model_name": "LayoutModel",
      "state": {}
     },
     "d18bd8f7bc1e4100b704da882d8bc8d6": {
      "model_module": "@jupyter-widgets/controls",
      "model_module_version": "1.0.0",
      "model_name": "IntTextModel",
      "state": {
       "description": "Module ID:",
       "layout": "IPY_MODEL_d37e2510858b45aab654dd74d348e35c",
       "step": 1,
       "style": "IPY_MODEL_8c3cf1e5fb094f5e9e4ed957b8b78b52",
       "value": 3831
      }
     },
     "d31c3be258224143b38515b66c8d3dd3": {
      "model_module": "@jupyter-widgets/controls",
      "model_module_version": "1.0.0",
      "model_name": "DescriptionStyleModel",
      "state": {
       "description_width": ""
      }
     },
     "d35e75ca772e4217953a9f5764b070fc": {
      "model_module": "@jupyter-widgets/base",
      "model_module_version": "1.0.0",
      "model_name": "LayoutModel",
      "state": {}
     },
     "d37e2510858b45aab654dd74d348e35c": {
      "model_module": "@jupyter-widgets/base",
      "model_module_version": "1.0.0",
      "model_name": "LayoutModel",
      "state": {}
     },
     "d40d7761a33d44bc9bdcdbb8e68445b3": {
      "model_module": "@jupyter-widgets/controls",
      "model_module_version": "1.0.0",
      "model_name": "DescriptionStyleModel",
      "state": {
       "description_width": ""
      }
     },
     "d5124f75be404b4089aadbedae3fc58c": {
      "model_module": "@jupyter-widgets/base",
      "model_module_version": "1.0.0",
      "model_name": "LayoutModel",
      "state": {}
     },
     "d526b5f60ec348b2a3aa9b92aeb65fbf": {
      "model_module": "@jupyter-widgets/output",
      "model_module_version": "1.0.0",
      "model_name": "OutputModel",
      "state": {
       "layout": "IPY_MODEL_34a731ae726f4b1182ff98bccef8f0f7",
       "outputs": [
        {
         "name": "stdout",
         "output_type": "stream",
         "text": "Trait module: ['EZH2', 'CELF1', 'RB1', 'CCND1', 'CCND3', 'RBL2', 'TFDP1', 'E2F5', 'E2F4', 'CDK6', 'E2F1', 'CDKN2A', 'MIR17HG', 'E2F3', 'CDK4', 'CCND2', 'RBL1', 'CDKN2D', 'CCNA2', 'CDK3', 'TFDP2', 'PELP1', 'E2F2', 'HIC1', 'CDCA4', 'ARID4A', 'CDKN2C', 'CABLES1', 'LIN9', 'SOD2', 'EED', 'KDM6A', 'CDKN2B', 'FBXW8', 'BRD2'] \n"
        }
       ]
      }
     },
     "d6401b00cc92474f9392ad3f7fd72da5": {
      "model_module": "@jupyter-widgets/base",
      "model_module_version": "1.0.0",
      "model_name": "LayoutModel",
      "state": {}
     },
     "d68a22a8a1744d52aaeabc708296e76b": {
      "model_module": "@jupyter-widgets/controls",
      "model_module_version": "1.0.0",
      "model_name": "DropdownModel",
      "state": {
       "_options_labels": [
        "All",
        "Anthropometric",
        "Cardiovascular",
        "Glycemic",
        "Immune",
        "Lipids",
        "Neurodegenerative",
        "Psychiatric",
        "Various"
       ],
       "description": "Trait Type:",
       "index": 4,
       "layout": "IPY_MODEL_38f347f80211423b8905484da05c754d",
       "style": "IPY_MODEL_ecaa00c2c91a4e1ebfb8123f08c33b56"
      }
     },
     "d694a800e5ac4c6cb44691512c8e11f0": {
      "model_module": "@jupyter-widgets/controls",
      "model_module_version": "1.0.0",
      "model_name": "DescriptionStyleModel",
      "state": {
       "description_width": ""
      }
     },
     "d6ef69ddab3b4932a7e11389d09a228a": {
      "model_module": "@jupyter-widgets/controls",
      "model_module_version": "1.0.0",
      "model_name": "IntSliderModel",
      "state": {
       "description": "Module Size",
       "layout": "IPY_MODEL_c5fd6b3924284ff592d8771fb13fdd35",
       "min": 3,
       "style": "IPY_MODEL_3f74b87b61164bc49c698f2e9d5471fb",
       "value": 3
      }
     },
     "d9a13192eadd471abbcf576689ba0061": {
      "model_module": "@jupyter-widgets/controls",
      "model_module_version": "1.0.0",
      "model_name": "DescriptionStyleModel",
      "state": {
       "description_width": ""
      }
     },
     "d9a3e189b9a94c1aaa1d9489534bee87": {
      "model_module": "@jupyter-widgets/controls",
      "model_module_version": "1.0.0",
      "model_name": "DescriptionStyleModel",
      "state": {
       "description_width": ""
      }
     },
     "da2c5dd418fc44e3abc8712dac4abebe": {
      "model_module": "@jupyter-widgets/controls",
      "model_module_version": "1.0.0",
      "model_name": "SliderStyleModel",
      "state": {
       "description_width": ""
      }
     },
     "da92b4d4dc014a2fa8f0ff56bfea0861": {
      "model_module": "@jupyter-widgets/controls",
      "model_module_version": "1.0.0",
      "model_name": "SliderStyleModel",
      "state": {
       "description_width": ""
      }
     },
     "daab7d2843d445bf908d3038581f0f1c": {
      "model_module": "@jupyter-widgets/base",
      "model_module_version": "1.0.0",
      "model_name": "LayoutModel",
      "state": {}
     },
     "db810a1e5cd84428ac42836119c2c18c": {
      "model_module": "@jupyter-widgets/controls",
      "model_module_version": "1.0.0",
      "model_name": "DescriptionStyleModel",
      "state": {
       "description_width": ""
      }
     },
     "dc67a8f1aff34f4d86ddb35691258788": {
      "model_module": "@jupyter-widgets/controls",
      "model_module_version": "1.0.0",
      "model_name": "DescriptionStyleModel",
      "state": {
       "description_width": ""
      }
     },
     "dc92ffc57aa544739781634ff9544ef6": {
      "model_module": "@jupyter-widgets/base",
      "model_module_version": "1.0.0",
      "model_name": "LayoutModel",
      "state": {}
     },
     "dd01dd76e10248e48ebee04915d18acb": {
      "model_module": "@jupyter-widgets/base",
      "model_module_version": "1.0.0",
      "model_name": "LayoutModel",
      "state": {}
     },
     "de837bf18c7c40f291384af4afbd3aac": {
      "model_module": "@jupyter-widgets/base",
      "model_module_version": "1.0.0",
      "model_name": "LayoutModel",
      "state": {}
     },
     "e2e0969219b54747946413173bc44cce": {
      "model_module": "@jupyter-widgets/base",
      "model_module_version": "1.0.0",
      "model_name": "LayoutModel",
      "state": {}
     },
     "e36317b24bb8471da2b344335b4ba0b8": {
      "model_module": "@jupyter-widgets/controls",
      "model_module_version": "1.0.0",
      "model_name": "IntTextModel",
      "state": {
       "description": "Module ID:",
       "layout": "IPY_MODEL_7fa9c76c63f54717afbdd1e011ffbc61",
       "step": 1,
       "style": "IPY_MODEL_372211d531b44844bf00d80dbec5efb5",
       "value": 3834
      }
     },
     "e363e165da7944ddacd69feb8a1674b6": {
      "model_module": "@jupyter-widgets/controls",
      "model_module_version": "1.0.0",
      "model_name": "DropdownModel",
      "state": {
       "_options_labels": [
        "All",
        "Anthropometric",
        "Cardiovascular",
        "Glycemic",
        "Immune",
        "Lipids",
        "Neurodegenerative",
        "Psychiatric",
        "Various"
       ],
       "description": "Trait Type:",
       "index": 1,
       "layout": "IPY_MODEL_39f6820f0baa45fe9aeed42b9a014e10",
       "style": "IPY_MODEL_73d9a19636394ef5ad660286577e455e"
      }
     },
     "e3e0782882814a829203431c44f74065": {
      "model_module": "@jupyter-widgets/controls",
      "model_module_version": "1.0.0",
      "model_name": "DescriptionStyleModel",
      "state": {
       "description_width": ""
      }
     },
     "e486651a3c304213b56e6df4dd1fbebe": {
      "model_module": "@jupyter-widgets/base",
      "model_module_version": "1.0.0",
      "model_name": "LayoutModel",
      "state": {}
     },
     "e5756c15bd5244089a3e6785fa7f1d66": {
      "model_module": "@jupyter-widgets/base",
      "model_module_version": "1.0.0",
      "model_name": "LayoutModel",
      "state": {}
     },
     "e59a8249af7148c2a6adcbdefb13e5c0": {
      "model_module": "@jupyter-widgets/base",
      "model_module_version": "1.0.0",
      "model_name": "LayoutModel",
      "state": {}
     },
     "e5fe021aae2c4a4489e1425ac4eb24f0": {
      "model_module": "@jupyter-widgets/controls",
      "model_module_version": "1.0.0",
      "model_name": "DropdownModel",
      "state": {
       "_options_labels": [
        "All",
        "Anthropometric",
        "Cardiovascular",
        "Glycemic",
        "Immune",
        "Lipids",
        "Neurodegenerative",
        "Psychiatric",
        "Various"
       ],
       "description": "Trait Type:",
       "index": 1,
       "layout": "IPY_MODEL_5079a6c816df4157a01cbb4e7dcc80ba",
       "style": "IPY_MODEL_3dbbe11501a44385be099d5623cccc95"
      }
     },
     "e62d1b12c16b40858261eab2991aa13c": {
      "model_module": "@jupyter-widgets/controls",
      "model_module_version": "1.0.0",
      "model_name": "LabelModel",
      "state": {
       "layout": "IPY_MODEL_2ef1ab8af3e841d9b4a2f192183013e7",
       "style": "IPY_MODEL_b9ba08dd80644e14a1cf9b01c92e2bc6",
       "value": "List of trait module by trait type and network:"
      }
     },
     "e6bfcbfde57b461b8f499394034fb522": {
      "model_module": "@jupyter-widgets/base",
      "model_module_version": "1.0.0",
      "model_name": "LayoutModel",
      "state": {}
     },
     "e76dc4d896cb4fefb78ca9c7bc7e3812": {
      "model_module": "@jupyter-widgets/controls",
      "model_module_version": "1.0.0",
      "model_name": "VBoxModel",
      "state": {
       "_dom_classes": [
        "widget-interact"
       ],
       "children": [
        "IPY_MODEL_c1b2a3541b9343cbb863878e3e3ea721",
        "IPY_MODEL_1e2a95beb2f340fba984856d4b135f4d",
        "IPY_MODEL_ad8b2d7838824881b80a65ef32ff0382",
        "IPY_MODEL_f0942d478ed843dd8a8f5f1e1228d43a",
        "IPY_MODEL_f22286161e734b73b9fc655034429ceb"
       ],
       "layout": "IPY_MODEL_97a0b4a0ac2849fd8e5ac28fab525783"
      }
     },
     "e876c69ec8ee453981143afda3e0751b": {
      "model_module": "@jupyter-widgets/controls",
      "model_module_version": "1.0.0",
      "model_name": "IntSliderModel",
      "state": {
       "description": "Module Size",
       "layout": "IPY_MODEL_31d93f0030344764a624040200305345",
       "min": 3,
       "style": "IPY_MODEL_e8e283b5e9b045fa93a9c47292b3bc98",
       "value": 33
      }
     },
     "e8e283b5e9b045fa93a9c47292b3bc98": {
      "model_module": "@jupyter-widgets/controls",
      "model_module_version": "1.0.0",
      "model_name": "SliderStyleModel",
      "state": {
       "description_width": ""
      }
     },
     "ea85293f42c548d4bdaf8ffae6006b28": {
      "model_module": "@jupyter-widgets/controls",
      "model_module_version": "1.0.0",
      "model_name": "DescriptionStyleModel",
      "state": {
       "description_width": ""
      }
     },
     "eb100fae2393471f887e1a6de064ce51": {
      "model_module": "@jupyter-widgets/base",
      "model_module_version": "1.0.0",
      "model_name": "LayoutModel",
      "state": {}
     },
     "ec50d17b51914cbf901163e8535844a2": {
      "model_module": "@jupyter-widgets/output",
      "model_module_version": "1.0.0",
      "model_name": "OutputModel",
      "state": {
       "layout": "IPY_MODEL_3de1dbaeb7964a7ab7d42acd3c395c6e",
       "outputs": [
        {
         "data": {
          "text/html": "<iframe id=\"igraph\" scrolling=\"no\" style=\"border:none;\" seamless=\"seamless\" src=\"https://plot.ly/~sarvenaz/14.embed\" height=\"800px\" width=\"800px\"></iframe>",
          "text/plain": "<plotly.tools.PlotlyDisplay object>"
         },
         "metadata": {},
         "output_type": "display_data"
        }
       ]
      }
     },
     "ecaa00c2c91a4e1ebfb8123f08c33b56": {
      "model_module": "@jupyter-widgets/controls",
      "model_module_version": "1.0.0",
      "model_name": "DescriptionStyleModel",
      "state": {
       "description_width": ""
      }
     },
     "ecb726a0ea2d4336950b5f1ff90d681e": {
      "model_module": "@jupyter-widgets/base",
      "model_module_version": "1.0.0",
      "model_name": "LayoutModel",
      "state": {}
     },
     "eda6bd1c67904a5e950e4897bb1e13ab": {
      "model_module": "@jupyter-widgets/base",
      "model_module_version": "1.0.0",
      "model_name": "LayoutModel",
      "state": {}
     },
     "ee2a6f4bc05447f499ff58d588998663": {
      "model_module": "@jupyter-widgets/base",
      "model_module_version": "1.0.0",
      "model_name": "LayoutModel",
      "state": {}
     },
     "ef1fe8bb9e8c4117ad321d0311b84fc4": {
      "model_module": "@jupyter-widgets/controls",
      "model_module_version": "1.0.0",
      "model_name": "IntSliderModel",
      "state": {
       "description": "Module Size",
       "layout": "IPY_MODEL_452df369c1b04b36bbf6f11b0f7ae015",
       "min": 3,
       "style": "IPY_MODEL_23b7c600eecd4c14931d1c2618683b47",
       "value": 3
      }
     },
     "ef7b60debff64582987c1d0184aa9a5d": {
      "model_module": "@jupyter-widgets/base",
      "model_module_version": "1.0.0",
      "model_name": "LayoutModel",
      "state": {}
     },
     "ef8dded9ade54e6aa81d785042859c33": {
      "model_module": "@jupyter-widgets/base",
      "model_module_version": "1.0.0",
      "model_name": "LayoutModel",
      "state": {}
     },
     "ef9306e146594844bfdeb497c6ef8778": {
      "model_module": "@jupyter-widgets/controls",
      "model_module_version": "1.0.0",
      "model_name": "IntTextModel",
      "state": {
       "description": "Module ID:",
       "layout": "IPY_MODEL_e2e0969219b54747946413173bc44cce",
       "step": 1,
       "style": "IPY_MODEL_02c7438f05f14b7cac04fd386c3547e7",
       "value": 3831
      }
     },
     "eff2c2e8e2ed4f5695cf9790ff2cda2f": {
      "model_module": "@jupyter-widgets/controls",
      "model_module_version": "1.0.0",
      "model_name": "SliderStyleModel",
      "state": {
       "description_width": ""
      }
     },
     "f0942d478ed843dd8a8f5f1e1228d43a": {
      "model_module": "@jupyter-widgets/controls",
      "model_module_version": "1.0.0",
      "model_name": "IntTextModel",
      "state": {
       "description": "Module ID:",
       "layout": "IPY_MODEL_8dfebfbd97d947848e57578115f20030",
       "step": 1,
       "style": "IPY_MODEL_54af2cae3f4e4c1abd731bb1b5b28d3a",
       "value": 3831
      }
     },
     "f0fdba8aa2e242b995849c55e622f0b5": {
      "model_module": "@jupyter-widgets/controls",
      "model_module_version": "1.0.0",
      "model_name": "LabelModel",
      "state": {
       "layout": "IPY_MODEL_21499df5f64d4abb9c2c1d398568bbc2",
       "style": "IPY_MODEL_9ff49a6551e84ca4b7c756be809a42a3",
       "value": "List of trait module by trait type and network:"
      }
     },
     "f10eca3a85c345dea2c0aa2f5db11b32": {
      "model_module": "@jupyter-widgets/controls",
      "model_module_version": "1.0.0",
      "model_name": "VBoxModel",
      "state": {
       "_dom_classes": [
        "widget-interact"
       ],
       "children": [
        "IPY_MODEL_b0ae1bf95f0d4771ba6af640bb8cc604",
        "IPY_MODEL_87514ee041864022975f4f27e063ca5e",
        "IPY_MODEL_a1a99099910c465087c2b88cf3dee8cc",
        "IPY_MODEL_6e8c03933e4142f0becd894b0e3396eb",
        "IPY_MODEL_621dbddc17094c87be7d0d0ae73bb25c"
       ],
       "layout": "IPY_MODEL_af884e84aa784b318859c6c883778f3f"
      }
     },
     "f22286161e734b73b9fc655034429ceb": {
      "model_module": "@jupyter-widgets/output",
      "model_module_version": "1.0.0",
      "model_name": "OutputModel",
      "state": {
       "layout": "IPY_MODEL_e486651a3c304213b56e6df4dd1fbebe",
       "outputs": [
        {
         "data": {
          "text/html": "<iframe id=\"igraph\" scrolling=\"no\" style=\"border:none;\" seamless=\"seamless\" src=\"https://plot.ly/~sarvenaz/14.embed\" height=\"800px\" width=\"800px\"></iframe>",
          "text/plain": "<plotly.tools.PlotlyDisplay object>"
         },
         "metadata": {},
         "output_type": "display_data"
        }
       ]
      }
     },
     "f2f55bea778c46268ad65c5ebf496165": {
      "model_module": "@jupyter-widgets/base",
      "model_module_version": "1.0.0",
      "model_name": "LayoutModel",
      "state": {}
     },
     "f35074856e8f43e69cf4927608e8751c": {
      "model_module": "@jupyter-widgets/base",
      "model_module_version": "1.0.0",
      "model_name": "LayoutModel",
      "state": {}
     },
     "f36bb2cacac0454282c9173d173e07db": {
      "model_module": "@jupyter-widgets/controls",
      "model_module_version": "1.0.0",
      "model_name": "VBoxModel",
      "state": {
       "_dom_classes": [
        "widget-interact"
       ],
       "children": [
        "IPY_MODEL_e363e165da7944ddacd69feb8a1674b6",
        "IPY_MODEL_c276a186bae94662b9a1d969baa3d696",
        "IPY_MODEL_34004bc09bd14f94b05518db35d4c771",
        "IPY_MODEL_ef9306e146594844bfdeb497c6ef8778",
        "IPY_MODEL_f50b047de5e24fab82a50925c625fbd1"
       ],
       "layout": "IPY_MODEL_5339f06521a84f3888e5bf4d2408eaef"
      }
     },
     "f3b43f7edfeb45b4925bc20c3720c0e0": {
      "model_module": "@jupyter-widgets/base",
      "model_module_version": "1.0.0",
      "model_name": "LayoutModel",
      "state": {}
     },
     "f3d3b8f478e04b7ea61935ed8d093a58": {
      "model_module": "@jupyter-widgets/output",
      "model_module_version": "1.0.0",
      "model_name": "OutputModel",
      "state": {
       "layout": "IPY_MODEL_999c2b5f46e64af7b540b6dd15769aee",
       "outputs": [
        {
         "name": "stdout",
         "output_type": "stream",
         "text": "\n"
        }
       ]
      }
     },
     "f4233cf1c0fd4266ba30a2cd9d7c08af": {
      "model_module": "@jupyter-widgets/controls",
      "model_module_version": "1.0.0",
      "model_name": "DescriptionStyleModel",
      "state": {
       "description_width": ""
      }
     },
     "f4319d0a705440e8baba92203769b42a": {
      "model_module": "@jupyter-widgets/controls",
      "model_module_version": "1.0.0",
      "model_name": "DescriptionStyleModel",
      "state": {
       "description_width": ""
      }
     },
     "f4a1117754334a3f9cdf2a255819a084": {
      "model_module": "@jupyter-widgets/controls",
      "model_module_version": "1.0.0",
      "model_name": "SliderStyleModel",
      "state": {
       "description_width": ""
      }
     },
     "f50b047de5e24fab82a50925c625fbd1": {
      "model_module": "@jupyter-widgets/output",
      "model_module_version": "1.0.0",
      "model_name": "OutputModel",
      "state": {
       "layout": "IPY_MODEL_cc4fc7c37b4e487e9062ee6c214e1f7b",
       "outputs": [
        {
         "name": "stdout",
         "output_type": "stream",
         "text": "[('E2F1', u'CDKN2A'), ('E2F1', u'CCNA2'), ('E2F1', u'HIC1'), ('E2F1', u'RB1'), ('E2F1', u'EZH2'), ('E2F1', u'MIR17HG'), ('E2F1', u'CDCA4'), ('E2F1', u'EED'), ('E2F1', 'TFDP2'), ('E2F1', 'TFDP1'), ('E2F1', u'RBL1'), ('CELF1', 'CDK4'), ('PELP1', 'CDK4'), ('EZH2', 'EED'), ('EZH2', 'E2F2'), ('MIR17HG', 'E2F3'), ('MIR17HG', 'E2F2'), ('EED', 'E2F2'), ('ARID4A', 'RB1'), ('CCNA2', 'RBL1'), ('CCNA2', 'RB1'), ('RBL2', 'E2F5'), ('RBL2', 'E2F4'), ('RBL2', 'CCND1'), ('RBL2', 'CDK4'), ('RBL2', 'CDK6'), ('RBL2', 'TFDP1'), ('RB1', 'E2F4'), ('RB1', 'E2F2'), ('RB1', 'CCND1'), ('RB1', 'CCND3'), ('RB1', 'CCND2'), ('RB1', 'E2F3'), ('RB1', 'CDK3'), ('RB1', 'KDM6A'), ('RB1', 'CDK6'), ('RB1', 'CDK4'), ('RB1', 'TFDP2'), ('RB1', 'TFDP1'), ('FBXW8', 'CCND1'), ('CABLES1', 'CDK3'), ('CDKN2B', 'CDK4'), ('CDKN2C', 'CDK4'), ('CDKN2C', 'CDK6'), ('CDKN2A', 'CDK6'), ('CDKN2A', 'CDK4'), ('CDKN2A', 'E2F3'), ('CDKN2A', 'E2F2'), ('SOD2', 'CDK4'), ('RBL1', 'E2F5'), ('RBL1', 'E2F4'), ('RBL1', 'CCND1'), ('RBL1', 'CDK4'), ('RBL1', 'TFDP2'), ('RBL1', 'TFDP1'), ('CDKN2D', 'CDK4'), ('CDKN2D', 'CDK6'), ('BRD2', 'E2F2'), ('E2F5', 'TFDP1'), ('E2F5', 'E2F4'), ('E2F4', 'TFDP2'), ('E2F4', 'TFDP1'), ('E2F3', 'TFDP1'), ('E2F2', 'TFDP1'), ('E2F2', 'TFDP2'), ('LIN9', 'CDK3'), ('CCND1', 'CDK4'), ('CCND1', 'CDK6'), ('CCND3', 'CDK4'), ('CCND3', 'CDK6'), ('CCND2', 'CDK4'), ('CCND2', 'CDK6')]\n"
        },
        {
         "ename": "AttributeError",
         "evalue": "'list' object has no attribute 'nodes'",
         "output_type": "error",
         "traceback": [
          "\u001b[0;31m---------------------------------------------------------------------------\u001b[0m",
          "\u001b[0;31mAttributeError\u001b[0m                            Traceback (most recent call last)",
          "\u001b[0;32m/Users/schoobdar/anaconda2/lib/python2.7/site-packages/ipywidgets/widgets/interaction.pyc\u001b[0m in \u001b[0;36mupdate\u001b[0;34m(self, *args)\u001b[0m\n\u001b[1;32m    248\u001b[0m                     \u001b[0mvalue\u001b[0m \u001b[0;34m=\u001b[0m \u001b[0mwidget\u001b[0m\u001b[0;34m.\u001b[0m\u001b[0mget_interact_value\u001b[0m\u001b[0;34m(\u001b[0m\u001b[0;34m)\u001b[0m\u001b[0;34m\u001b[0m\u001b[0m\n\u001b[1;32m    249\u001b[0m                     \u001b[0mself\u001b[0m\u001b[0;34m.\u001b[0m\u001b[0mkwargs\u001b[0m\u001b[0;34m[\u001b[0m\u001b[0mwidget\u001b[0m\u001b[0;34m.\u001b[0m\u001b[0m_kwarg\u001b[0m\u001b[0;34m]\u001b[0m \u001b[0;34m=\u001b[0m \u001b[0mvalue\u001b[0m\u001b[0;34m\u001b[0m\u001b[0m\n\u001b[0;32m--> 250\u001b[0;31m                 \u001b[0mself\u001b[0m\u001b[0;34m.\u001b[0m\u001b[0mresult\u001b[0m \u001b[0;34m=\u001b[0m \u001b[0mself\u001b[0m\u001b[0;34m.\u001b[0m\u001b[0mf\u001b[0m\u001b[0;34m(\u001b[0m\u001b[0;34m**\u001b[0m\u001b[0mself\u001b[0m\u001b[0;34m.\u001b[0m\u001b[0mkwargs\u001b[0m\u001b[0;34m)\u001b[0m\u001b[0;34m\u001b[0m\u001b[0m\n\u001b[0m\u001b[1;32m    251\u001b[0m                 \u001b[0mshow_inline_matplotlib_plots\u001b[0m\u001b[0;34m(\u001b[0m\u001b[0;34m)\u001b[0m\u001b[0;34m\u001b[0m\u001b[0m\n\u001b[1;32m    252\u001b[0m                 \u001b[0;32mif\u001b[0m \u001b[0mself\u001b[0m\u001b[0;34m.\u001b[0m\u001b[0mauto_display\u001b[0m \u001b[0;32mand\u001b[0m \u001b[0mself\u001b[0m\u001b[0;34m.\u001b[0m\u001b[0mresult\u001b[0m \u001b[0;32mis\u001b[0m \u001b[0;32mnot\u001b[0m \u001b[0mNone\u001b[0m\u001b[0;34m:\u001b[0m\u001b[0;34m\u001b[0m\u001b[0m\n",
          "\u001b[0;32m<ipython-input-6-3a5f2f5916ec>\u001b[0m in \u001b[0;36mview3\u001b[0;34m(x, z, y, d)\u001b[0m\n\u001b[1;32m     49\u001b[0m         \u001b[0msg\u001b[0m \u001b[0;34m=\u001b[0m \u001b[0mG\u001b[0m\u001b[0;34m.\u001b[0m\u001b[0msubgraph\u001b[0m\u001b[0;34m(\u001b[0m\u001b[0mselected_m\u001b[0m\u001b[0;34m)\u001b[0m\u001b[0;34m.\u001b[0m\u001b[0medges\u001b[0m\u001b[0;34m(\u001b[0m\u001b[0;34m)\u001b[0m\u001b[0;34m\u001b[0m\u001b[0m\n\u001b[1;32m     50\u001b[0m         \u001b[0;32mprint\u001b[0m \u001b[0msg\u001b[0m\u001b[0;34m\u001b[0m\u001b[0m\n\u001b[0;32m---> 51\u001b[0;31m         \u001b[0;32mreturn\u001b[0m \u001b[0mplot_net\u001b[0m\u001b[0;34m(\u001b[0m\u001b[0msg\u001b[0m\u001b[0;34m)\u001b[0m\u001b[0;34m\u001b[0m\u001b[0m\n\u001b[0m\u001b[1;32m     52\u001b[0m     \u001b[0;32mreturn\u001b[0m \u001b[0mres\u001b[0m \u001b[0;31m#py.iplot(table, filename='pandas_table')\u001b[0m\u001b[0;34m\u001b[0m\u001b[0m\n\u001b[1;32m     53\u001b[0m \u001b[0;34m\u001b[0m\u001b[0m\n",
          "\u001b[0;32m<ipython-input-4-382d22f3f488>\u001b[0m in \u001b[0;36mplot_net\u001b[0;34m(g)\u001b[0m\n\u001b[1;32m      3\u001b[0m \u001b[0;34m\u001b[0m\u001b[0m\n\u001b[1;32m      4\u001b[0m \u001b[0;32mdef\u001b[0m \u001b[0mplot_net\u001b[0m\u001b[0;34m(\u001b[0m\u001b[0mg\u001b[0m\u001b[0;34m)\u001b[0m\u001b[0;34m:\u001b[0m\u001b[0;34m\u001b[0m\u001b[0m\n\u001b[0;32m----> 5\u001b[0;31m     \u001b[0mpos\u001b[0m\u001b[0;34m=\u001b[0m\u001b[0mnx\u001b[0m\u001b[0;34m.\u001b[0m\u001b[0mfruchterman_reingold_layout\u001b[0m\u001b[0;34m(\u001b[0m\u001b[0mg\u001b[0m\u001b[0;34m)\u001b[0m\u001b[0;34m\u001b[0m\u001b[0m\n\u001b[0m\u001b[1;32m      6\u001b[0m     \u001b[0mN\u001b[0m \u001b[0;34m=\u001b[0m \u001b[0mnx\u001b[0m\u001b[0;34m.\u001b[0m\u001b[0mnumber_of_nodes\u001b[0m\u001b[0;34m(\u001b[0m\u001b[0mg\u001b[0m\u001b[0;34m)\u001b[0m\u001b[0;34m\u001b[0m\u001b[0m\n\u001b[1;32m      7\u001b[0m     \u001b[0mlabels\u001b[0m \u001b[0;34m=\u001b[0m \u001b[0;34m[\u001b[0m\u001b[0mstr\u001b[0m\u001b[0;34m(\u001b[0m\u001b[0mu\u001b[0m\u001b[0;34m[\u001b[0m\u001b[0;36m1\u001b[0m\u001b[0;34m]\u001b[0m\u001b[0;34m[\u001b[0m\u001b[0;34m'name'\u001b[0m\u001b[0;34m]\u001b[0m\u001b[0;34m)\u001b[0m \u001b[0;32mfor\u001b[0m \u001b[0mu\u001b[0m \u001b[0;32min\u001b[0m \u001b[0mg\u001b[0m\u001b[0;34m.\u001b[0m\u001b[0mnodes\u001b[0m\u001b[0;34m(\u001b[0m\u001b[0mdata\u001b[0m\u001b[0;34m=\u001b[0m\u001b[0mTrue\u001b[0m\u001b[0;34m)\u001b[0m\u001b[0;34m]\u001b[0m\u001b[0;34m\u001b[0m\u001b[0m\n",
          "\u001b[0;32m/Users/schoobdar/anaconda2/lib/python2.7/site-packages/networkx/drawing/layout.pyc\u001b[0m in \u001b[0;36mfruchterman_reingold_layout\u001b[0;34m(G, dim, k, pos, fixed, iterations, weight, scale, center)\u001b[0m\n\u001b[1;32m    285\u001b[0m         \u001b[0mpos\u001b[0m \u001b[0;34m=\u001b[0m \u001b[0m_sparse_fruchterman_reingold\u001b[0m\u001b[0;34m(\u001b[0m\u001b[0mA\u001b[0m\u001b[0;34m,\u001b[0m\u001b[0mdim\u001b[0m\u001b[0;34m,\u001b[0m\u001b[0mk\u001b[0m\u001b[0;34m,\u001b[0m\u001b[0mpos_arr\u001b[0m\u001b[0;34m,\u001b[0m\u001b[0mfixed\u001b[0m\u001b[0;34m,\u001b[0m\u001b[0miterations\u001b[0m\u001b[0;34m)\u001b[0m\u001b[0;34m\u001b[0m\u001b[0m\n\u001b[1;32m    286\u001b[0m     \u001b[0;32mexcept\u001b[0m\u001b[0;34m:\u001b[0m\u001b[0;34m\u001b[0m\u001b[0m\n\u001b[0;32m--> 287\u001b[0;31m         \u001b[0mA\u001b[0m \u001b[0;34m=\u001b[0m \u001b[0mnx\u001b[0m\u001b[0;34m.\u001b[0m\u001b[0mto_numpy_matrix\u001b[0m\u001b[0;34m(\u001b[0m\u001b[0mG\u001b[0m\u001b[0;34m,\u001b[0m \u001b[0mweight\u001b[0m\u001b[0;34m=\u001b[0m\u001b[0mweight\u001b[0m\u001b[0;34m)\u001b[0m\u001b[0;34m\u001b[0m\u001b[0m\n\u001b[0m\u001b[1;32m    288\u001b[0m         \u001b[0mpos\u001b[0m \u001b[0;34m=\u001b[0m \u001b[0m_fruchterman_reingold\u001b[0m\u001b[0;34m(\u001b[0m\u001b[0mA\u001b[0m\u001b[0;34m,\u001b[0m \u001b[0mdim\u001b[0m\u001b[0;34m,\u001b[0m \u001b[0mk\u001b[0m\u001b[0;34m,\u001b[0m \u001b[0mpos_arr\u001b[0m\u001b[0;34m,\u001b[0m \u001b[0mfixed\u001b[0m\u001b[0;34m,\u001b[0m \u001b[0miterations\u001b[0m\u001b[0;34m)\u001b[0m\u001b[0;34m\u001b[0m\u001b[0m\n\u001b[1;32m    289\u001b[0m \u001b[0;34m\u001b[0m\u001b[0m\n",
          "\u001b[0;32m/Users/schoobdar/anaconda2/lib/python2.7/site-packages/networkx/convert_matrix.pyc\u001b[0m in \u001b[0;36mto_numpy_matrix\u001b[0;34m(G, nodelist, dtype, order, multigraph_weight, weight, nonedge)\u001b[0m\n\u001b[1;32m    306\u001b[0m     \u001b[0;32mimport\u001b[0m \u001b[0mnumpy\u001b[0m \u001b[0;32mas\u001b[0m \u001b[0mnp\u001b[0m\u001b[0;34m\u001b[0m\u001b[0m\n\u001b[1;32m    307\u001b[0m     \u001b[0;32mif\u001b[0m \u001b[0mnodelist\u001b[0m \u001b[0;32mis\u001b[0m \u001b[0mNone\u001b[0m\u001b[0;34m:\u001b[0m\u001b[0;34m\u001b[0m\u001b[0m\n\u001b[0;32m--> 308\u001b[0;31m         \u001b[0mnodelist\u001b[0m \u001b[0;34m=\u001b[0m \u001b[0mG\u001b[0m\u001b[0;34m.\u001b[0m\u001b[0mnodes\u001b[0m\u001b[0;34m(\u001b[0m\u001b[0;34m)\u001b[0m\u001b[0;34m\u001b[0m\u001b[0m\n\u001b[0m\u001b[1;32m    309\u001b[0m     \u001b[0mnodeset\u001b[0m \u001b[0;34m=\u001b[0m \u001b[0mset\u001b[0m\u001b[0;34m(\u001b[0m\u001b[0mnodelist\u001b[0m\u001b[0;34m)\u001b[0m\u001b[0;34m\u001b[0m\u001b[0m\n\u001b[1;32m    310\u001b[0m     \u001b[0;32mif\u001b[0m \u001b[0mlen\u001b[0m\u001b[0;34m(\u001b[0m\u001b[0mnodelist\u001b[0m\u001b[0;34m)\u001b[0m \u001b[0;34m!=\u001b[0m \u001b[0mlen\u001b[0m\u001b[0;34m(\u001b[0m\u001b[0mnodeset\u001b[0m\u001b[0;34m)\u001b[0m\u001b[0;34m:\u001b[0m\u001b[0;34m\u001b[0m\u001b[0m\n",
          "\u001b[0;31mAttributeError\u001b[0m: 'list' object has no attribute 'nodes'"
         ]
        }
       ]
      }
     },
     "f61b68658b084723852075cd958281f1": {
      "model_module": "@jupyter-widgets/controls",
      "model_module_version": "1.0.0",
      "model_name": "DescriptionStyleModel",
      "state": {
       "description_width": ""
      }
     },
     "f633564d90fd4b8bab77388f2a263298": {
      "model_module": "@jupyter-widgets/controls",
      "model_module_version": "1.0.0",
      "model_name": "DescriptionStyleModel",
      "state": {
       "description_width": ""
      }
     },
     "f82817c0cffc4278b8d898d583a294c6": {
      "model_module": "@jupyter-widgets/base",
      "model_module_version": "1.0.0",
      "model_name": "LayoutModel",
      "state": {}
     },
     "f9914062a44e4e11b9b036af4cc3e8a1": {
      "model_module": "@jupyter-widgets/base",
      "model_module_version": "1.0.0",
      "model_name": "LayoutModel",
      "state": {}
     },
     "fb20fa03f5624947b0c6dc5e14c0a7e5": {
      "model_module": "@jupyter-widgets/controls",
      "model_module_version": "1.0.0",
      "model_name": "IntSliderModel",
      "state": {
       "description": "Module Size",
       "layout": "IPY_MODEL_f35074856e8f43e69cf4927608e8751c",
       "min": 3,
       "style": "IPY_MODEL_261eff8abe4b470a991b3fb5f3137dcc",
       "value": 39
      }
     },
     "fd77174e5744404f97b107c2b1c0cb7c": {
      "model_module": "@jupyter-widgets/base",
      "model_module_version": "1.0.0",
      "model_name": "LayoutModel",
      "state": {}
     },
     "fe118aca1a0d4279b1037cede6beb391": {
      "model_module": "@jupyter-widgets/base",
      "model_module_version": "1.0.0",
      "model_name": "LayoutModel",
      "state": {}
     },
     "ff79a5941b48489a819619f0aa016fa9": {
      "model_module": "@jupyter-widgets/controls",
      "model_module_version": "1.0.0",
      "model_name": "DescriptionStyleModel",
      "state": {
       "description_width": ""
      }
     }
    },
    "version_major": 2,
    "version_minor": 0
   }
  }
 },
 "nbformat": 4,
 "nbformat_minor": 2
}
